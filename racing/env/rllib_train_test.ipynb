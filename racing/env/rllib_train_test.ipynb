{
 "cells": [
  {
   "cell_type": "markdown",
   "id": "8f48560f-d0cc-4024-b68d-d97e5748d9d5",
   "metadata": {},
   "source": [
    "# Basic Example"
   ]
  },
  {
   "cell_type": "code",
   "execution_count": 1,
   "id": "4f4e2c1c-d222-4488-b5eb-1f4ec477861e",
   "metadata": {},
   "outputs": [],
   "source": [
    "# !pip install gymnasium\n",
    "# !pip install ray==2.7.0\n",
    "# !pip install -U ray[rllib]==2.7.0\n",
    "# !pip install torch\n",
    "import csbsingleenv\n",
    "from ray.air.integrations.wandb import WandbLoggerCallback, setup_wandb\n",
    "import wandb"
   ]
  },
  {
   "cell_type": "code",
   "execution_count": 2,
   "id": "c9de3ddf",
   "metadata": {},
   "outputs": [
    {
     "name": "stderr",
     "output_type": "stream",
     "text": [
      "Failed to detect the name of this notebook, you can set it manually with the WANDB_NOTEBOOK_NAME environment variable to enable code saving.\n",
      "\u001b[34m\u001b[1mwandb\u001b[0m: Currently logged in as: \u001b[33mtristntran\u001b[0m (\u001b[33mrl-class-2024\u001b[0m). Use \u001b[1m`wandb login --relogin`\u001b[0m to force relogin\n"
     ]
    },
    {
     "data": {
      "text/html": [
       "Tracking run with wandb version 0.17.0"
      ],
      "text/plain": [
       "<IPython.core.display.HTML object>"
      ]
     },
     "metadata": {},
     "output_type": "display_data"
    },
    {
     "data": {
      "text/html": [
       "Run data is saved locally in <code>/home/healthcare/Desktop/Tristan/rl-projects/racing/env/wandb/run-20240512_170008-zoo74yl6</code>"
      ],
      "text/plain": [
       "<IPython.core.display.HTML object>"
      ]
     },
     "metadata": {},
     "output_type": "display_data"
    },
    {
     "data": {
      "text/html": [
       "Syncing run <strong><a href='https://wandb.ai/rl-class-2024/RL-Projects/runs/zoo74yl6' target=\"_blank\">lively-night-8</a></strong> to <a href='https://wandb.ai/rl-class-2024/RL-Projects' target=\"_blank\">Weights & Biases</a> (<a href='https://wandb.me/run' target=\"_blank\">docs</a>)<br/>"
      ],
      "text/plain": [
       "<IPython.core.display.HTML object>"
      ]
     },
     "metadata": {},
     "output_type": "display_data"
    },
    {
     "data": {
      "text/html": [
       " View project at <a href='https://wandb.ai/rl-class-2024/RL-Projects' target=\"_blank\">https://wandb.ai/rl-class-2024/RL-Projects</a>"
      ],
      "text/plain": [
       "<IPython.core.display.HTML object>"
      ]
     },
     "metadata": {},
     "output_type": "display_data"
    },
    {
     "data": {
      "text/html": [
       " View run at <a href='https://wandb.ai/rl-class-2024/RL-Projects/runs/zoo74yl6' target=\"_blank\">https://wandb.ai/rl-class-2024/RL-Projects/runs/zoo74yl6</a>"
      ],
      "text/plain": [
       "<IPython.core.display.HTML object>"
      ]
     },
     "metadata": {},
     "output_type": "display_data"
    },
    {
     "data": {
      "text/html": [
       "<button onClick=\"this.nextSibling.style.display='block';this.style.display='none';\">Display W&B run</button><iframe src='https://wandb.ai/rl-class-2024/RL-Projects/runs/zoo74yl6?jupyter=true' style='border:none;width:100%;height:420px;display:none;'></iframe>"
      ],
      "text/plain": [
       "<wandb.sdk.wandb_run.Run at 0x7fa1df051a50>"
      ]
     },
     "execution_count": 2,
     "metadata": {},
     "output_type": "execute_result"
    }
   ],
   "source": [
    "wandb.init(entity=\"rl-class-2024\",\n",
    "           project=\"RL-Projects\")"
   ]
  },
  {
   "cell_type": "code",
   "execution_count": 3,
   "id": "c72af8d7",
   "metadata": {},
   "outputs": [
    {
     "name": "stderr",
     "output_type": "stream",
     "text": [
      "/home/healthcare/.local/lib/python3.10/site-packages/ray/train/_internal/session.py:829: UserWarning: `get_trial_id` is meant to only be called inside a function that is executed by a Tuner or Trainer. Returning `None`.\n",
      "  warnings.warn(\n",
      "/home/healthcare/.local/lib/python3.10/site-packages/ray/train/_internal/session.py:829: UserWarning: `get_trial_name` is meant to only be called inside a function that is executed by a Tuner or Trainer. Returning `None`.\n",
      "  warnings.warn(\n",
      "/home/healthcare/.local/lib/python3.10/site-packages/ray/train/_internal/session.py:829: UserWarning: `get_experiment_name` is meant to only be called inside a function that is executed by a Tuner or Trainer. Returning `None`.\n",
      "  warnings.warn(\n",
      "2024-05-12 17:00:11,046\tINFO wandb.py:308 -- Already logged into W&B.\n"
     ]
    },
    {
     "data": {
      "text/html": [
       "Changes to your `wandb` environment variables will be ignored because your `wandb` session has already started. For more information on how to modify your settings with `wandb.init()` arguments, please refer to <a href='https://wandb.me/wandb-init' target=\"_blank\">the W&B docs</a>."
      ],
      "text/plain": [
       "<IPython.core.display.HTML object>"
      ]
     },
     "metadata": {},
     "output_type": "display_data"
    },
    {
     "data": {
      "text/html": [
       "Finishing last run (ID:zoo74yl6) before initializing another..."
      ],
      "text/plain": [
       "<IPython.core.display.HTML object>"
      ]
     },
     "metadata": {},
     "output_type": "display_data"
    },
    {
     "data": {
      "application/vnd.jupyter.widget-view+json": {
       "model_id": "cb582276e31d4cc2a74d73f5d9fc5144",
       "version_major": 2,
       "version_minor": 0
      },
      "text/plain": [
       "VBox(children=(Label(value='0.004 MB of 0.004 MB uploaded\\r'), FloatProgress(value=1.0, max=1.0)))"
      ]
     },
     "metadata": {},
     "output_type": "display_data"
    },
    {
     "data": {
      "text/html": [
       " View run <strong style=\"color:#cdcd00\">lively-night-8</strong> at: <a href='https://wandb.ai/rl-class-2024/RL-Projects/runs/zoo74yl6' target=\"_blank\">https://wandb.ai/rl-class-2024/RL-Projects/runs/zoo74yl6</a><br/> View project at: <a href='https://wandb.ai/rl-class-2024/RL-Projects' target=\"_blank\">https://wandb.ai/rl-class-2024/RL-Projects</a><br/>Synced 5 W&B file(s), 0 media file(s), 0 artifact file(s) and 0 other file(s)"
      ],
      "text/plain": [
       "<IPython.core.display.HTML object>"
      ]
     },
     "metadata": {},
     "output_type": "display_data"
    },
    {
     "data": {
      "text/html": [
       "Find logs at: <code>./wandb/run-20240512_170008-zoo74yl6/logs</code>"
      ],
      "text/plain": [
       "<IPython.core.display.HTML object>"
      ]
     },
     "metadata": {},
     "output_type": "display_data"
    },
    {
     "data": {
      "text/html": [
       "Successfully finished last run (ID:zoo74yl6). Initializing new run:<br/>"
      ],
      "text/plain": [
       "<IPython.core.display.HTML object>"
      ]
     },
     "metadata": {},
     "output_type": "display_data"
    },
    {
     "data": {
      "application/vnd.jupyter.widget-view+json": {
       "model_id": "78a32ffdc9a643328975d38bc52407d4",
       "version_major": 2,
       "version_minor": 0
      },
      "text/plain": [
       "VBox(children=(Label(value='Waiting for wandb.init()...\\r'), FloatProgress(value=0.011112426583551698, max=1.0…"
      ]
     },
     "metadata": {},
     "output_type": "display_data"
    },
    {
     "data": {
      "text/html": [
       "Tracking run with wandb version 0.17.0"
      ],
      "text/plain": [
       "<IPython.core.display.HTML object>"
      ]
     },
     "metadata": {},
     "output_type": "display_data"
    },
    {
     "data": {
      "text/html": [
       "Run data is saved locally in <code>/home/healthcare/Desktop/Tristan/rl-projects/racing/env/wandb/run-20240512_170011-bvlrlfst</code>"
      ],
      "text/plain": [
       "<IPython.core.display.HTML object>"
      ]
     },
     "metadata": {},
     "output_type": "display_data"
    },
    {
     "data": {
      "text/html": [
       "Syncing run <strong><a href='https://wandb.ai/tristntran/rl-projects-racing_env/runs/bvlrlfst' target=\"_blank\">divine-dust-5</a></strong> to <a href='https://wandb.ai/tristntran/rl-projects-racing_env' target=\"_blank\">Weights & Biases</a> (<a href='https://wandb.me/run' target=\"_blank\">docs</a>)<br/>"
      ],
      "text/plain": [
       "<IPython.core.display.HTML object>"
      ]
     },
     "metadata": {},
     "output_type": "display_data"
    },
    {
     "data": {
      "text/html": [
       " View project at <a href='https://wandb.ai/tristntran/rl-projects-racing_env' target=\"_blank\">https://wandb.ai/tristntran/rl-projects-racing_env</a>"
      ],
      "text/plain": [
       "<IPython.core.display.HTML object>"
      ]
     },
     "metadata": {},
     "output_type": "display_data"
    },
    {
     "data": {
      "text/html": [
       " View run at <a href='https://wandb.ai/tristntran/rl-projects-racing_env/runs/bvlrlfst' target=\"_blank\">https://wandb.ai/tristntran/rl-projects-racing_env/runs/bvlrlfst</a>"
      ],
      "text/plain": [
       "<IPython.core.display.HTML object>"
      ]
     },
     "metadata": {},
     "output_type": "display_data"
    },
    {
     "data": {
      "text/html": [
       "<button onClick=\"this.nextSibling.style.display='block';this.style.display='none';\">Display W&B run</button><iframe src='https://wandb.ai/tristntran/rl-projects-racing_env/runs/bvlrlfst?jupyter=true' style='border:none;width:100%;height:420px;display:none;'></iframe>"
      ],
      "text/plain": [
       "<wandb.sdk.wandb_run.Run at 0x7fa1de7048e0>"
      ]
     },
     "execution_count": 3,
     "metadata": {},
     "output_type": "execute_result"
    }
   ],
   "source": [
    "setup_wandb(config={\"entity\": \"rl-class-2024\",\n",
    "                    \"project\": \"RL-Projects\"})"
   ]
  },
  {
   "cell_type": "code",
   "execution_count": 4,
   "id": "2d721a93-3505-4ac7-b363-c7c8d0e9246b",
   "metadata": {},
   "outputs": [],
   "source": [
    "env = csbsingleenv.CodersStrikeBackSingle()"
   ]
  },
  {
   "cell_type": "code",
   "execution_count": 5,
   "id": "8fea1609-4b37-4725-8004-9c638e2ddbdc",
   "metadata": {},
   "outputs": [
    {
     "name": "stdout",
     "output_type": "stream",
     "text": [
      "-10100\n"
     ]
    }
   ],
   "source": [
    "env.reset()\n",
    "done = False\n",
    "rewards = []\n",
    "while not done:\n",
    "    obs, reward, done, _, _ = env.step(env.action_space.sample())\n",
    "    rewards.append(reward)\n",
    "print(sum(rewards))"
   ]
  },
  {
   "cell_type": "code",
   "execution_count": 6,
   "id": "dfb7157f-f44f-4c86-a35d-f9fb4d2885b4",
   "metadata": {},
   "outputs": [
    {
     "name": "stderr",
     "output_type": "stream",
     "text": [
      "2024-05-12 16:52:44,079\tWARNING deprecation.py:50 -- DeprecationWarning: `DirectStepOptimizer` has been deprecated. This will raise an error in the future!\n"
     ]
    }
   ],
   "source": [
    "import ray\n",
    "from ray import tune, air\n",
    "from ray.rllib.algorithms.ppo import PPOConfig\n",
    "from functools import partial"
   ]
  },
  {
   "cell_type": "code",
   "execution_count": 7,
   "id": "f9768330-7891-4027-99ff-f36686c2375b",
   "metadata": {},
   "outputs": [
    {
     "name": "stderr",
     "output_type": "stream",
     "text": [
      "2024-05-12 16:52:48,769\tINFO worker.py:1642 -- Started a local Ray instance.\n"
     ]
    },
    {
     "data": {
      "application/vnd.jupyter.widget-view+json": {
       "model_id": "4cb1ffe72fb347dbaab72084802c29e4",
       "version_major": 2,
       "version_minor": 0
      },
      "text/html": [
       "<div class=\"lm-Widget p-Widget lm-Panel p-Panel jp-Cell-outputWrapper\">\n",
       "    <div style=\"margin-left: 50px;display: flex;flex-direction: row;align-items: center\">\n",
       "        <div class=\"jp-RenderedHTMLCommon\" style=\"display: flex; flex-direction: row;\">\n",
       "  <svg viewBox=\"0 0 567 224\" fill=\"none\" xmlns=\"http://www.w3.org/2000/svg\" style=\"height: 3em;\">\n",
       "    <g clip-path=\"url(#clip0_4338_178347)\">\n",
       "        <path d=\"M341.29 165.561H355.29L330.13 129.051C345.63 123.991 354.21 112.051 354.21 94.2307C354.21 71.3707 338.72 58.1807 311.88 58.1807H271V165.561H283.27V131.661H311.8C314.25 131.661 316.71 131.501 319.01 131.351L341.25 165.561H341.29ZM283.29 119.851V70.0007H311.82C331.3 70.0007 342.34 78.2907 342.34 94.5507C342.34 111.271 331.34 119.861 311.82 119.861L283.29 119.851ZM451.4 138.411L463.4 165.561H476.74L428.74 58.1807H416L367.83 165.561H380.83L392.83 138.411H451.4ZM446.19 126.601H398L422 72.1407L446.24 126.601H446.19ZM526.11 128.741L566.91 58.1807H554.35L519.99 114.181L485.17 58.1807H472.44L514.01 129.181V165.541H526.13V128.741H526.11Z\" fill=\"var(--jp-ui-font-color0)\"/>\n",
       "        <path d=\"M82.35 104.44C84.0187 97.8827 87.8248 92.0678 93.1671 87.9146C98.5094 83.7614 105.083 81.5067 111.85 81.5067C118.617 81.5067 125.191 83.7614 130.533 87.9146C135.875 92.0678 139.681 97.8827 141.35 104.44H163.75C164.476 101.562 165.622 98.8057 167.15 96.2605L127.45 56.5605C121.071 60.3522 113.526 61.6823 106.235 60.3005C98.9443 58.9187 92.4094 54.9203 87.8602 49.0574C83.3109 43.1946 81.0609 35.8714 81.5332 28.4656C82.0056 21.0599 85.1679 14.0819 90.4252 8.8446C95.6824 3.60726 102.672 0.471508 110.08 0.0272655C117.487 -0.416977 124.802 1.86091 130.647 6.4324C136.493 11.0039 140.467 17.5539 141.821 24.8501C143.175 32.1463 141.816 39.6859 138 46.0505L177.69 85.7505C182.31 82.9877 187.58 81.4995 192.962 81.4375C198.345 81.3755 203.648 82.742 208.33 85.3976C213.012 88.0532 216.907 91.9029 219.616 96.5544C222.326 101.206 223.753 106.492 223.753 111.875C223.753 117.258 222.326 122.545 219.616 127.197C216.907 131.848 213.012 135.698 208.33 138.353C203.648 141.009 198.345 142.375 192.962 142.313C187.58 142.251 182.31 140.763 177.69 138L138 177.7C141.808 184.071 143.155 191.614 141.79 198.91C140.424 206.205 136.44 212.75 130.585 217.313C124.731 221.875 117.412 224.141 110.004 223.683C102.596 223.226 95.6103 220.077 90.3621 214.828C85.1139 209.58 81.9647 202.595 81.5072 195.187C81.0497 187.779 83.3154 180.459 87.878 174.605C92.4405 168.751 98.9853 164.766 106.281 163.401C113.576 162.035 121.119 163.383 127.49 167.19L167.19 127.49C165.664 124.941 164.518 122.182 163.79 119.3H141.39C139.721 125.858 135.915 131.673 130.573 135.826C125.231 139.98 118.657 142.234 111.89 142.234C105.123 142.234 98.5494 139.98 93.2071 135.826C87.8648 131.673 84.0587 125.858 82.39 119.3H60C58.1878 126.495 53.8086 132.78 47.6863 136.971C41.5641 141.163 34.1211 142.972 26.7579 142.059C19.3947 141.146 12.6191 137.574 7.70605 132.014C2.79302 126.454 0.0813599 119.29 0.0813599 111.87C0.0813599 104.451 2.79302 97.2871 7.70605 91.7272C12.6191 86.1673 19.3947 82.5947 26.7579 81.6817C34.1211 80.7686 41.5641 82.5781 47.6863 86.7696C53.8086 90.9611 58.1878 97.2456 60 104.44H82.35ZM100.86 204.32C103.407 206.868 106.759 208.453 110.345 208.806C113.93 209.159 117.527 208.258 120.522 206.256C123.517 204.254 125.725 201.276 126.771 197.828C127.816 194.38 127.633 190.677 126.253 187.349C124.874 184.021 122.383 181.274 119.205 179.577C116.027 177.88 112.359 177.337 108.826 178.042C105.293 178.746 102.113 180.654 99.8291 183.44C97.5451 186.226 96.2979 189.718 96.3 193.32C96.2985 195.364 96.7006 197.388 97.4831 199.275C98.2656 201.163 99.4132 202.877 100.86 204.32ZM204.32 122.88C206.868 120.333 208.453 116.981 208.806 113.396C209.159 109.811 208.258 106.214 206.256 103.219C204.254 100.223 201.275 98.0151 197.827 96.97C194.38 95.9249 190.676 96.1077 187.348 97.4873C184.02 98.8669 181.274 101.358 179.577 104.536C177.879 107.714 177.337 111.382 178.041 114.915C178.746 118.448 180.653 121.627 183.439 123.911C186.226 126.195 189.717 127.443 193.32 127.44C195.364 127.443 197.388 127.042 199.275 126.259C201.163 125.476 202.878 124.328 204.32 122.88ZM122.88 19.4205C120.333 16.8729 116.981 15.2876 113.395 14.9347C109.81 14.5817 106.213 15.483 103.218 17.4849C100.223 19.4868 98.0146 22.4654 96.9696 25.9131C95.9245 29.3608 96.1073 33.0642 97.4869 36.3922C98.8665 39.7202 101.358 42.4668 104.535 44.1639C107.713 45.861 111.381 46.4036 114.914 45.6992C118.447 44.9949 121.627 43.0871 123.911 40.301C126.195 37.515 127.442 34.0231 127.44 30.4205C127.44 28.3772 127.038 26.3539 126.255 24.4664C125.473 22.5788 124.326 20.8642 122.88 19.4205ZM19.42 100.86C16.8725 103.408 15.2872 106.76 14.9342 110.345C14.5813 113.93 15.4826 117.527 17.4844 120.522C19.4863 123.518 22.4649 125.726 25.9127 126.771C29.3604 127.816 33.0638 127.633 36.3918 126.254C39.7198 124.874 42.4664 122.383 44.1635 119.205C45.8606 116.027 46.4032 112.359 45.6988 108.826C44.9944 105.293 43.0866 102.114 40.3006 99.8296C37.5145 97.5455 34.0227 96.2983 30.42 96.3005C26.2938 96.3018 22.337 97.9421 19.42 100.86ZM100.86 100.86C98.3125 103.408 96.7272 106.76 96.3742 110.345C96.0213 113.93 96.9226 117.527 98.9244 120.522C100.926 123.518 103.905 125.726 107.353 126.771C110.8 127.816 114.504 127.633 117.832 126.254C121.16 124.874 123.906 122.383 125.604 119.205C127.301 116.027 127.843 112.359 127.139 108.826C126.434 105.293 124.527 102.114 121.741 99.8296C118.955 97.5455 115.463 96.2983 111.86 96.3005C109.817 96.299 107.793 96.701 105.905 97.4835C104.018 98.2661 102.303 99.4136 100.86 100.86Z\" fill=\"#00AEEF\"/>\n",
       "    </g>\n",
       "    <defs>\n",
       "        <clipPath id=\"clip0_4338_178347\">\n",
       "            <rect width=\"566.93\" height=\"223.75\" fill=\"white\"/>\n",
       "        </clipPath>\n",
       "    </defs>\n",
       "  </svg>\n",
       "</div>\n",
       "\n",
       "        <table class=\"jp-RenderedHTMLCommon\" style=\"border-collapse: collapse;color: var(--jp-ui-font-color1);font-size: var(--jp-ui-font-size1);\">\n",
       "    <tr>\n",
       "        <td style=\"text-align: left\"><b>Python version:</b></td>\n",
       "        <td style=\"text-align: left\"><b>3.10.12</b></td>\n",
       "    </tr>\n",
       "    <tr>\n",
       "        <td style=\"text-align: left\"><b>Ray version:</b></td>\n",
       "        <td style=\"text-align: left\"><b>2.7.0</b></td>\n",
       "    </tr>\n",
       "    \n",
       "</table>\n",
       "\n",
       "    </div>\n",
       "</div>\n"
      ],
      "text/plain": [
       "RayContext(dashboard_url='', python_version='3.10.12', ray_version='2.7.0', ray_commit='b4bba4717f5ba04ee25580fe8f88eed63ef0c5dc', protocol_version=None)"
      ]
     },
     "execution_count": 7,
     "metadata": {},
     "output_type": "execute_result"
    }
   ],
   "source": [
    "if ray.is_initialized():\n",
    "  ray.shutdown()\n",
    "ray.init(num_cpus=4)"
   ]
  },
  {
   "cell_type": "code",
   "execution_count": 8,
   "id": "4d694f3f-07f4-454d-9156-4a54fc0da45e",
   "metadata": {
    "tags": []
   },
   "outputs": [
    {
     "data": {
      "text/html": [
       "<div class=\"tuneStatus\">\n",
       "  <div style=\"display: flex;flex-direction: row\">\n",
       "    <div style=\"display: flex;flex-direction: column;\">\n",
       "      <h3>Tune Status</h3>\n",
       "      <table>\n",
       "<tbody>\n",
       "<tr><td>Current time:</td><td>2024-05-12 16:11:12</td></tr>\n",
       "<tr><td>Running for: </td><td>00:00:29.65        </td></tr>\n",
       "<tr><td>Memory:      </td><td>33.3/125.5 GiB     </td></tr>\n",
       "</tbody>\n",
       "</table>\n",
       "    </div>\n",
       "    <div class=\"vDivider\"></div>\n",
       "    <div class=\"systemInfo\">\n",
       "      <h3>System Info</h3>\n",
       "      Using FIFO scheduling algorithm.<br>Logical resource usage: 4.0/4 CPUs, 0/4 GPUs (0.0/1.0 accelerator_type:G)\n",
       "    </div>\n",
       "    \n",
       "  </div>\n",
       "  <div class=\"hDivider\"></div>\n",
       "  <div class=\"trialStatus\">\n",
       "    <h3>Trial Status</h3>\n",
       "    <table>\n",
       "<thead>\n",
       "<tr><th>Trial name                            </th><th>status    </th><th>loc                    </th><th style=\"text-align: right;\">  iter</th><th style=\"text-align: right;\">  total time (s)</th><th style=\"text-align: right;\">   ts</th><th style=\"text-align: right;\">  reward</th><th style=\"text-align: right;\">  episode_reward_max</th><th style=\"text-align: right;\">  episode_reward_min</th><th style=\"text-align: right;\">  episode_len_mean</th></tr>\n",
       "</thead>\n",
       "<tbody>\n",
       "<tr><td>PPO_CodersStrikeBackSingle_db492_00000</td><td>TERMINATED</td><td>206.211.132.160:1664287</td><td style=\"text-align: right;\">     3</td><td style=\"text-align: right;\">         20.7752</td><td style=\"text-align: right;\">12000</td><td style=\"text-align: right;\">-10102.3</td><td style=\"text-align: right;\">              -10100</td><td style=\"text-align: right;\">              -10140</td><td style=\"text-align: right;\">            102.31</td></tr>\n",
       "</tbody>\n",
       "</table>\n",
       "  </div>\n",
       "</div>\n",
       "<style>\n",
       ".tuneStatus {\n",
       "  color: var(--jp-ui-font-color1);\n",
       "}\n",
       ".tuneStatus .systemInfo {\n",
       "  display: flex;\n",
       "  flex-direction: column;\n",
       "}\n",
       ".tuneStatus td {\n",
       "  white-space: nowrap;\n",
       "}\n",
       ".tuneStatus .trialStatus {\n",
       "  display: flex;\n",
       "  flex-direction: column;\n",
       "}\n",
       ".tuneStatus h3 {\n",
       "  font-weight: bold;\n",
       "}\n",
       ".tuneStatus .hDivider {\n",
       "  border-bottom-width: var(--jp-border-width);\n",
       "  border-bottom-color: var(--jp-border-color0);\n",
       "  border-bottom-style: solid;\n",
       "}\n",
       ".tuneStatus .vDivider {\n",
       "  border-left-width: var(--jp-border-width);\n",
       "  border-left-color: var(--jp-border-color0);\n",
       "  border-left-style: solid;\n",
       "  margin: 0.5em 1em 0.5em 1em;\n",
       "}\n",
       "</style>\n"
      ],
      "text/plain": [
       "<IPython.core.display.HTML object>"
      ]
     },
     "metadata": {},
     "output_type": "display_data"
    },
    {
     "name": "stderr",
     "output_type": "stream",
     "text": [
      "2024-05-12 16:10:43,131\tINFO wandb.py:308 -- Already logged into W&B.\n",
      "2024-05-12 16:10:43,139\tWARNING algorithm_config.py:2578 -- Setting `exploration_config={}` because you set `_enable_rl_module_api=True`. When RLModule API are enabled, exploration_config can not be set. If you want to implement custom exploration behaviour, please modify the `forward_exploration` method of the RLModule at hand. On configs that have a default exploration config, this must be done with `config.exploration_config={}`.\n",
      "\u001b[2m\u001b[36m(pid=1664287)\u001b[0m DeprecationWarning: `DirectStepOptimizer` has been deprecated. This will raise an error in the future!\n",
      "\u001b[2m\u001b[36m(PPO pid=1664287)\u001b[0m 2024-05-12 16:10:46,166\tWARNING algorithm_config.py:2578 -- Setting `exploration_config={}` because you set `_enable_rl_module_api=True`. When RLModule API are enabled, exploration_config can not be set. If you want to implement custom exploration behaviour, please modify the `forward_exploration` method of the RLModule at hand. On configs that have a default exploration config, this must be done with `config.exploration_config={}`.\n",
      "\u001b[2m\u001b[36m(PPO pid=1664287)\u001b[0m 2024-05-12 16:10:46,167\tWARNING algorithm_config.py:672 -- Cannot create PPOConfig from given `config_dict`! Property __stdout_file__ not supported.\n",
      "\u001b[2m\u001b[36m(RolloutWorker pid=1664374)\u001b[0m 2024-05-12 16:10:49,435\tWARNING env.py:162 -- Your env doesn't have a .spec.max_episode_steps attribute. Your horizon will default to infinity, and your environment will not be reset.\n",
      "\u001b[2m\u001b[36m(RolloutWorker pid=1664374)\u001b[0m 2024-05-12 16:10:49,445\tWARNING deprecation.py:50 -- DeprecationWarning: `ValueNetworkMixin` has been deprecated. This will raise an error in the future!\n",
      "\u001b[2m\u001b[36m(RolloutWorker pid=1664374)\u001b[0m 2024-05-12 16:10:49,445\tWARNING deprecation.py:50 -- DeprecationWarning: `LearningRateSchedule` has been deprecated. This will raise an error in the future!\n",
      "\u001b[2m\u001b[36m(RolloutWorker pid=1664374)\u001b[0m 2024-05-12 16:10:49,446\tWARNING deprecation.py:50 -- DeprecationWarning: `EntropyCoeffSchedule` has been deprecated. This will raise an error in the future!\n",
      "\u001b[2m\u001b[36m(RolloutWorker pid=1664374)\u001b[0m 2024-05-12 16:10:49,446\tWARNING deprecation.py:50 -- DeprecationWarning: `KLCoeffMixin` has been deprecated. This will raise an error in the future!\n",
      "\u001b[2m\u001b[36m(_WandbLoggingActor pid=1664543)\u001b[0m DeprecationWarning: `DirectStepOptimizer` has been deprecated. This will raise an error in the future!\u001b[32m [repeated 4x across cluster] (Ray deduplicates logs by default. Set RAY_DEDUP_LOGS=0 to disable log deduplication, or see https://docs.ray.io/en/master/ray-observability/ray-logging.html#log-deduplication for more options.)\u001b[0m\n",
      "\u001b[2m\u001b[36m(RolloutWorker pid=1664376)\u001b[0m 2024-05-12 16:10:49,449\tWARNING algorithm_config.py:2578 -- Setting `exploration_config={}` because you set `_enable_rl_module_api=True`. When RLModule API are enabled, exploration_config can not be set. If you want to implement custom exploration behaviour, please modify the `forward_exploration` method of the RLModule at hand. On configs that have a default exploration config, this must be done with `config.exploration_config={}`.\u001b[32m [repeated 4x across cluster]\u001b[0m\n",
      "\u001b[2m\u001b[36m(_WandbLoggingActor pid=1664543)\u001b[0m wandb: Currently logged in as: tristntran. Use `wandb login --relogin` to force relogin\n",
      "\u001b[2m\u001b[36m(_WandbLoggingActor pid=1664543)\u001b[0m wandb: Tracking run with wandb version 0.17.0\n",
      "\u001b[2m\u001b[36m(_WandbLoggingActor pid=1664543)\u001b[0m wandb: Run data is saved locally in /home/healthcare/ray_results/PPO_2024-05-12_16-10-42/PPO_CodersStrikeBackSingle_db492_00000_0_2024-05-12_16-10-43/wandb/run-20240512_161052-db492_00000\n",
      "\u001b[2m\u001b[36m(_WandbLoggingActor pid=1664543)\u001b[0m wandb: Run `wandb offline` to turn off syncing.\n",
      "\u001b[2m\u001b[36m(_WandbLoggingActor pid=1664543)\u001b[0m wandb: Syncing run PPO_CodersStrikeBackSingle_db492_00000\n",
      "\u001b[2m\u001b[36m(_WandbLoggingActor pid=1664543)\u001b[0m wandb: ⭐️ View project at https://wandb.ai/tristntran/RL-Projects\n",
      "\u001b[2m\u001b[36m(_WandbLoggingActor pid=1664543)\u001b[0m wandb: 🚀 View run at https://wandb.ai/tristntran/RL-Projects/runs/db492_00000\n",
      "\u001b[2m\u001b[36m(PPO pid=1664287)\u001b[0m 2024-05-12 16:10:49,485\tWARNING deprecation.py:50 -- DeprecationWarning: `ValueNetworkMixin` has been deprecated. This will raise an error in the future!\n",
      "\u001b[2m\u001b[36m(PPO pid=1664287)\u001b[0m 2024-05-12 16:10:49,485\tWARNING deprecation.py:50 -- DeprecationWarning: `LearningRateSchedule` has been deprecated. This will raise an error in the future!\n",
      "\u001b[2m\u001b[36m(PPO pid=1664287)\u001b[0m 2024-05-12 16:10:49,485\tWARNING deprecation.py:50 -- DeprecationWarning: `EntropyCoeffSchedule` has been deprecated. This will raise an error in the future!\n",
      "\u001b[2m\u001b[36m(PPO pid=1664287)\u001b[0m 2024-05-12 16:10:49,485\tWARNING deprecation.py:50 -- DeprecationWarning: `KLCoeffMixin` has been deprecated. This will raise an error in the future!\n",
      "\u001b[2m\u001b[36m(_QueueActor pid=1664541)\u001b[0m DeprecationWarning: `DirectStepOptimizer` has been deprecated. This will raise an error in the future!\n",
      "\u001b[2m\u001b[36m(PPO pid=1664287)\u001b[0m Checkpoint successfully created at: Checkpoint(filesystem=local, path=/home/healthcare/ray_results/PPO_2024-05-12_16-10-42/PPO_CodersStrikeBackSingle_db492_00000_0_2024-05-12_16-10-43/checkpoint_000000)\n",
      "\u001b[2m\u001b[36m(_WandbLoggingActor pid=1664543)\u001b[0m wandb: Adding directory to artifact (/home/healthcare/ray_results/PPO_2024-05-12_16-10-42/PPO_CodersStrikeBackSingle_db492_00000_0_2024-05-12_16-10-43/checkpoint_000000)... \n",
      "\u001b[2m\u001b[36m(_WandbLoggingActor pid=1664543)\u001b[0m Done. 0.0s\n",
      "wandb: ERROR Error while calling W&B API: failed to find run rl-projects-racing_env/db492_00000 (<Response [404]>)\n",
      "\u001b[2m\u001b[36m(_WandbLoggingActor pid=1664543)\u001b[0m wandb: - 0.005 MB of 0.005 MB uploaded\n",
      "\u001b[2m\u001b[36m(_WandbLoggingActor pid=1664543)\u001b[0m wandb: \\ 0.005 MB of 0.024 MB uploaded\n",
      "wandb:                                                                                \n",
      "\u001b[2m\u001b[36m(_WandbLoggingActor pid=1664543)\u001b[0m wandb: \n",
      "\u001b[2m\u001b[36m(_WandbLoggingActor pid=1664543)\u001b[0m wandb: Run history:\n",
      "\u001b[2m\u001b[36m(_WandbLoggingActor pid=1664543)\u001b[0m wandb:                                              agent_timesteps_total ▁▅█\n",
      "\u001b[2m\u001b[36m(_WandbLoggingActor pid=1664543)\u001b[0m wandb:                      connector_metrics/ObsPreprocessorConnector_ms █▃▁\n",
      "\u001b[2m\u001b[36m(_WandbLoggingActor pid=1664543)\u001b[0m wandb:                          connector_metrics/StateBufferConnector_ms █▄▁\n",
      "\u001b[2m\u001b[36m(_WandbLoggingActor pid=1664543)\u001b[0m wandb:                 connector_metrics/ViewRequirementAgentConnector_ms █▅▁\n",
      "\u001b[2m\u001b[36m(_WandbLoggingActor pid=1664543)\u001b[0m wandb:                                   counters/num_agent_steps_sampled ▁▅█\n",
      "\u001b[2m\u001b[36m(_WandbLoggingActor pid=1664543)\u001b[0m wandb:                                   counters/num_agent_steps_trained ▁▁▁\n",
      "\u001b[2m\u001b[36m(_WandbLoggingActor pid=1664543)\u001b[0m wandb:                                     counters/num_env_steps_sampled ▁▅█\n",
      "\u001b[2m\u001b[36m(_WandbLoggingActor pid=1664543)\u001b[0m wandb:                                     counters/num_env_steps_trained ▁▁▁\n",
      "\u001b[2m\u001b[36m(_WandbLoggingActor pid=1664543)\u001b[0m wandb:                                                   episode_len_mean █▂▁\n",
      "\u001b[2m\u001b[36m(_WandbLoggingActor pid=1664543)\u001b[0m wandb:                                                 episode_reward_max ▁▁▁\n",
      "\u001b[2m\u001b[36m(_WandbLoggingActor pid=1664543)\u001b[0m wandb:                                                episode_reward_mean ▁▇█\n",
      "\u001b[2m\u001b[36m(_WandbLoggingActor pid=1664543)\u001b[0m wandb:                                                 episode_reward_min ▁▁▁\n",
      "\u001b[2m\u001b[36m(_WandbLoggingActor pid=1664543)\u001b[0m wandb:                                                 episodes_this_iter ▁██\n",
      "\u001b[2m\u001b[36m(_WandbLoggingActor pid=1664543)\u001b[0m wandb:                                                     episodes_total ▁▅█\n",
      "\u001b[2m\u001b[36m(_WandbLoggingActor pid=1664543)\u001b[0m wandb:                       info/learner/__all__/num_agent_steps_trained ▁▁▁\n",
      "\u001b[2m\u001b[36m(_WandbLoggingActor pid=1664543)\u001b[0m wandb:                         info/learner/__all__/num_env_steps_trained ▁▁▁\n",
      "\u001b[2m\u001b[36m(_WandbLoggingActor pid=1664543)\u001b[0m wandb:                                    info/learner/__all__/total_loss █▂▁\n",
      "\u001b[2m\u001b[36m(_WandbLoggingActor pid=1664543)\u001b[0m wandb:                     info/learner/default_policy/curr_entropy_coeff ▁▁▁\n",
      "\u001b[2m\u001b[36m(_WandbLoggingActor pid=1664543)\u001b[0m wandb:                          info/learner/default_policy/curr_kl_coeff ▁▄█\n",
      "\u001b[2m\u001b[36m(_WandbLoggingActor pid=1664543)\u001b[0m wandb:                                info/learner/default_policy/curr_lr ▁▁▁\n",
      "\u001b[2m\u001b[36m(_WandbLoggingActor pid=1664543)\u001b[0m wandb:                   info/learner/default_policy/default_optimizer_lr ▁▁▁\n",
      "\u001b[2m\u001b[36m(_WandbLoggingActor pid=1664543)\u001b[0m wandb:                                info/learner/default_policy/entropy █▄▁\n",
      "\u001b[2m\u001b[36m(_WandbLoggingActor pid=1664543)\u001b[0m wandb:                           info/learner/default_policy/mean_kl_loss ▂█▁\n",
      "\u001b[2m\u001b[36m(_WandbLoggingActor pid=1664543)\u001b[0m wandb:                            info/learner/default_policy/policy_loss ▁▄█\n",
      "\u001b[2m\u001b[36m(_WandbLoggingActor pid=1664543)\u001b[0m wandb:                             info/learner/default_policy/total_loss █▂▁\n",
      "\u001b[2m\u001b[36m(_WandbLoggingActor pid=1664543)\u001b[0m wandb:                       info/learner/default_policy/vf_explained_var ▂▁█\n",
      "\u001b[2m\u001b[36m(_WandbLoggingActor pid=1664543)\u001b[0m wandb:                                info/learner/default_policy/vf_loss █▂▁\n",
      "\u001b[2m\u001b[36m(_WandbLoggingActor pid=1664543)\u001b[0m wandb:                      info/learner/default_policy/vf_loss_unclipped ▁██\n",
      "\u001b[2m\u001b[36m(_WandbLoggingActor pid=1664543)\u001b[0m wandb:                                       info/num_agent_steps_sampled ▁▅█\n",
      "\u001b[2m\u001b[36m(_WandbLoggingActor pid=1664543)\u001b[0m wandb:                                       info/num_agent_steps_trained ▁▁▁\n",
      "\u001b[2m\u001b[36m(_WandbLoggingActor pid=1664543)\u001b[0m wandb:                                         info/num_env_steps_sampled ▁▅█\n",
      "\u001b[2m\u001b[36m(_WandbLoggingActor pid=1664543)\u001b[0m wandb:                                         info/num_env_steps_trained ▁▁▁\n",
      "\u001b[2m\u001b[36m(_WandbLoggingActor pid=1664543)\u001b[0m wandb:                                           iterations_since_restore ▁▅█\n",
      "\u001b[2m\u001b[36m(_WandbLoggingActor pid=1664543)\u001b[0m wandb:                                            num_agent_steps_sampled ▁▅█\n",
      "\u001b[2m\u001b[36m(_WandbLoggingActor pid=1664543)\u001b[0m wandb:                                            num_agent_steps_trained ▁▁▁\n",
      "\u001b[2m\u001b[36m(_WandbLoggingActor pid=1664543)\u001b[0m wandb:                                              num_env_steps_sampled ▁▅█\n",
      "\u001b[2m\u001b[36m(_WandbLoggingActor pid=1664543)\u001b[0m wandb:                                    num_env_steps_sampled_this_iter ▁▁▁\n",
      "\u001b[2m\u001b[36m(_WandbLoggingActor pid=1664543)\u001b[0m wandb:                           num_env_steps_sampled_throughput_per_sec ▁█▆\n",
      "\u001b[2m\u001b[36m(_WandbLoggingActor pid=1664543)\u001b[0m wandb:                                              num_env_steps_trained ▁▁▁\n",
      "\u001b[2m\u001b[36m(_WandbLoggingActor pid=1664543)\u001b[0m wandb:                                    num_env_steps_trained_this_iter ▁▁▁\n",
      "\u001b[2m\u001b[36m(_WandbLoggingActor pid=1664543)\u001b[0m wandb:                           num_env_steps_trained_throughput_per_sec ▁▁▁\n",
      "\u001b[2m\u001b[36m(_WandbLoggingActor pid=1664543)\u001b[0m wandb:                                                num_faulty_episodes ▁▁▁\n",
      "\u001b[2m\u001b[36m(_WandbLoggingActor pid=1664543)\u001b[0m wandb:                                                num_healthy_workers ▁▁▁\n",
      "\u001b[2m\u001b[36m(_WandbLoggingActor pid=1664543)\u001b[0m wandb:                                           num_in_flight_async_reqs ▁▁▁\n",
      "\u001b[2m\u001b[36m(_WandbLoggingActor pid=1664543)\u001b[0m wandb:                                         num_remote_worker_restarts ▁▁▁\n",
      "\u001b[2m\u001b[36m(_WandbLoggingActor pid=1664543)\u001b[0m wandb:                                        num_steps_trained_this_iter ▁▁▁\n",
      "\u001b[2m\u001b[36m(_WandbLoggingActor pid=1664543)\u001b[0m wandb:                                              perf/cpu_util_percent █▁▃\n",
      "\u001b[2m\u001b[36m(_WandbLoggingActor pid=1664543)\u001b[0m wandb:                                             perf/gpu_util_percent0 ▁▁▁\n",
      "\u001b[2m\u001b[36m(_WandbLoggingActor pid=1664543)\u001b[0m wandb:                                             perf/gpu_util_percent1 ▁▁▁\n",
      "\u001b[2m\u001b[36m(_WandbLoggingActor pid=1664543)\u001b[0m wandb:                                             perf/gpu_util_percent2 ▁▁▁\n",
      "\u001b[2m\u001b[36m(_WandbLoggingActor pid=1664543)\u001b[0m wandb:                                             perf/gpu_util_percent3 █▆▁\n",
      "\u001b[2m\u001b[36m(_WandbLoggingActor pid=1664543)\u001b[0m wandb:                                              perf/ram_util_percent ▁█▇\n",
      "\u001b[2m\u001b[36m(_WandbLoggingActor pid=1664543)\u001b[0m wandb:                                            perf/vram_util_percent0 ▁▁▁\n",
      "\u001b[2m\u001b[36m(_WandbLoggingActor pid=1664543)\u001b[0m wandb:                                            perf/vram_util_percent1 ▁▁▁\n",
      "\u001b[2m\u001b[36m(_WandbLoggingActor pid=1664543)\u001b[0m wandb:                                            perf/vram_util_percent2 ▁▁▁\n",
      "\u001b[2m\u001b[36m(_WandbLoggingActor pid=1664543)\u001b[0m wandb:                                            perf/vram_util_percent3 ▁▁▁\n",
      "\u001b[2m\u001b[36m(_WandbLoggingActor pid=1664543)\u001b[0m wandb:                             sampler_perf/mean_action_processing_ms █▅▁\n",
      "\u001b[2m\u001b[36m(_WandbLoggingActor pid=1664543)\u001b[0m wandb:                                    sampler_perf/mean_env_render_ms ▁▁▁\n",
      "\u001b[2m\u001b[36m(_WandbLoggingActor pid=1664543)\u001b[0m wandb:                                      sampler_perf/mean_env_wait_ms █▄▁\n",
      "\u001b[2m\u001b[36m(_WandbLoggingActor pid=1664543)\u001b[0m wandb:                                     sampler_perf/mean_inference_ms █▅▁\n",
      "\u001b[2m\u001b[36m(_WandbLoggingActor pid=1664543)\u001b[0m wandb:                            sampler_perf/mean_raw_obs_processing_ms █▄▁\n",
      "\u001b[2m\u001b[36m(_WandbLoggingActor pid=1664543)\u001b[0m wandb:      sampler_results/connector_metrics/ObsPreprocessorConnector_ms █▃▁\n",
      "\u001b[2m\u001b[36m(_WandbLoggingActor pid=1664543)\u001b[0m wandb:          sampler_results/connector_metrics/StateBufferConnector_ms █▄▁\n",
      "\u001b[2m\u001b[36m(_WandbLoggingActor pid=1664543)\u001b[0m wandb: sampler_results/connector_metrics/ViewRequirementAgentConnector_ms █▅▁\n",
      "\u001b[2m\u001b[36m(_WandbLoggingActor pid=1664543)\u001b[0m wandb:                                   sampler_results/episode_len_mean █▂▁\n",
      "\u001b[2m\u001b[36m(_WandbLoggingActor pid=1664543)\u001b[0m wandb:                                 sampler_results/episode_reward_max ▁▁▁\n",
      "\u001b[2m\u001b[36m(_WandbLoggingActor pid=1664543)\u001b[0m wandb:                                sampler_results/episode_reward_mean ▁▇█\n",
      "\u001b[2m\u001b[36m(_WandbLoggingActor pid=1664543)\u001b[0m wandb:                                 sampler_results/episode_reward_min ▁▁▁\n",
      "\u001b[2m\u001b[36m(_WandbLoggingActor pid=1664543)\u001b[0m wandb:                                 sampler_results/episodes_this_iter ▁██\n",
      "\u001b[2m\u001b[36m(_WandbLoggingActor pid=1664543)\u001b[0m wandb:                                sampler_results/num_faulty_episodes ▁▁▁\n",
      "\u001b[2m\u001b[36m(_WandbLoggingActor pid=1664543)\u001b[0m wandb:             sampler_results/sampler_perf/mean_action_processing_ms █▅▁\n",
      "\u001b[2m\u001b[36m(_WandbLoggingActor pid=1664543)\u001b[0m wandb:                    sampler_results/sampler_perf/mean_env_render_ms ▁▁▁\n",
      "\u001b[2m\u001b[36m(_WandbLoggingActor pid=1664543)\u001b[0m wandb:                      sampler_results/sampler_perf/mean_env_wait_ms █▄▁\n",
      "\u001b[2m\u001b[36m(_WandbLoggingActor pid=1664543)\u001b[0m wandb:                     sampler_results/sampler_perf/mean_inference_ms █▅▁\n",
      "\u001b[2m\u001b[36m(_WandbLoggingActor pid=1664543)\u001b[0m wandb:            sampler_results/sampler_perf/mean_raw_obs_processing_ms █▄▁\n",
      "\u001b[2m\u001b[36m(_WandbLoggingActor pid=1664543)\u001b[0m wandb:                                                 time_since_restore ▁▄█\n",
      "\u001b[2m\u001b[36m(_WandbLoggingActor pid=1664543)\u001b[0m wandb:                                                   time_this_iter_s █▁▃\n",
      "\u001b[2m\u001b[36m(_WandbLoggingActor pid=1664543)\u001b[0m wandb:                                                       time_total_s ▁▄█\n",
      "\u001b[2m\u001b[36m(_WandbLoggingActor pid=1664543)\u001b[0m wandb:                                              timers/sample_time_ms █▅▁\n",
      "\u001b[2m\u001b[36m(_WandbLoggingActor pid=1664543)\u001b[0m wandb:                                       timers/synch_weights_time_ms ██▁\n",
      "\u001b[2m\u001b[36m(_WandbLoggingActor pid=1664543)\u001b[0m wandb:                                  timers/training_iteration_time_ms █▂▁\n",
      "\u001b[2m\u001b[36m(_WandbLoggingActor pid=1664543)\u001b[0m wandb:                                                          timestamp ▁▅█\n",
      "\u001b[2m\u001b[36m(_WandbLoggingActor pid=1664543)\u001b[0m wandb:                                                    timesteps_total ▁▅█\n",
      "\u001b[2m\u001b[36m(_WandbLoggingActor pid=1664543)\u001b[0m wandb:                                                 training_iteration ▁▅█\n",
      "\u001b[2m\u001b[36m(_WandbLoggingActor pid=1664543)\u001b[0m wandb: \n",
      "\u001b[2m\u001b[36m(_WandbLoggingActor pid=1664543)\u001b[0m wandb: Run summary:\n",
      "\u001b[2m\u001b[36m(_WandbLoggingActor pid=1664543)\u001b[0m wandb:                                              agent_timesteps_total 12000\n",
      "\u001b[2m\u001b[36m(_WandbLoggingActor pid=1664543)\u001b[0m wandb:                      connector_metrics/ObsPreprocessorConnector_ms 0.00473\n",
      "\u001b[2m\u001b[36m(_WandbLoggingActor pid=1664543)\u001b[0m wandb:                          connector_metrics/StateBufferConnector_ms 0.00338\n",
      "\u001b[2m\u001b[36m(_WandbLoggingActor pid=1664543)\u001b[0m wandb:                 connector_metrics/ViewRequirementAgentConnector_ms 0.20345\n",
      "\u001b[2m\u001b[36m(_WandbLoggingActor pid=1664543)\u001b[0m wandb:                                   counters/num_agent_steps_sampled 12000\n",
      "\u001b[2m\u001b[36m(_WandbLoggingActor pid=1664543)\u001b[0m wandb:                                   counters/num_agent_steps_trained 0\n",
      "\u001b[2m\u001b[36m(_WandbLoggingActor pid=1664543)\u001b[0m wandb:                                     counters/num_env_steps_sampled 12000\n",
      "\u001b[2m\u001b[36m(_WandbLoggingActor pid=1664543)\u001b[0m wandb:                                     counters/num_env_steps_trained 0\n",
      "\u001b[2m\u001b[36m(_WandbLoggingActor pid=1664543)\u001b[0m wandb:                                                   episode_len_mean 102.31\n",
      "\u001b[2m\u001b[36m(_WandbLoggingActor pid=1664543)\u001b[0m wandb:                                                 episode_reward_max -10100.0\n",
      "\u001b[2m\u001b[36m(_WandbLoggingActor pid=1664543)\u001b[0m wandb:                                                episode_reward_mean -10102.31\n",
      "\u001b[2m\u001b[36m(_WandbLoggingActor pid=1664543)\u001b[0m wandb:                                                 episode_reward_min -10140.0\n",
      "\u001b[2m\u001b[36m(_WandbLoggingActor pid=1664543)\u001b[0m wandb:                                                 episodes_this_iter 39\n",
      "\u001b[2m\u001b[36m(_WandbLoggingActor pid=1664543)\u001b[0m wandb:                                                     episodes_total 116\n",
      "\u001b[2m\u001b[36m(_WandbLoggingActor pid=1664543)\u001b[0m wandb:                       info/learner/__all__/num_agent_steps_trained 128.0\n",
      "\u001b[2m\u001b[36m(_WandbLoggingActor pid=1664543)\u001b[0m wandb:                         info/learner/__all__/num_env_steps_trained 4000.0\n",
      "\u001b[2m\u001b[36m(_WandbLoggingActor pid=1664543)\u001b[0m wandb:                                    info/learner/__all__/total_loss 7.30795\n",
      "\u001b[2m\u001b[36m(_WandbLoggingActor pid=1664543)\u001b[0m wandb:                     info/learner/default_policy/curr_entropy_coeff 0.0\n",
      "\u001b[2m\u001b[36m(_WandbLoggingActor pid=1664543)\u001b[0m wandb:                          info/learner/default_policy/curr_kl_coeff 0.675\n",
      "\u001b[2m\u001b[36m(_WandbLoggingActor pid=1664543)\u001b[0m wandb:                                info/learner/default_policy/curr_lr 5e-05\n",
      "\u001b[2m\u001b[36m(_WandbLoggingActor pid=1664543)\u001b[0m wandb:                   info/learner/default_policy/default_optimizer_lr 5e-05\n",
      "\u001b[2m\u001b[36m(_WandbLoggingActor pid=1664543)\u001b[0m wandb:                                info/learner/default_policy/entropy 4.03908\n",
      "\u001b[2m\u001b[36m(_WandbLoggingActor pid=1664543)\u001b[0m wandb:                           info/learner/default_policy/mean_kl_loss 0.02636\n",
      "\u001b[2m\u001b[36m(_WandbLoggingActor pid=1664543)\u001b[0m wandb:                            info/learner/default_policy/policy_loss -0.05196\n",
      "\u001b[2m\u001b[36m(_WandbLoggingActor pid=1664543)\u001b[0m wandb:                             info/learner/default_policy/total_loss 7.30795\n",
      "\u001b[2m\u001b[36m(_WandbLoggingActor pid=1664543)\u001b[0m wandb:                       info/learner/default_policy/vf_explained_var -7e-05\n",
      "\u001b[2m\u001b[36m(_WandbLoggingActor pid=1664543)\u001b[0m wandb:                                info/learner/default_policy/vf_loss 7.34805\n",
      "\u001b[2m\u001b[36m(_WandbLoggingActor pid=1664543)\u001b[0m wandb:                      info/learner/default_policy/vf_loss_unclipped 5121432.70922\n",
      "\u001b[2m\u001b[36m(_WandbLoggingActor pid=1664543)\u001b[0m wandb:                                       info/num_agent_steps_sampled 12000\n",
      "\u001b[2m\u001b[36m(_WandbLoggingActor pid=1664543)\u001b[0m wandb:                                       info/num_agent_steps_trained 0\n",
      "\u001b[2m\u001b[36m(_WandbLoggingActor pid=1664543)\u001b[0m wandb:                                         info/num_env_steps_sampled 12000\n",
      "\u001b[2m\u001b[36m(_WandbLoggingActor pid=1664543)\u001b[0m wandb:                                         info/num_env_steps_trained 0\n",
      "\u001b[2m\u001b[36m(_WandbLoggingActor pid=1664543)\u001b[0m wandb:                                           iterations_since_restore 3\n",
      "\u001b[2m\u001b[36m(_WandbLoggingActor pid=1664543)\u001b[0m wandb:                                            num_agent_steps_sampled 12000\n",
      "\u001b[2m\u001b[36m(_WandbLoggingActor pid=1664543)\u001b[0m wandb:                                            num_agent_steps_trained 0\n",
      "\u001b[2m\u001b[36m(_WandbLoggingActor pid=1664543)\u001b[0m wandb:                                              num_env_steps_sampled 12000\n",
      "\u001b[2m\u001b[36m(_WandbLoggingActor pid=1664543)\u001b[0m wandb:                                    num_env_steps_sampled_this_iter 4000\n",
      "\u001b[2m\u001b[36m(_WandbLoggingActor pid=1664543)\u001b[0m wandb:                           num_env_steps_sampled_throughput_per_sec 579.96081\n",
      "\u001b[2m\u001b[36m(_WandbLoggingActor pid=1664543)\u001b[0m wandb:                                              num_env_steps_trained 0\n",
      "\u001b[2m\u001b[36m(_WandbLoggingActor pid=1664543)\u001b[0m wandb:                                    num_env_steps_trained_this_iter 0\n",
      "\u001b[2m\u001b[36m(_WandbLoggingActor pid=1664543)\u001b[0m wandb:                           num_env_steps_trained_throughput_per_sec 0.0\n",
      "\u001b[2m\u001b[36m(_WandbLoggingActor pid=1664543)\u001b[0m wandb:                                                num_faulty_episodes 0\n",
      "\u001b[2m\u001b[36m(_WandbLoggingActor pid=1664543)\u001b[0m wandb:                                                num_healthy_workers 3\n",
      "\u001b[2m\u001b[36m(_WandbLoggingActor pid=1664543)\u001b[0m wandb:                                           num_in_flight_async_reqs 0\n",
      "\u001b[2m\u001b[36m(_WandbLoggingActor pid=1664543)\u001b[0m wandb:                                         num_remote_worker_restarts 0\n",
      "\u001b[2m\u001b[36m(_WandbLoggingActor pid=1664543)\u001b[0m wandb:                                        num_steps_trained_this_iter 0\n",
      "\u001b[2m\u001b[36m(_WandbLoggingActor pid=1664543)\u001b[0m wandb:                                              perf/cpu_util_percent 17.36667\n",
      "\u001b[2m\u001b[36m(_WandbLoggingActor pid=1664543)\u001b[0m wandb:                                             perf/gpu_util_percent0 0.0\n",
      "\u001b[2m\u001b[36m(_WandbLoggingActor pid=1664543)\u001b[0m wandb:                                             perf/gpu_util_percent1 0.0\n",
      "\u001b[2m\u001b[36m(_WandbLoggingActor pid=1664543)\u001b[0m wandb:                                             perf/gpu_util_percent2 0.0\n",
      "\u001b[2m\u001b[36m(_WandbLoggingActor pid=1664543)\u001b[0m wandb:                                             perf/gpu_util_percent3 0.24889\n",
      "\u001b[2m\u001b[36m(_WandbLoggingActor pid=1664543)\u001b[0m wandb:                                              perf/ram_util_percent 26.5\n",
      "\u001b[2m\u001b[36m(_WandbLoggingActor pid=1664543)\u001b[0m wandb:                                            perf/vram_util_percent0 0.02122\n",
      "\u001b[2m\u001b[36m(_WandbLoggingActor pid=1664543)\u001b[0m wandb:                                            perf/vram_util_percent1 0.0182\n",
      "\u001b[2m\u001b[36m(_WandbLoggingActor pid=1664543)\u001b[0m wandb:                                            perf/vram_util_percent2 0.0182\n",
      "\u001b[2m\u001b[36m(_WandbLoggingActor pid=1664543)\u001b[0m wandb:                                            perf/vram_util_percent3 0.08239\n",
      "\u001b[2m\u001b[36m(_WandbLoggingActor pid=1664543)\u001b[0m wandb:                             sampler_perf/mean_action_processing_ms 0.16343\n",
      "\u001b[2m\u001b[36m(_WandbLoggingActor pid=1664543)\u001b[0m wandb:                                    sampler_perf/mean_env_render_ms 0.0\n",
      "\u001b[2m\u001b[36m(_WandbLoggingActor pid=1664543)\u001b[0m wandb:                                      sampler_perf/mean_env_wait_ms 0.08906\n",
      "\u001b[2m\u001b[36m(_WandbLoggingActor pid=1664543)\u001b[0m wandb:                                     sampler_perf/mean_inference_ms 1.11328\n",
      "\u001b[2m\u001b[36m(_WandbLoggingActor pid=1664543)\u001b[0m wandb:                            sampler_perf/mean_raw_obs_processing_ms 0.38168\n",
      "\u001b[2m\u001b[36m(_WandbLoggingActor pid=1664543)\u001b[0m wandb:      sampler_results/connector_metrics/ObsPreprocessorConnector_ms 0.00473\n",
      "\u001b[2m\u001b[36m(_WandbLoggingActor pid=1664543)\u001b[0m wandb:          sampler_results/connector_metrics/StateBufferConnector_ms 0.00338\n",
      "\u001b[2m\u001b[36m(_WandbLoggingActor pid=1664543)\u001b[0m wandb: sampler_results/connector_metrics/ViewRequirementAgentConnector_ms 0.20345\n",
      "\u001b[2m\u001b[36m(_WandbLoggingActor pid=1664543)\u001b[0m wandb:                                   sampler_results/episode_len_mean 102.31\n",
      "\u001b[2m\u001b[36m(_WandbLoggingActor pid=1664543)\u001b[0m wandb:                                 sampler_results/episode_reward_max -10100.0\n",
      "\u001b[2m\u001b[36m(_WandbLoggingActor pid=1664543)\u001b[0m wandb:                                sampler_results/episode_reward_mean -10102.31\n",
      "\u001b[2m\u001b[36m(_WandbLoggingActor pid=1664543)\u001b[0m wandb:                                 sampler_results/episode_reward_min -10140.0\n",
      "\u001b[2m\u001b[36m(_WandbLoggingActor pid=1664543)\u001b[0m wandb:                                 sampler_results/episodes_this_iter 39\n",
      "\u001b[2m\u001b[36m(_WandbLoggingActor pid=1664543)\u001b[0m wandb:                                sampler_results/num_faulty_episodes 0\n",
      "\u001b[2m\u001b[36m(_WandbLoggingActor pid=1664543)\u001b[0m wandb:             sampler_results/sampler_perf/mean_action_processing_ms 0.16343\n",
      "\u001b[2m\u001b[36m(_WandbLoggingActor pid=1664543)\u001b[0m wandb:                    sampler_results/sampler_perf/mean_env_render_ms 0.0\n",
      "\u001b[2m\u001b[36m(_WandbLoggingActor pid=1664543)\u001b[0m wandb:                      sampler_results/sampler_perf/mean_env_wait_ms 0.08906\n",
      "\u001b[2m\u001b[36m(_WandbLoggingActor pid=1664543)\u001b[0m wandb:                     sampler_results/sampler_perf/mean_inference_ms 1.11328\n",
      "\u001b[2m\u001b[36m(_WandbLoggingActor pid=1664543)\u001b[0m wandb:            sampler_results/sampler_perf/mean_raw_obs_processing_ms 0.38168\n",
      "\u001b[2m\u001b[36m(_WandbLoggingActor pid=1664543)\u001b[0m wandb:                                                 time_since_restore 20.7752\n",
      "\u001b[2m\u001b[36m(_WandbLoggingActor pid=1664543)\u001b[0m wandb:                                                   time_this_iter_s 6.90316\n",
      "\u001b[2m\u001b[36m(_WandbLoggingActor pid=1664543)\u001b[0m wandb:                                                       time_total_s 20.7752\n",
      "2024-05-12 16:11:17,687\tINFO tune.py:1143 -- Total run time: 34.60 seconds (29.63 seconds for the tuning loop).\n",
      "\u001b[2m\u001b[36m(_WandbLoggingActor pid=1664543)\u001b[0m wandb:                                              timers/sample_time_ms 2363.935\n",
      "\u001b[2m\u001b[36m(_WandbLoggingActor pid=1664543)\u001b[0m wandb:                                       timers/synch_weights_time_ms 5.805\n",
      "\u001b[2m\u001b[36m(_WandbLoggingActor pid=1664543)\u001b[0m wandb:                                  timers/training_iteration_time_ms 6919.156\n",
      "\u001b[2m\u001b[36m(_WandbLoggingActor pid=1664543)\u001b[0m wandb:                                                          timestamp 1715555472\n",
      "\u001b[2m\u001b[36m(_WandbLoggingActor pid=1664543)\u001b[0m wandb:                                                    timesteps_total 12000\n",
      "\u001b[2m\u001b[36m(_WandbLoggingActor pid=1664543)\u001b[0m wandb:                                                 training_iteration 3\n",
      "\u001b[2m\u001b[36m(_WandbLoggingActor pid=1664543)\u001b[0m wandb: \n",
      "\u001b[2m\u001b[36m(_WandbLoggingActor pid=1664543)\u001b[0m wandb: 🚀 View run PPO_CodersStrikeBackSingle_db492_00000 at: https://wandb.ai/tristntran/RL-Projects/runs/db492_00000\n",
      "\u001b[2m\u001b[36m(_WandbLoggingActor pid=1664543)\u001b[0m wandb: ⭐️ View project at: https://wandb.ai/tristntran/RL-Projects\n",
      "\u001b[2m\u001b[36m(_WandbLoggingActor pid=1664543)\u001b[0m wandb: Synced 5 W&B file(s), 0 media file(s), 0 artifact file(s) and 0 other file(s)\n",
      "\u001b[2m\u001b[36m(_WandbLoggingActor pid=1664543)\u001b[0m wandb: Find logs at: ./wandb/run-20240512_161052-db492_00000/logs\n"
     ]
    },
    {
     "data": {
      "text/plain": [
       "ResultGrid<[\n",
       "  Result(\n",
       "    metrics={'custom_metrics': {}, 'episode_media': {}, 'info': {'learner': {'__all__': {'num_agent_steps_trained': 128.0, 'num_env_steps_trained': 4000.0, 'total_loss': 7.307951598279257}, 'default_policy': {'total_loss': 7.307951598279257, 'policy_loss': -0.05196320661790431, 'vf_loss': 7.3480512986559345, 'vf_loss_unclipped': 5121432.709221749, 'vf_explained_var': -6.563005162708795e-05, 'entropy': 4.039082076249601, 'mean_kl_loss': 0.02636333086619353, 'default_optimizer_lr': 5.000000000000001e-05, 'curr_lr': 5e-05, 'curr_entropy_coeff': 0.0, 'curr_kl_coeff': 0.675000011920929}}, 'num_env_steps_sampled': 12000, 'num_env_steps_trained': 0, 'num_agent_steps_sampled': 12000, 'num_agent_steps_trained': 0}, 'sampler_results': {'episode_reward_max': -10100.0, 'episode_reward_min': -10140.0, 'episode_reward_mean': -10102.31, 'episode_len_mean': 102.31, 'episode_media': {}, 'episodes_this_iter': 39, 'policy_reward_min': {}, 'policy_reward_max': {}, 'policy_reward_mean': {}, 'custom_metrics': {}, 'hist_stats': {'episode_reward': [-10100.0, -10116.0, -10140.0, -10140.0, -10114.0, -10100.0, -10100.0, -10100.0, -10100.0, -10100.0, -10100.0, -10100.0, -10100.0, -10100.0, -10100.0, -10111.0, -10100.0, -10100.0, -10100.0, -10100.0, -10100.0, -10100.0, -10100.0, -10100.0, -10100.0, -10100.0, -10100.0, -10100.0, -10100.0, -10109.0, -10100.0, -10100.0, -10100.0, -10100.0, -10100.0, -10100.0, -10100.0, -10100.0, -10100.0, -10123.0, -10100.0, -10100.0, -10100.0, -10100.0, -10100.0, -10112.0, -10100.0, -10100.0, -10100.0, -10100.0, -10100.0, -10100.0, -10100.0, -10100.0, -10100.0, -10100.0, -10100.0, -10100.0, -10110.0, -10100.0, -10100.0, -10100.0, -10100.0, -10122.0, -10100.0, -10100.0, -10100.0, -10100.0, -10122.0, -10100.0, -10100.0, -10100.0, -10100.0, -10100.0, -10100.0, -10100.0, -10100.0, -10100.0, -10100.0, -10100.0, -10100.0, -10100.0, -10112.0, -10100.0, -10100.0, -10100.0, -10100.0, -10100.0, -10100.0, -10100.0, -10100.0, -10100.0, -10100.0, -10100.0, -10100.0, -10100.0, -10100.0, -10100.0, -10100.0, -10100.0], 'episode_lengths': [100, 116, 140, 140, 114, 100, 100, 100, 100, 100, 100, 100, 100, 100, 100, 111, 100, 100, 100, 100, 100, 100, 100, 100, 100, 100, 100, 100, 100, 109, 100, 100, 100, 100, 100, 100, 100, 100, 100, 123, 100, 100, 100, 100, 100, 112, 100, 100, 100, 100, 100, 100, 100, 100, 100, 100, 100, 100, 110, 100, 100, 100, 100, 122, 100, 100, 100, 100, 122, 100, 100, 100, 100, 100, 100, 100, 100, 100, 100, 100, 100, 100, 112, 100, 100, 100, 100, 100, 100, 100, 100, 100, 100, 100, 100, 100, 100, 100, 100, 100]}, 'sampler_perf': {'mean_raw_obs_processing_ms': 0.38168034623709984, 'mean_inference_ms': 1.113281413694913, 'mean_action_processing_ms': 0.16343109754355242, 'mean_env_wait_ms': 0.08906195875457815, 'mean_env_render_ms': 0.0}, 'num_faulty_episodes': 0, 'connector_metrics': {'ObsPreprocessorConnector_ms': 0.004731178283691406, 'StateBufferConnector_ms': 0.0033788681030273438, 'ViewRequirementAgentConnector_ms': 0.2034463882446289}}, 'episode_reward_max': -10100.0, 'episode_reward_min': -10140.0, 'episode_reward_mean': -10102.31, 'episode_len_mean': 102.31, 'episodes_this_iter': 39, 'policy_reward_min': {}, 'policy_reward_max': {}, 'policy_reward_mean': {}, 'hist_stats': {'episode_reward': [-10100.0, -10116.0, -10140.0, -10140.0, -10114.0, -10100.0, -10100.0, -10100.0, -10100.0, -10100.0, -10100.0, -10100.0, -10100.0, -10100.0, -10100.0, -10111.0, -10100.0, -10100.0, -10100.0, -10100.0, -10100.0, -10100.0, -10100.0, -10100.0, -10100.0, -10100.0, -10100.0, -10100.0, -10100.0, -10109.0, -10100.0, -10100.0, -10100.0, -10100.0, -10100.0, -10100.0, -10100.0, -10100.0, -10100.0, -10123.0, -10100.0, -10100.0, -10100.0, -10100.0, -10100.0, -10112.0, -10100.0, -10100.0, -10100.0, -10100.0, -10100.0, -10100.0, -10100.0, -10100.0, -10100.0, -10100.0, -10100.0, -10100.0, -10110.0, -10100.0, -10100.0, -10100.0, -10100.0, -10122.0, -10100.0, -10100.0, -10100.0, -10100.0, -10122.0, -10100.0, -10100.0, -10100.0, -10100.0, -10100.0, -10100.0, -10100.0, -10100.0, -10100.0, -10100.0, -10100.0, -10100.0, -10100.0, -10112.0, -10100.0, -10100.0, -10100.0, -10100.0, -10100.0, -10100.0, -10100.0, -10100.0, -10100.0, -10100.0, -10100.0, -10100.0, -10100.0, -10100.0, -10100.0, -10100.0, -10100.0], 'episode_lengths': [100, 116, 140, 140, 114, 100, 100, 100, 100, 100, 100, 100, 100, 100, 100, 111, 100, 100, 100, 100, 100, 100, 100, 100, 100, 100, 100, 100, 100, 109, 100, 100, 100, 100, 100, 100, 100, 100, 100, 123, 100, 100, 100, 100, 100, 112, 100, 100, 100, 100, 100, 100, 100, 100, 100, 100, 100, 100, 110, 100, 100, 100, 100, 122, 100, 100, 100, 100, 122, 100, 100, 100, 100, 100, 100, 100, 100, 100, 100, 100, 100, 100, 112, 100, 100, 100, 100, 100, 100, 100, 100, 100, 100, 100, 100, 100, 100, 100, 100, 100]}, 'sampler_perf': {'mean_raw_obs_processing_ms': 0.38168034623709984, 'mean_inference_ms': 1.113281413694913, 'mean_action_processing_ms': 0.16343109754355242, 'mean_env_wait_ms': 0.08906195875457815, 'mean_env_render_ms': 0.0}, 'num_faulty_episodes': 0, 'connector_metrics': {'ObsPreprocessorConnector_ms': 0.004731178283691406, 'StateBufferConnector_ms': 0.0033788681030273438, 'ViewRequirementAgentConnector_ms': 0.2034463882446289}, 'num_healthy_workers': 3, 'num_in_flight_async_reqs': 0, 'num_remote_worker_restarts': 0, 'num_agent_steps_sampled': 12000, 'num_agent_steps_trained': 0, 'num_env_steps_sampled': 12000, 'num_env_steps_trained': 0, 'num_env_steps_sampled_this_iter': 4000, 'num_env_steps_trained_this_iter': 0, 'num_env_steps_sampled_throughput_per_sec': 579.960812617755, 'num_env_steps_trained_throughput_per_sec': 0.0, 'num_steps_trained_this_iter': 0, 'agent_timesteps_total': 12000, 'timers': {'training_iteration_time_ms': 6919.156, 'sample_time_ms': 2363.935, 'synch_weights_time_ms': 5.805}, 'counters': {'num_env_steps_sampled': 12000, 'num_env_steps_trained': 0, 'num_agent_steps_sampled': 12000, 'num_agent_steps_trained': 0}, 'perf': {'cpu_util_percent': 17.366666666666664, 'ram_util_percent': 26.5, 'gpu_util_percent0': 0.0, 'vram_util_percent0': 0.021218039772727272, 'gpu_util_percent1': 0.0, 'vram_util_percent1': 0.018199573863636364, 'gpu_util_percent2': 0.0, 'vram_util_percent2': 0.018199573863636364, 'gpu_util_percent3': 0.2488888888888889, 'vram_util_percent3': 0.08238636363636363}},\n",
       "    path='/home/healthcare/ray_results/PPO_2024-05-12_16-10-42/PPO_CodersStrikeBackSingle_db492_00000_0_2024-05-12_16-10-43',\n",
       "    filesystem='local',\n",
       "    checkpoint=Checkpoint(filesystem=local, path=/home/healthcare/ray_results/PPO_2024-05-12_16-10-42/PPO_CodersStrikeBackSingle_db492_00000_0_2024-05-12_16-10-43/checkpoint_000000)\n",
       "  )\n",
       "]>"
      ]
     },
     "execution_count": 8,
     "metadata": {},
     "output_type": "execute_result"
    }
   ],
   "source": [
    "config = (PPOConfig()\n",
    "          .environment(csbsingleenv.CodersStrikeBackSingle)\n",
    "          .framework('torch')\n",
    "          .training(gamma=0.9)\n",
    "          .rollouts(num_rollout_workers=3)\n",
    ")\n",
    "\n",
    "stop = {\"timesteps_total\": 12000}\n",
    "\n",
    "tuner = tune.Tuner(\n",
    "    \"PPO\",\n",
    "    param_space=config.to_dict(),\n",
    "    run_config=air.RunConfig(stop=stop,\n",
    "                             callbacks=[WandbLoggerCallback(project=\"RL-Projects\",upload_checkpoints=True,\n",
    "                                                            save_checkpoints=True, group=\"rl-class-2024\")]),\n",
    ")\n",
    "\n",
    "tuner.fit()"
   ]
  },
  {
   "cell_type": "markdown",
   "id": "d8d321ff-ac2c-4690-98d3-098bc6810f1b",
   "metadata": {},
   "source": [
    "# Empty Customized Environment"
   ]
  },
  {
   "cell_type": "code",
   "execution_count": 9,
   "id": "66a9419a-f667-4a75-906e-d6e119c2e2df",
   "metadata": {},
   "outputs": [],
   "source": [
    "import csbsingleenv\n",
    "\n",
    "import sys\n",
    "# Assuming your Python file is in 'src' under 'my_project' directory\n",
    "sys.path.append('../..')\n",
    "import env_customizer"
   ]
  },
  {
   "cell_type": "code",
   "execution_count": 10,
   "id": "46e0bd4a-ea4e-44d9-a4d6-28dd39bc6d6b",
   "metadata": {},
   "outputs": [],
   "source": [
    "import ray\n",
    "from ray import tune, air\n",
    "from ray.rllib.algorithms.ppo import PPOConfig\n",
    "from functools import partial"
   ]
  },
  {
   "cell_type": "code",
   "execution_count": 11,
   "id": "5cb0b676-9a43-4930-9c08-23d0b80f0816",
   "metadata": {},
   "outputs": [
    {
     "name": "stderr",
     "output_type": "stream",
     "text": [
      "2024-05-12 16:11:22,239\tINFO worker.py:1642 -- Started a local Ray instance.\n",
      "2024-05-12 16:11:22,344\tINFO packaging.py:518 -- Creating a file package for local directory '../..'.\n",
      "2024-05-12 16:11:22,445\tINFO packaging.py:346 -- Pushing file package 'gcs://_ray_pkg_7acded97c7d60515.zip' (13.71MiB) to Ray cluster...\n",
      "2024-05-12 16:11:22,510\tINFO packaging.py:359 -- Successfully pushed file package 'gcs://_ray_pkg_7acded97c7d60515.zip'.\n"
     ]
    },
    {
     "data": {
      "application/vnd.jupyter.widget-view+json": {
       "model_id": "37142565f7884608a7a7b5e3b82f2ff1",
       "version_major": 2,
       "version_minor": 0
      },
      "text/html": [
       "<div class=\"lm-Widget p-Widget lm-Panel p-Panel jp-Cell-outputWrapper\">\n",
       "    <div style=\"margin-left: 50px;display: flex;flex-direction: row;align-items: center\">\n",
       "        <div class=\"jp-RenderedHTMLCommon\" style=\"display: flex; flex-direction: row;\">\n",
       "  <svg viewBox=\"0 0 567 224\" fill=\"none\" xmlns=\"http://www.w3.org/2000/svg\" style=\"height: 3em;\">\n",
       "    <g clip-path=\"url(#clip0_4338_178347)\">\n",
       "        <path d=\"M341.29 165.561H355.29L330.13 129.051C345.63 123.991 354.21 112.051 354.21 94.2307C354.21 71.3707 338.72 58.1807 311.88 58.1807H271V165.561H283.27V131.661H311.8C314.25 131.661 316.71 131.501 319.01 131.351L341.25 165.561H341.29ZM283.29 119.851V70.0007H311.82C331.3 70.0007 342.34 78.2907 342.34 94.5507C342.34 111.271 331.34 119.861 311.82 119.861L283.29 119.851ZM451.4 138.411L463.4 165.561H476.74L428.74 58.1807H416L367.83 165.561H380.83L392.83 138.411H451.4ZM446.19 126.601H398L422 72.1407L446.24 126.601H446.19ZM526.11 128.741L566.91 58.1807H554.35L519.99 114.181L485.17 58.1807H472.44L514.01 129.181V165.541H526.13V128.741H526.11Z\" fill=\"var(--jp-ui-font-color0)\"/>\n",
       "        <path d=\"M82.35 104.44C84.0187 97.8827 87.8248 92.0678 93.1671 87.9146C98.5094 83.7614 105.083 81.5067 111.85 81.5067C118.617 81.5067 125.191 83.7614 130.533 87.9146C135.875 92.0678 139.681 97.8827 141.35 104.44H163.75C164.476 101.562 165.622 98.8057 167.15 96.2605L127.45 56.5605C121.071 60.3522 113.526 61.6823 106.235 60.3005C98.9443 58.9187 92.4094 54.9203 87.8602 49.0574C83.3109 43.1946 81.0609 35.8714 81.5332 28.4656C82.0056 21.0599 85.1679 14.0819 90.4252 8.8446C95.6824 3.60726 102.672 0.471508 110.08 0.0272655C117.487 -0.416977 124.802 1.86091 130.647 6.4324C136.493 11.0039 140.467 17.5539 141.821 24.8501C143.175 32.1463 141.816 39.6859 138 46.0505L177.69 85.7505C182.31 82.9877 187.58 81.4995 192.962 81.4375C198.345 81.3755 203.648 82.742 208.33 85.3976C213.012 88.0532 216.907 91.9029 219.616 96.5544C222.326 101.206 223.753 106.492 223.753 111.875C223.753 117.258 222.326 122.545 219.616 127.197C216.907 131.848 213.012 135.698 208.33 138.353C203.648 141.009 198.345 142.375 192.962 142.313C187.58 142.251 182.31 140.763 177.69 138L138 177.7C141.808 184.071 143.155 191.614 141.79 198.91C140.424 206.205 136.44 212.75 130.585 217.313C124.731 221.875 117.412 224.141 110.004 223.683C102.596 223.226 95.6103 220.077 90.3621 214.828C85.1139 209.58 81.9647 202.595 81.5072 195.187C81.0497 187.779 83.3154 180.459 87.878 174.605C92.4405 168.751 98.9853 164.766 106.281 163.401C113.576 162.035 121.119 163.383 127.49 167.19L167.19 127.49C165.664 124.941 164.518 122.182 163.79 119.3H141.39C139.721 125.858 135.915 131.673 130.573 135.826C125.231 139.98 118.657 142.234 111.89 142.234C105.123 142.234 98.5494 139.98 93.2071 135.826C87.8648 131.673 84.0587 125.858 82.39 119.3H60C58.1878 126.495 53.8086 132.78 47.6863 136.971C41.5641 141.163 34.1211 142.972 26.7579 142.059C19.3947 141.146 12.6191 137.574 7.70605 132.014C2.79302 126.454 0.0813599 119.29 0.0813599 111.87C0.0813599 104.451 2.79302 97.2871 7.70605 91.7272C12.6191 86.1673 19.3947 82.5947 26.7579 81.6817C34.1211 80.7686 41.5641 82.5781 47.6863 86.7696C53.8086 90.9611 58.1878 97.2456 60 104.44H82.35ZM100.86 204.32C103.407 206.868 106.759 208.453 110.345 208.806C113.93 209.159 117.527 208.258 120.522 206.256C123.517 204.254 125.725 201.276 126.771 197.828C127.816 194.38 127.633 190.677 126.253 187.349C124.874 184.021 122.383 181.274 119.205 179.577C116.027 177.88 112.359 177.337 108.826 178.042C105.293 178.746 102.113 180.654 99.8291 183.44C97.5451 186.226 96.2979 189.718 96.3 193.32C96.2985 195.364 96.7006 197.388 97.4831 199.275C98.2656 201.163 99.4132 202.877 100.86 204.32ZM204.32 122.88C206.868 120.333 208.453 116.981 208.806 113.396C209.159 109.811 208.258 106.214 206.256 103.219C204.254 100.223 201.275 98.0151 197.827 96.97C194.38 95.9249 190.676 96.1077 187.348 97.4873C184.02 98.8669 181.274 101.358 179.577 104.536C177.879 107.714 177.337 111.382 178.041 114.915C178.746 118.448 180.653 121.627 183.439 123.911C186.226 126.195 189.717 127.443 193.32 127.44C195.364 127.443 197.388 127.042 199.275 126.259C201.163 125.476 202.878 124.328 204.32 122.88ZM122.88 19.4205C120.333 16.8729 116.981 15.2876 113.395 14.9347C109.81 14.5817 106.213 15.483 103.218 17.4849C100.223 19.4868 98.0146 22.4654 96.9696 25.9131C95.9245 29.3608 96.1073 33.0642 97.4869 36.3922C98.8665 39.7202 101.358 42.4668 104.535 44.1639C107.713 45.861 111.381 46.4036 114.914 45.6992C118.447 44.9949 121.627 43.0871 123.911 40.301C126.195 37.515 127.442 34.0231 127.44 30.4205C127.44 28.3772 127.038 26.3539 126.255 24.4664C125.473 22.5788 124.326 20.8642 122.88 19.4205ZM19.42 100.86C16.8725 103.408 15.2872 106.76 14.9342 110.345C14.5813 113.93 15.4826 117.527 17.4844 120.522C19.4863 123.518 22.4649 125.726 25.9127 126.771C29.3604 127.816 33.0638 127.633 36.3918 126.254C39.7198 124.874 42.4664 122.383 44.1635 119.205C45.8606 116.027 46.4032 112.359 45.6988 108.826C44.9944 105.293 43.0866 102.114 40.3006 99.8296C37.5145 97.5455 34.0227 96.2983 30.42 96.3005C26.2938 96.3018 22.337 97.9421 19.42 100.86ZM100.86 100.86C98.3125 103.408 96.7272 106.76 96.3742 110.345C96.0213 113.93 96.9226 117.527 98.9244 120.522C100.926 123.518 103.905 125.726 107.353 126.771C110.8 127.816 114.504 127.633 117.832 126.254C121.16 124.874 123.906 122.383 125.604 119.205C127.301 116.027 127.843 112.359 127.139 108.826C126.434 105.293 124.527 102.114 121.741 99.8296C118.955 97.5455 115.463 96.2983 111.86 96.3005C109.817 96.299 107.793 96.701 105.905 97.4835C104.018 98.2661 102.303 99.4136 100.86 100.86Z\" fill=\"#00AEEF\"/>\n",
       "    </g>\n",
       "    <defs>\n",
       "        <clipPath id=\"clip0_4338_178347\">\n",
       "            <rect width=\"566.93\" height=\"223.75\" fill=\"white\"/>\n",
       "        </clipPath>\n",
       "    </defs>\n",
       "  </svg>\n",
       "</div>\n",
       "\n",
       "        <table class=\"jp-RenderedHTMLCommon\" style=\"border-collapse: collapse;color: var(--jp-ui-font-color1);font-size: var(--jp-ui-font-size1);\">\n",
       "    <tr>\n",
       "        <td style=\"text-align: left\"><b>Python version:</b></td>\n",
       "        <td style=\"text-align: left\"><b>3.10.12</b></td>\n",
       "    </tr>\n",
       "    <tr>\n",
       "        <td style=\"text-align: left\"><b>Ray version:</b></td>\n",
       "        <td style=\"text-align: left\"><b>2.7.0</b></td>\n",
       "    </tr>\n",
       "    \n",
       "</table>\n",
       "\n",
       "    </div>\n",
       "</div>\n"
      ],
      "text/plain": [
       "RayContext(dashboard_url='', python_version='3.10.12', ray_version='2.7.0', ray_commit='b4bba4717f5ba04ee25580fe8f88eed63ef0c5dc', protocol_version=None)"
      ]
     },
     "execution_count": 11,
     "metadata": {},
     "output_type": "execute_result"
    }
   ],
   "source": [
    "if ray.is_initialized():\n",
    "  ray.shutdown()\n",
    "\n",
    "runtime_env = {\"py_modules\": [\"../..\"]}\n",
    "ray.init(num_cpus=4, runtime_env=runtime_env)"
   ]
  },
  {
   "cell_type": "code",
   "execution_count": 12,
   "id": "c1ecaa6d-682a-4e5b-bf00-07f2245caf79",
   "metadata": {
    "tags": []
   },
   "outputs": [
    {
     "data": {
      "text/html": [
       "<div class=\"tuneStatus\">\n",
       "  <div style=\"display: flex;flex-direction: row\">\n",
       "    <div style=\"display: flex;flex-direction: column;\">\n",
       "      <h3>Tune Status</h3>\n",
       "      <table>\n",
       "<tbody>\n",
       "<tr><td>Current time:</td><td>2024-05-12 16:11:54</td></tr>\n",
       "<tr><td>Running for: </td><td>00:00:31.39        </td></tr>\n",
       "<tr><td>Memory:      </td><td>33.3/125.5 GiB     </td></tr>\n",
       "</tbody>\n",
       "</table>\n",
       "    </div>\n",
       "    <div class=\"vDivider\"></div>\n",
       "    <div class=\"systemInfo\">\n",
       "      <h3>System Info</h3>\n",
       "      Using FIFO scheduling algorithm.<br>Logical resource usage: 4.0/4 CPUs, 0/4 GPUs (0.0/1.0 accelerator_type:G)\n",
       "    </div>\n",
       "    \n",
       "  </div>\n",
       "  <div class=\"hDivider\"></div>\n",
       "  <div class=\"trialStatus\">\n",
       "    <h3>Trial Status</h3>\n",
       "    <table>\n",
       "<thead>\n",
       "<tr><th>Trial name                           </th><th>status    </th><th>loc                    </th><th style=\"text-align: right;\">  iter</th><th style=\"text-align: right;\">  total time (s)</th><th style=\"text-align: right;\">   ts</th><th style=\"text-align: right;\">  reward</th><th style=\"text-align: right;\">  episode_reward_max</th><th style=\"text-align: right;\">  episode_reward_min</th><th style=\"text-align: right;\">  episode_len_mean</th></tr>\n",
       "</thead>\n",
       "<tbody>\n",
       "<tr><td>PPO_CustomizedEnvironment_f3239_00000</td><td>TERMINATED</td><td>206.211.132.160:1665329</td><td style=\"text-align: right;\">     3</td><td style=\"text-align: right;\">         21.3203</td><td style=\"text-align: right;\">12000</td><td style=\"text-align: right;\">-10103.6</td><td style=\"text-align: right;\">              -10100</td><td style=\"text-align: right;\">              -10200</td><td style=\"text-align: right;\">            103.58</td></tr>\n",
       "</tbody>\n",
       "</table>\n",
       "  </div>\n",
       "</div>\n",
       "<style>\n",
       ".tuneStatus {\n",
       "  color: var(--jp-ui-font-color1);\n",
       "}\n",
       ".tuneStatus .systemInfo {\n",
       "  display: flex;\n",
       "  flex-direction: column;\n",
       "}\n",
       ".tuneStatus td {\n",
       "  white-space: nowrap;\n",
       "}\n",
       ".tuneStatus .trialStatus {\n",
       "  display: flex;\n",
       "  flex-direction: column;\n",
       "}\n",
       ".tuneStatus h3 {\n",
       "  font-weight: bold;\n",
       "}\n",
       ".tuneStatus .hDivider {\n",
       "  border-bottom-width: var(--jp-border-width);\n",
       "  border-bottom-color: var(--jp-border-color0);\n",
       "  border-bottom-style: solid;\n",
       "}\n",
       ".tuneStatus .vDivider {\n",
       "  border-left-width: var(--jp-border-width);\n",
       "  border-left-color: var(--jp-border-color0);\n",
       "  border-left-style: solid;\n",
       "  margin: 0.5em 1em 0.5em 1em;\n",
       "}\n",
       "</style>\n"
      ],
      "text/plain": [
       "<IPython.core.display.HTML object>"
      ]
     },
     "metadata": {},
     "output_type": "display_data"
    },
    {
     "name": "stderr",
     "output_type": "stream",
     "text": [
      "2024-05-12 16:11:23,130\tINFO wandb.py:308 -- Already logged into W&B.\n",
      "2024-05-12 16:11:23,136\tWARNING algorithm_config.py:2578 -- Setting `exploration_config={}` because you set `_enable_rl_module_api=True`. When RLModule API are enabled, exploration_config can not be set. If you want to implement custom exploration behaviour, please modify the `forward_exploration` method of the RLModule at hand. On configs that have a default exploration config, this must be done with `config.exploration_config={}`.\n",
      "\u001b[2m\u001b[36m(pid=1665329)\u001b[0m DeprecationWarning: `DirectStepOptimizer` has been deprecated. This will raise an error in the future!\n",
      "\u001b[2m\u001b[36m(PPO pid=1665329)\u001b[0m 2024-05-12 16:11:27,215\tWARNING algorithm_config.py:2578 -- Setting `exploration_config={}` because you set `_enable_rl_module_api=True`. When RLModule API are enabled, exploration_config can not be set. If you want to implement custom exploration behaviour, please modify the `forward_exploration` method of the RLModule at hand. On configs that have a default exploration config, this must be done with `config.exploration_config={}`.\n",
      "\u001b[2m\u001b[36m(PPO pid=1665329)\u001b[0m 2024-05-12 16:11:27,215\tWARNING algorithm_config.py:672 -- Cannot create PPOConfig from given `config_dict`! Property __stdout_file__ not supported.\n",
      "\u001b[2m\u001b[36m(RolloutWorker pid=1665390)\u001b[0m 2024-05-12 16:11:30,532\tWARNING env.py:162 -- Your env doesn't have a .spec.max_episode_steps attribute. Your horizon will default to infinity, and your environment will not be reset.\n",
      "\u001b[2m\u001b[36m(RolloutWorker pid=1665390)\u001b[0m 2024-05-12 16:11:30,542\tWARNING deprecation.py:50 -- DeprecationWarning: `ValueNetworkMixin` has been deprecated. This will raise an error in the future!\n",
      "\u001b[2m\u001b[36m(RolloutWorker pid=1665390)\u001b[0m 2024-05-12 16:11:30,543\tWARNING deprecation.py:50 -- DeprecationWarning: `LearningRateSchedule` has been deprecated. This will raise an error in the future!\n",
      "\u001b[2m\u001b[36m(RolloutWorker pid=1665390)\u001b[0m 2024-05-12 16:11:30,543\tWARNING deprecation.py:50 -- DeprecationWarning: `EntropyCoeffSchedule` has been deprecated. This will raise an error in the future!\n",
      "\u001b[2m\u001b[36m(RolloutWorker pid=1665390)\u001b[0m 2024-05-12 16:11:30,543\tWARNING deprecation.py:50 -- DeprecationWarning: `KLCoeffMixin` has been deprecated. This will raise an error in the future!\n",
      "\u001b[2m\u001b[36m(_WandbLoggingActor pid=1665567)\u001b[0m DeprecationWarning: `DirectStepOptimizer` has been deprecated. This will raise an error in the future!\u001b[32m [repeated 4x across cluster]\u001b[0m\n",
      "\u001b[2m\u001b[36m(PPO pid=1665329)\u001b[0m 2024-05-12 16:11:30,669\tWARNING algorithm_config.py:2578 -- Setting `exploration_config={}` because you set `_enable_rl_module_api=True`. When RLModule API are enabled, exploration_config can not be set. If you want to implement custom exploration behaviour, please modify the `forward_exploration` method of the RLModule at hand. On configs that have a default exploration config, this must be done with `config.exploration_config={}`.\u001b[32m [repeated 4x across cluster]\u001b[0m\n",
      "\u001b[2m\u001b[36m(_WandbLoggingActor pid=1665567)\u001b[0m wandb: Currently logged in as: tristntran. Use `wandb login --relogin` to force relogin\n",
      "\u001b[2m\u001b[36m(_WandbLoggingActor pid=1665567)\u001b[0m wandb: Tracking run with wandb version 0.17.0\n",
      "\u001b[2m\u001b[36m(_WandbLoggingActor pid=1665567)\u001b[0m wandb: Run data is saved locally in /home/healthcare/ray_results/PPO_2024-05-12_16-11-23/PPO_CustomizedEnvironment_f3239_00000_0_2024-05-12_16-11-23/wandb/run-20240512_161134-f3239_00000\n",
      "\u001b[2m\u001b[36m(_WandbLoggingActor pid=1665567)\u001b[0m wandb: Run `wandb offline` to turn off syncing.\n",
      "\u001b[2m\u001b[36m(_WandbLoggingActor pid=1665567)\u001b[0m wandb: Syncing run PPO_CustomizedEnvironment_f3239_00000\n",
      "\u001b[2m\u001b[36m(_WandbLoggingActor pid=1665567)\u001b[0m wandb: ⭐️ View project at https://wandb.ai/tristntran/RL-Projects\n",
      "\u001b[2m\u001b[36m(_WandbLoggingActor pid=1665567)\u001b[0m wandb: 🚀 View run at https://wandb.ai/tristntran/RL-Projects/runs/f3239_00000\n",
      "2024-05-12 16:11:40,205\tWARNING util.py:315 -- The `callbacks.on_trial_result` operation took 2.275 s, which may be a performance bottleneck.\n",
      "2024-05-12 16:11:40,210\tWARNING util.py:315 -- The `process_trial_result` operation took 2.281 s, which may be a performance bottleneck.\n",
      "2024-05-12 16:11:40,211\tWARNING util.py:315 -- Processing trial results took 2.282 s, which may be a performance bottleneck. Please consider reporting results less frequently to Ray Tune.\n",
      "2024-05-12 16:11:40,212\tWARNING util.py:315 -- The `process_trial_result` operation took 2.283 s, which may be a performance bottleneck.\n",
      "\u001b[2m\u001b[36m(PPO pid=1665329)\u001b[0m 2024-05-12 16:11:30,683\tWARNING deprecation.py:50 -- DeprecationWarning: `ValueNetworkMixin` has been deprecated. This will raise an error in the future!\n",
      "\u001b[2m\u001b[36m(PPO pid=1665329)\u001b[0m 2024-05-12 16:11:30,683\tWARNING deprecation.py:50 -- DeprecationWarning: `LearningRateSchedule` has been deprecated. This will raise an error in the future!\n",
      "\u001b[2m\u001b[36m(PPO pid=1665329)\u001b[0m 2024-05-12 16:11:30,683\tWARNING deprecation.py:50 -- DeprecationWarning: `EntropyCoeffSchedule` has been deprecated. This will raise an error in the future!\n",
      "\u001b[2m\u001b[36m(PPO pid=1665329)\u001b[0m 2024-05-12 16:11:30,683\tWARNING deprecation.py:50 -- DeprecationWarning: `KLCoeffMixin` has been deprecated. This will raise an error in the future!\n",
      "\u001b[2m\u001b[36m(_QueueActor pid=1665565)\u001b[0m DeprecationWarning: `DirectStepOptimizer` has been deprecated. This will raise an error in the future!\n",
      "\u001b[2m\u001b[36m(PPO pid=1665329)\u001b[0m Checkpoint successfully created at: Checkpoint(filesystem=local, path=/home/healthcare/ray_results/PPO_2024-05-12_16-11-23/PPO_CustomizedEnvironment_f3239_00000_0_2024-05-12_16-11-23/checkpoint_000000)\n",
      "\u001b[2m\u001b[36m(_WandbLoggingActor pid=1665567)\u001b[0m wandb: Adding directory to artifact (/home/healthcare/ray_results/PPO_2024-05-12_16-11-23/PPO_CustomizedEnvironment_f3239_00000_0_2024-05-12_16-11-23/checkpoint_000000)... Done. 0.0s\n",
      "\u001b[2m\u001b[36m(_WandbLoggingActor pid=1665567)\u001b[0m wandb: - 2.268 MB of 2.268 MB uploaded\n",
      "\u001b[2m\u001b[36m(_WandbLoggingActor pid=1665567)\u001b[0m wandb: \\ 2.268 MB of 2.268 MB uploaded\n",
      "\u001b[2m\u001b[36m(_WandbLoggingActor pid=1665567)\u001b[0m wandb: | 2.268 MB of 2.268 MB uploaded\n",
      "\u001b[2m\u001b[36m(_WandbLoggingActor pid=1665567)\u001b[0m wandb: / 2.268 MB of 2.287 MB uploaded\n",
      "wandb:                                                                                \n",
      "\u001b[2m\u001b[36m(_WandbLoggingActor pid=1665567)\u001b[0m wandb: \n",
      "\u001b[2m\u001b[36m(_WandbLoggingActor pid=1665567)\u001b[0m wandb: Run history:\n",
      "\u001b[2m\u001b[36m(_WandbLoggingActor pid=1665567)\u001b[0m wandb:                                              agent_timesteps_total ▁▅█\n",
      "\u001b[2m\u001b[36m(_WandbLoggingActor pid=1665567)\u001b[0m wandb:                      connector_metrics/ObsPreprocessorConnector_ms █▃▁\n",
      "\u001b[2m\u001b[36m(_WandbLoggingActor pid=1665567)\u001b[0m wandb:                          connector_metrics/StateBufferConnector_ms █▃▁\n",
      "\u001b[2m\u001b[36m(_WandbLoggingActor pid=1665567)\u001b[0m wandb:                 connector_metrics/ViewRequirementAgentConnector_ms █▃▁\n",
      "\u001b[2m\u001b[36m(_WandbLoggingActor pid=1665567)\u001b[0m wandb:                                   counters/num_agent_steps_sampled ▁▅█\n",
      "\u001b[2m\u001b[36m(_WandbLoggingActor pid=1665567)\u001b[0m wandb:                                   counters/num_agent_steps_trained ▁▁▁\n",
      "\u001b[2m\u001b[36m(_WandbLoggingActor pid=1665567)\u001b[0m wandb:                                     counters/num_env_steps_sampled ▁▅█\n",
      "\u001b[2m\u001b[36m(_WandbLoggingActor pid=1665567)\u001b[0m wandb:                                     counters/num_env_steps_trained ▁▁▁\n",
      "\u001b[2m\u001b[36m(_WandbLoggingActor pid=1665567)\u001b[0m wandb:                                                   episode_len_mean █▁▄\n",
      "\u001b[2m\u001b[36m(_WandbLoggingActor pid=1665567)\u001b[0m wandb:                                                 episode_reward_max ▁▁▁\n",
      "\u001b[2m\u001b[36m(_WandbLoggingActor pid=1665567)\u001b[0m wandb:                                                episode_reward_mean ▁█▅\n",
      "\u001b[2m\u001b[36m(_WandbLoggingActor pid=1665567)\u001b[0m wandb:                                                 episode_reward_min ██▁\n",
      "\u001b[2m\u001b[36m(_WandbLoggingActor pid=1665567)\u001b[0m wandb:                                                 episodes_this_iter ██▁\n",
      "\u001b[2m\u001b[36m(_WandbLoggingActor pid=1665567)\u001b[0m wandb:                                                     episodes_total ▁▅█\n",
      "\u001b[2m\u001b[36m(_WandbLoggingActor pid=1665567)\u001b[0m wandb:                       info/learner/__all__/num_agent_steps_trained ▁▁▁\n",
      "\u001b[2m\u001b[36m(_WandbLoggingActor pid=1665567)\u001b[0m wandb:                         info/learner/__all__/num_env_steps_trained ▁▁▁\n",
      "\u001b[2m\u001b[36m(_WandbLoggingActor pid=1665567)\u001b[0m wandb:                                    info/learner/__all__/total_loss █▃▁\n",
      "\u001b[2m\u001b[36m(_WandbLoggingActor pid=1665567)\u001b[0m wandb:                     info/learner/default_policy/curr_entropy_coeff ▁▁▁\n",
      "\u001b[2m\u001b[36m(_WandbLoggingActor pid=1665567)\u001b[0m wandb:                          info/learner/default_policy/curr_kl_coeff ▁▄█\n",
      "\u001b[2m\u001b[36m(_WandbLoggingActor pid=1665567)\u001b[0m wandb:                                info/learner/default_policy/curr_lr ▁▁▁\n",
      "\u001b[2m\u001b[36m(_WandbLoggingActor pid=1665567)\u001b[0m wandb:                   info/learner/default_policy/default_optimizer_lr ▁▁▁\n",
      "\u001b[2m\u001b[36m(_WandbLoggingActor pid=1665567)\u001b[0m wandb:                                info/learner/default_policy/entropy ▁▃█\n",
      "\u001b[2m\u001b[36m(_WandbLoggingActor pid=1665567)\u001b[0m wandb:                           info/learner/default_policy/mean_kl_loss ▂█▁\n",
      "\u001b[2m\u001b[36m(_WandbLoggingActor pid=1665567)\u001b[0m wandb:                            info/learner/default_policy/policy_loss ▁▁█\n",
      "\u001b[2m\u001b[36m(_WandbLoggingActor pid=1665567)\u001b[0m wandb:                             info/learner/default_policy/total_loss █▃▁\n",
      "\u001b[2m\u001b[36m(_WandbLoggingActor pid=1665567)\u001b[0m wandb:                       info/learner/default_policy/vf_explained_var ▁██\n",
      "\u001b[2m\u001b[36m(_WandbLoggingActor pid=1665567)\u001b[0m wandb:                                info/learner/default_policy/vf_loss █▃▁\n",
      "\u001b[2m\u001b[36m(_WandbLoggingActor pid=1665567)\u001b[0m wandb:                      info/learner/default_policy/vf_loss_unclipped █▇▁\n",
      "\u001b[2m\u001b[36m(_WandbLoggingActor pid=1665567)\u001b[0m wandb:                                       info/num_agent_steps_sampled ▁▅█\n",
      "\u001b[2m\u001b[36m(_WandbLoggingActor pid=1665567)\u001b[0m wandb:                                       info/num_agent_steps_trained ▁▁▁\n",
      "\u001b[2m\u001b[36m(_WandbLoggingActor pid=1665567)\u001b[0m wandb:                                         info/num_env_steps_sampled ▁▅█\n",
      "\u001b[2m\u001b[36m(_WandbLoggingActor pid=1665567)\u001b[0m wandb:                                         info/num_env_steps_trained ▁▁▁\n",
      "\u001b[2m\u001b[36m(_WandbLoggingActor pid=1665567)\u001b[0m wandb:                                           iterations_since_restore ▁▅█\n",
      "\u001b[2m\u001b[36m(_WandbLoggingActor pid=1665567)\u001b[0m wandb:                                            num_agent_steps_sampled ▁▅█\n",
      "\u001b[2m\u001b[36m(_WandbLoggingActor pid=1665567)\u001b[0m wandb:                                            num_agent_steps_trained ▁▁▁\n",
      "\u001b[2m\u001b[36m(_WandbLoggingActor pid=1665567)\u001b[0m wandb:                                              num_env_steps_sampled ▁▅█\n",
      "\u001b[2m\u001b[36m(_WandbLoggingActor pid=1665567)\u001b[0m wandb:                                    num_env_steps_sampled_this_iter ▁▁▁\n",
      "\u001b[2m\u001b[36m(_WandbLoggingActor pid=1665567)\u001b[0m wandb:                           num_env_steps_sampled_throughput_per_sec ▁█▁\n",
      "\u001b[2m\u001b[36m(_WandbLoggingActor pid=1665567)\u001b[0m wandb:                                              num_env_steps_trained ▁▁▁\n",
      "\u001b[2m\u001b[36m(_WandbLoggingActor pid=1665567)\u001b[0m wandb:                                    num_env_steps_trained_this_iter ▁▁▁\n",
      "\u001b[2m\u001b[36m(_WandbLoggingActor pid=1665567)\u001b[0m wandb:                           num_env_steps_trained_throughput_per_sec ▁▁▁\n",
      "\u001b[2m\u001b[36m(_WandbLoggingActor pid=1665567)\u001b[0m wandb:                                                num_faulty_episodes ▁▁▁\n",
      "\u001b[2m\u001b[36m(_WandbLoggingActor pid=1665567)\u001b[0m wandb:                                                num_healthy_workers ▁▁▁\n",
      "\u001b[2m\u001b[36m(_WandbLoggingActor pid=1665567)\u001b[0m wandb:                                           num_in_flight_async_reqs ▁▁▁\n",
      "\u001b[2m\u001b[36m(_WandbLoggingActor pid=1665567)\u001b[0m wandb:                                         num_remote_worker_restarts ▁▁▁\n",
      "\u001b[2m\u001b[36m(_WandbLoggingActor pid=1665567)\u001b[0m wandb:                                        num_steps_trained_this_iter ▁▁▁\n",
      "\u001b[2m\u001b[36m(_WandbLoggingActor pid=1665567)\u001b[0m wandb:                                              perf/cpu_util_percent █▁▄\n",
      "\u001b[2m\u001b[36m(_WandbLoggingActor pid=1665567)\u001b[0m wandb:                                             perf/gpu_util_percent0 ▁▁▁\n",
      "\u001b[2m\u001b[36m(_WandbLoggingActor pid=1665567)\u001b[0m wandb:                                             perf/gpu_util_percent1 ▁▁▁\n",
      "\u001b[2m\u001b[36m(_WandbLoggingActor pid=1665567)\u001b[0m wandb:                                             perf/gpu_util_percent2 ▁▁▁\n",
      "\u001b[2m\u001b[36m(_WandbLoggingActor pid=1665567)\u001b[0m wandb:                                             perf/gpu_util_percent3 █▁▁\n",
      "\u001b[2m\u001b[36m(_WandbLoggingActor pid=1665567)\u001b[0m wandb:                                              perf/ram_util_percent ▁▆█\n",
      "\u001b[2m\u001b[36m(_WandbLoggingActor pid=1665567)\u001b[0m wandb:                                            perf/vram_util_percent0 ▁▁▁\n",
      "\u001b[2m\u001b[36m(_WandbLoggingActor pid=1665567)\u001b[0m wandb:                                            perf/vram_util_percent1 ▁▁▁\n",
      "\u001b[2m\u001b[36m(_WandbLoggingActor pid=1665567)\u001b[0m wandb:                                            perf/vram_util_percent2 ▁▁▁\n",
      "\u001b[2m\u001b[36m(_WandbLoggingActor pid=1665567)\u001b[0m wandb:                                            perf/vram_util_percent3 ▁▂█\n",
      "\u001b[2m\u001b[36m(_WandbLoggingActor pid=1665567)\u001b[0m wandb:                             sampler_perf/mean_action_processing_ms █▄▁\n",
      "\u001b[2m\u001b[36m(_WandbLoggingActor pid=1665567)\u001b[0m wandb:                                    sampler_perf/mean_env_render_ms ▁▁▁\n",
      "\u001b[2m\u001b[36m(_WandbLoggingActor pid=1665567)\u001b[0m wandb:                                      sampler_perf/mean_env_wait_ms █▄▁\n",
      "\u001b[2m\u001b[36m(_WandbLoggingActor pid=1665567)\u001b[0m wandb:                                     sampler_perf/mean_inference_ms █▄▁\n",
      "\u001b[2m\u001b[36m(_WandbLoggingActor pid=1665567)\u001b[0m wandb:                            sampler_perf/mean_raw_obs_processing_ms █▄▁\n",
      "\u001b[2m\u001b[36m(_WandbLoggingActor pid=1665567)\u001b[0m wandb:      sampler_results/connector_metrics/ObsPreprocessorConnector_ms █▃▁\n",
      "\u001b[2m\u001b[36m(_WandbLoggingActor pid=1665567)\u001b[0m wandb:          sampler_results/connector_metrics/StateBufferConnector_ms █▃▁\n",
      "\u001b[2m\u001b[36m(_WandbLoggingActor pid=1665567)\u001b[0m wandb: sampler_results/connector_metrics/ViewRequirementAgentConnector_ms █▃▁\n",
      "\u001b[2m\u001b[36m(_WandbLoggingActor pid=1665567)\u001b[0m wandb:                                   sampler_results/episode_len_mean █▁▄\n",
      "\u001b[2m\u001b[36m(_WandbLoggingActor pid=1665567)\u001b[0m wandb:                                 sampler_results/episode_reward_max ▁▁▁\n",
      "\u001b[2m\u001b[36m(_WandbLoggingActor pid=1665567)\u001b[0m wandb:                                sampler_results/episode_reward_mean ▁█▅\n",
      "\u001b[2m\u001b[36m(_WandbLoggingActor pid=1665567)\u001b[0m wandb:                                 sampler_results/episode_reward_min ██▁\n",
      "\u001b[2m\u001b[36m(_WandbLoggingActor pid=1665567)\u001b[0m wandb:                                 sampler_results/episodes_this_iter ██▁\n",
      "\u001b[2m\u001b[36m(_WandbLoggingActor pid=1665567)\u001b[0m wandb:                                sampler_results/num_faulty_episodes ▁▁▁\n",
      "\u001b[2m\u001b[36m(_WandbLoggingActor pid=1665567)\u001b[0m wandb:             sampler_results/sampler_perf/mean_action_processing_ms █▄▁\n",
      "\u001b[2m\u001b[36m(_WandbLoggingActor pid=1665567)\u001b[0m wandb:                    sampler_results/sampler_perf/mean_env_render_ms ▁▁▁\n",
      "\u001b[2m\u001b[36m(_WandbLoggingActor pid=1665567)\u001b[0m wandb:                      sampler_results/sampler_perf/mean_env_wait_ms █▄▁\n",
      "\u001b[2m\u001b[36m(_WandbLoggingActor pid=1665567)\u001b[0m wandb:                     sampler_results/sampler_perf/mean_inference_ms █▄▁\n",
      "\u001b[2m\u001b[36m(_WandbLoggingActor pid=1665567)\u001b[0m wandb:            sampler_results/sampler_perf/mean_raw_obs_processing_ms █▄▁\n",
      "\u001b[2m\u001b[36m(_WandbLoggingActor pid=1665567)\u001b[0m wandb:                                                 time_since_restore ▁▄█\n",
      "\u001b[2m\u001b[36m(_WandbLoggingActor pid=1665567)\u001b[0m wandb:                                                   time_this_iter_s █▁█\n",
      "\u001b[2m\u001b[36m(_WandbLoggingActor pid=1665567)\u001b[0m wandb:                                                       time_total_s ▁▄█\n",
      "\u001b[2m\u001b[36m(_WandbLoggingActor pid=1665567)\u001b[0m wandb:                                              timers/sample_time_ms █▂▁\n",
      "\u001b[2m\u001b[36m(_WandbLoggingActor pid=1665567)\u001b[0m wandb:                                       timers/synch_weights_time_ms ▁▄█\n",
      "\u001b[2m\u001b[36m(_WandbLoggingActor pid=1665567)\u001b[0m wandb:                                  timers/training_iteration_time_ms █▁▃\n",
      "\u001b[2m\u001b[36m(_WandbLoggingActor pid=1665567)\u001b[0m wandb:                                                          timestamp ▁▅█\n",
      "\u001b[2m\u001b[36m(_WandbLoggingActor pid=1665567)\u001b[0m wandb:                                                    timesteps_total ▁▅█\n",
      "\u001b[2m\u001b[36m(_WandbLoggingActor pid=1665567)\u001b[0m wandb:                                                 training_iteration ▁▅█\n",
      "\u001b[2m\u001b[36m(_WandbLoggingActor pid=1665567)\u001b[0m wandb: \n",
      "\u001b[2m\u001b[36m(_WandbLoggingActor pid=1665567)\u001b[0m wandb: Run summary:\n",
      "\u001b[2m\u001b[36m(_WandbLoggingActor pid=1665567)\u001b[0m wandb:                                              agent_timesteps_total 12000\n",
      "\u001b[2m\u001b[36m(_WandbLoggingActor pid=1665567)\u001b[0m wandb:                      connector_metrics/ObsPreprocessorConnector_ms 0.00487\n",
      "\u001b[2m\u001b[36m(_WandbLoggingActor pid=1665567)\u001b[0m wandb:                          connector_metrics/StateBufferConnector_ms 0.00328\n",
      "\u001b[2m\u001b[36m(_WandbLoggingActor pid=1665567)\u001b[0m wandb:                 connector_metrics/ViewRequirementAgentConnector_ms 0.20803\n",
      "\u001b[2m\u001b[36m(_WandbLoggingActor pid=1665567)\u001b[0m wandb:                                   counters/num_agent_steps_sampled 12000\n",
      "\u001b[2m\u001b[36m(_WandbLoggingActor pid=1665567)\u001b[0m wandb:                                   counters/num_agent_steps_trained 0\n",
      "\u001b[2m\u001b[36m(_WandbLoggingActor pid=1665567)\u001b[0m wandb:                                     counters/num_env_steps_sampled 12000\n",
      "\u001b[2m\u001b[36m(_WandbLoggingActor pid=1665567)\u001b[0m wandb:                                     counters/num_env_steps_trained 0\n",
      "\u001b[2m\u001b[36m(_WandbLoggingActor pid=1665567)\u001b[0m wandb:                                                   episode_len_mean 103.58\n",
      "\u001b[2m\u001b[36m(_WandbLoggingActor pid=1665567)\u001b[0m wandb:                                                 episode_reward_max -10100.0\n",
      "\u001b[2m\u001b[36m(_WandbLoggingActor pid=1665567)\u001b[0m wandb:                                                episode_reward_mean -10103.58\n",
      "\u001b[2m\u001b[36m(_WandbLoggingActor pid=1665567)\u001b[0m wandb:                                                 episode_reward_min -10200.0\n",
      "\u001b[2m\u001b[36m(_WandbLoggingActor pid=1665567)\u001b[0m wandb:                                                 episodes_this_iter 37\n",
      "\u001b[2m\u001b[36m(_WandbLoggingActor pid=1665567)\u001b[0m wandb:                                                     episodes_total 113\n",
      "\u001b[2m\u001b[36m(_WandbLoggingActor pid=1665567)\u001b[0m wandb:                       info/learner/__all__/num_agent_steps_trained 128.0\n",
      "\u001b[2m\u001b[36m(_WandbLoggingActor pid=1665567)\u001b[0m wandb:                         info/learner/__all__/num_env_steps_trained 4000.0\n",
      "\u001b[2m\u001b[36m(_WandbLoggingActor pid=1665567)\u001b[0m wandb:                                    info/learner/__all__/total_loss 7.01954\n",
      "\u001b[2m\u001b[36m(_WandbLoggingActor pid=1665567)\u001b[0m wandb:                     info/learner/default_policy/curr_entropy_coeff 0.0\n",
      "\u001b[2m\u001b[36m(_WandbLoggingActor pid=1665567)\u001b[0m wandb:                          info/learner/default_policy/curr_kl_coeff 0.675\n",
      "\u001b[2m\u001b[36m(_WandbLoggingActor pid=1665567)\u001b[0m wandb:                                info/learner/default_policy/curr_lr 5e-05\n",
      "\u001b[2m\u001b[36m(_WandbLoggingActor pid=1665567)\u001b[0m wandb:                   info/learner/default_policy/default_optimizer_lr 5e-05\n",
      "\u001b[2m\u001b[36m(_WandbLoggingActor pid=1665567)\u001b[0m wandb:                                info/learner/default_policy/entropy 4.31872\n",
      "\u001b[2m\u001b[36m(_WandbLoggingActor pid=1665567)\u001b[0m wandb:                           info/learner/default_policy/mean_kl_loss 0.02699\n",
      "\u001b[2m\u001b[36m(_WandbLoggingActor pid=1665567)\u001b[0m wandb:                            info/learner/default_policy/policy_loss -0.05339\n",
      "\u001b[2m\u001b[36m(_WandbLoggingActor pid=1665567)\u001b[0m wandb:                             info/learner/default_policy/total_loss 7.01954\n",
      "\u001b[2m\u001b[36m(_WandbLoggingActor pid=1665567)\u001b[0m wandb:                       info/learner/default_policy/vf_explained_var -6e-05\n",
      "\u001b[2m\u001b[36m(_WandbLoggingActor pid=1665567)\u001b[0m wandb:                                info/learner/default_policy/vf_loss 7.06079\n",
      "\u001b[2m\u001b[36m(_WandbLoggingActor pid=1665567)\u001b[0m wandb:                      info/learner/default_policy/vf_loss_unclipped 4859401.15316\n",
      "\u001b[2m\u001b[36m(_WandbLoggingActor pid=1665567)\u001b[0m wandb:                                       info/num_agent_steps_sampled 12000\n",
      "\u001b[2m\u001b[36m(_WandbLoggingActor pid=1665567)\u001b[0m wandb:                                       info/num_agent_steps_trained 0\n",
      "\u001b[2m\u001b[36m(_WandbLoggingActor pid=1665567)\u001b[0m wandb:                                         info/num_env_steps_sampled 12000\n",
      "\u001b[2m\u001b[36m(_WandbLoggingActor pid=1665567)\u001b[0m wandb:                                         info/num_env_steps_trained 0\n",
      "\u001b[2m\u001b[36m(_WandbLoggingActor pid=1665567)\u001b[0m wandb:                                           iterations_since_restore 3\n",
      "\u001b[2m\u001b[36m(_WandbLoggingActor pid=1665567)\u001b[0m wandb:                                            num_agent_steps_sampled 12000\n",
      "\u001b[2m\u001b[36m(_WandbLoggingActor pid=1665567)\u001b[0m wandb:                                            num_agent_steps_trained 0\n",
      "\u001b[2m\u001b[36m(_WandbLoggingActor pid=1665567)\u001b[0m wandb:                                              num_env_steps_sampled 12000\n",
      "\u001b[2m\u001b[36m(_WandbLoggingActor pid=1665567)\u001b[0m wandb:                                    num_env_steps_sampled_this_iter 4000\n",
      "\u001b[2m\u001b[36m(_WandbLoggingActor pid=1665567)\u001b[0m wandb:                           num_env_steps_sampled_throughput_per_sec 559.26132\n",
      "\u001b[2m\u001b[36m(_WandbLoggingActor pid=1665567)\u001b[0m wandb:                                              num_env_steps_trained 0\n",
      "\u001b[2m\u001b[36m(_WandbLoggingActor pid=1665567)\u001b[0m wandb:                                    num_env_steps_trained_this_iter 0\n",
      "\u001b[2m\u001b[36m(_WandbLoggingActor pid=1665567)\u001b[0m wandb:                           num_env_steps_trained_throughput_per_sec 0.0\n",
      "\u001b[2m\u001b[36m(_WandbLoggingActor pid=1665567)\u001b[0m wandb:                                                num_faulty_episodes 0\n",
      "\u001b[2m\u001b[36m(_WandbLoggingActor pid=1665567)\u001b[0m wandb:                                                num_healthy_workers 3\n",
      "\u001b[2m\u001b[36m(_WandbLoggingActor pid=1665567)\u001b[0m wandb:                                           num_in_flight_async_reqs 0\n",
      "\u001b[2m\u001b[36m(_WandbLoggingActor pid=1665567)\u001b[0m wandb:                                         num_remote_worker_restarts 0\n",
      "\u001b[2m\u001b[36m(_WandbLoggingActor pid=1665567)\u001b[0m wandb:                                        num_steps_trained_this_iter 0\n",
      "\u001b[2m\u001b[36m(_WandbLoggingActor pid=1665567)\u001b[0m wandb:                                              perf/cpu_util_percent 18.01111\n",
      "\u001b[2m\u001b[36m(_WandbLoggingActor pid=1665567)\u001b[0m wandb:                                             perf/gpu_util_percent0 0.0\n",
      "\u001b[2m\u001b[36m(_WandbLoggingActor pid=1665567)\u001b[0m wandb:                                             perf/gpu_util_percent1 0.0\n",
      "\u001b[2m\u001b[36m(_WandbLoggingActor pid=1665567)\u001b[0m wandb:                                             perf/gpu_util_percent2 0.0\n",
      "\u001b[2m\u001b[36m(_WandbLoggingActor pid=1665567)\u001b[0m wandb:                                             perf/gpu_util_percent3 0.26\n",
      "\u001b[2m\u001b[36m(_WandbLoggingActor pid=1665567)\u001b[0m wandb:                                              perf/ram_util_percent 26.57778\n",
      "\u001b[2m\u001b[36m(_WandbLoggingActor pid=1665567)\u001b[0m wandb:                                            perf/vram_util_percent0 0.02122\n",
      "\u001b[2m\u001b[36m(_WandbLoggingActor pid=1665567)\u001b[0m wandb:                                            perf/vram_util_percent1 0.0182\n",
      "\u001b[2m\u001b[36m(_WandbLoggingActor pid=1665567)\u001b[0m wandb:                                            perf/vram_util_percent2 0.0182\n",
      "\u001b[2m\u001b[36m(_WandbLoggingActor pid=1665567)\u001b[0m wandb:                                            perf/vram_util_percent3 0.08627\n",
      "\u001b[2m\u001b[36m(_WandbLoggingActor pid=1665567)\u001b[0m wandb:                             sampler_perf/mean_action_processing_ms 0.16483\n",
      "\u001b[2m\u001b[36m(_WandbLoggingActor pid=1665567)\u001b[0m wandb:                                    sampler_perf/mean_env_render_ms 0.0\n",
      "\u001b[2m\u001b[36m(_WandbLoggingActor pid=1665567)\u001b[0m wandb:                                      sampler_perf/mean_env_wait_ms 0.09266\n",
      "\u001b[2m\u001b[36m(_WandbLoggingActor pid=1665567)\u001b[0m wandb:                                     sampler_perf/mean_inference_ms 1.11219\n",
      "\u001b[2m\u001b[36m(_WandbLoggingActor pid=1665567)\u001b[0m wandb:                            sampler_perf/mean_raw_obs_processing_ms 0.38507\n",
      "\u001b[2m\u001b[36m(_WandbLoggingActor pid=1665567)\u001b[0m wandb:      sampler_results/connector_metrics/ObsPreprocessorConnector_ms 0.00487\n",
      "\u001b[2m\u001b[36m(_WandbLoggingActor pid=1665567)\u001b[0m wandb:          sampler_results/connector_metrics/StateBufferConnector_ms 0.00328\n",
      "\u001b[2m\u001b[36m(_WandbLoggingActor pid=1665567)\u001b[0m wandb: sampler_results/connector_metrics/ViewRequirementAgentConnector_ms 0.20803\n",
      "\u001b[2m\u001b[36m(_WandbLoggingActor pid=1665567)\u001b[0m wandb:                                   sampler_results/episode_len_mean 103.58\n",
      "\u001b[2m\u001b[36m(_WandbLoggingActor pid=1665567)\u001b[0m wandb:                                 sampler_results/episode_reward_max -10100.0\n",
      "\u001b[2m\u001b[36m(_WandbLoggingActor pid=1665567)\u001b[0m wandb:                                sampler_results/episode_reward_mean -10103.58\n",
      "\u001b[2m\u001b[36m(_WandbLoggingActor pid=1665567)\u001b[0m wandb:                                 sampler_results/episode_reward_min -10200.0\n",
      "\u001b[2m\u001b[36m(_WandbLoggingActor pid=1665567)\u001b[0m wandb:                                 sampler_results/episodes_this_iter 37\n",
      "\u001b[2m\u001b[36m(_WandbLoggingActor pid=1665567)\u001b[0m wandb:                                sampler_results/num_faulty_episodes 0\n",
      "\u001b[2m\u001b[36m(_WandbLoggingActor pid=1665567)\u001b[0m wandb:             sampler_results/sampler_perf/mean_action_processing_ms 0.16483\n",
      "\u001b[2m\u001b[36m(_WandbLoggingActor pid=1665567)\u001b[0m wandb:                    sampler_results/sampler_perf/mean_env_render_ms 0.0\n",
      "\u001b[2m\u001b[36m(_WandbLoggingActor pid=1665567)\u001b[0m wandb:                      sampler_results/sampler_perf/mean_env_wait_ms 0.09266\n",
      "\u001b[2m\u001b[36m(_WandbLoggingActor pid=1665567)\u001b[0m wandb:                     sampler_results/sampler_perf/mean_inference_ms 1.11219\n",
      "\u001b[2m\u001b[36m(_WandbLoggingActor pid=1665567)\u001b[0m wandb:            sampler_results/sampler_perf/mean_raw_obs_processing_ms 0.38507\n",
      "\u001b[2m\u001b[36m(_WandbLoggingActor pid=1665567)\u001b[0m wandb:                                                 time_since_restore 21.32028\n",
      "\u001b[2m\u001b[36m(_WandbLoggingActor pid=1665567)\u001b[0m wandb:                                                   time_this_iter_s 7.15832\n",
      "\u001b[2m\u001b[36m(_WandbLoggingActor pid=1665567)\u001b[0m wandb:                                                       time_total_s 21.32028\n",
      "\u001b[2m\u001b[36m(_WandbLoggingActor pid=1665567)\u001b[0m wandb:                                              timers/sample_time_ms 2380.624\n",
      "\u001b[2m\u001b[36m(_WandbLoggingActor pid=1665567)\u001b[0m wandb:                                       timers/synch_weights_time_ms 5.465\n",
      "\u001b[2m\u001b[36m(_WandbLoggingActor pid=1665567)\u001b[0m wandb:                                  timers/training_iteration_time_ms 7101.043\n",
      "\u001b[2m\u001b[36m(_WandbLoggingActor pid=1665567)\u001b[0m wandb:                                                          timestamp 1715555514\n",
      "\u001b[2m\u001b[36m(_WandbLoggingActor pid=1665567)\u001b[0m wandb:                                                    timesteps_total 12000\n",
      "\u001b[2m\u001b[36m(_WandbLoggingActor pid=1665567)\u001b[0m wandb:                                                 training_iteration 3\n",
      "\u001b[2m\u001b[36m(_WandbLoggingActor pid=1665567)\u001b[0m wandb: \n",
      "\u001b[2m\u001b[36m(_WandbLoggingActor pid=1665567)\u001b[0m wandb: 🚀 View run PPO_CustomizedEnvironment_f3239_00000 at: https://wandb.ai/tristntran/RL-Projects/runs/f3239_00000\n",
      "\u001b[2m\u001b[36m(_WandbLoggingActor pid=1665567)\u001b[0m wandb: ⭐️ View project at: https://wandb.ai/tristntran/RL-Projects\n",
      "\u001b[2m\u001b[36m(_WandbLoggingActor pid=1665567)\u001b[0m wandb: Synced 5 W&B file(s), 0 media file(s), 9 artifact file(s) and 0 other file(s)\n",
      "\u001b[2m\u001b[36m(_WandbLoggingActor pid=1665567)\u001b[0m wandb: Find logs at: ./wandb/run-20240512_161134-f3239_00000/logs\n",
      "2024-05-12 16:12:03,100\tINFO tune.py:1143 -- Total run time: 39.99 seconds (31.38 seconds for the tuning loop).\n"
     ]
    },
    {
     "data": {
      "text/plain": [
       "ResultGrid<[\n",
       "  Result(\n",
       "    metrics={'custom_metrics': {}, 'episode_media': {}, 'info': {'learner': {'__all__': {'num_agent_steps_trained': 128.0, 'num_env_steps_trained': 4000.0, 'total_loss': 7.019537636712353}, 'default_policy': {'total_loss': 7.019537636712353, 'policy_loss': -0.05339170935482327, 'vf_loss': 7.0607852718469175, 'vf_loss_unclipped': 4859401.15315894, 'vf_explained_var': -6.320005032553602e-05, 'entropy': 4.318720665567719, 'mean_kl_loss': 0.02698683410676058, 'default_optimizer_lr': 5.000000000000001e-05, 'curr_lr': 5e-05, 'curr_entropy_coeff': 0.0, 'curr_kl_coeff': 0.675000011920929}}, 'num_env_steps_sampled': 12000, 'num_env_steps_trained': 0, 'num_agent_steps_sampled': 12000, 'num_agent_steps_trained': 0}, 'sampler_results': {'episode_reward_max': -10100.0, 'episode_reward_min': -10200.0, 'episode_reward_mean': -10103.58, 'episode_len_mean': 103.58, 'episode_media': {}, 'episodes_this_iter': 37, 'policy_reward_min': {}, 'policy_reward_max': {}, 'policy_reward_mean': {}, 'custom_metrics': {}, 'hist_stats': {'episode_reward': [-10100.0, -10100.0, -10100.0, -10100.0, -10100.0, -10100.0, -10100.0, -10100.0, -10100.0, -10121.0, -10100.0, -10100.0, -10100.0, -10100.0, -10100.0, -10100.0, -10100.0, -10100.0, -10100.0, -10100.0, -10100.0, -10100.0, -10100.0, -10121.0, -10100.0, -10100.0, -10100.0, -10100.0, -10108.0, -10100.0, -10100.0, -10100.0, -10100.0, -10100.0, -10100.0, -10100.0, -10100.0, -10100.0, -10100.0, -10100.0, -10100.0, -10100.0, -10100.0, -10100.0, -10100.0, -10100.0, -10100.0, -10115.0, -10100.0, -10100.0, -10100.0, -10100.0, -10100.0, -10100.0, -10100.0, -10100.0, -10100.0, -10100.0, -10100.0, -10100.0, -10120.0, -10100.0, -10112.0, -10100.0, -10100.0, -10177.0, -10100.0, -10100.0, -10100.0, -10109.0, -10100.0, -10100.0, -10100.0, -10100.0, -10100.0, -10100.0, -10110.0, -10100.0, -10100.0, -10100.0, -10100.0, -10100.0, -10100.0, -10200.0, -10100.0, -10100.0, -10100.0, -10150.0, -10100.0, -10100.0, -10100.0, -10100.0, -10100.0, -10115.0, -10100.0, -10100.0, -10100.0, -10100.0, -10100.0, -10100.0], 'episode_lengths': [100, 100, 100, 100, 100, 100, 100, 100, 100, 121, 100, 100, 100, 100, 100, 100, 100, 100, 100, 100, 100, 100, 100, 121, 100, 100, 100, 100, 108, 100, 100, 100, 100, 100, 100, 100, 100, 100, 100, 100, 100, 100, 100, 100, 100, 100, 100, 115, 100, 100, 100, 100, 100, 100, 100, 100, 100, 100, 100, 100, 120, 100, 112, 100, 100, 177, 100, 100, 100, 109, 100, 100, 100, 100, 100, 100, 110, 100, 100, 100, 100, 100, 100, 200, 100, 100, 100, 150, 100, 100, 100, 100, 100, 115, 100, 100, 100, 100, 100, 100]}, 'sampler_perf': {'mean_raw_obs_processing_ms': 0.3850708717089104, 'mean_inference_ms': 1.1121931824938427, 'mean_action_processing_ms': 0.1648280516887505, 'mean_env_wait_ms': 0.0926556173070856, 'mean_env_render_ms': 0.0}, 'num_faulty_episodes': 0, 'connector_metrics': {'ObsPreprocessorConnector_ms': 0.004867076873779297, 'StateBufferConnector_ms': 0.003278017044067383, 'ViewRequirementAgentConnector_ms': 0.20803141593933105}}, 'episode_reward_max': -10100.0, 'episode_reward_min': -10200.0, 'episode_reward_mean': -10103.58, 'episode_len_mean': 103.58, 'episodes_this_iter': 37, 'policy_reward_min': {}, 'policy_reward_max': {}, 'policy_reward_mean': {}, 'hist_stats': {'episode_reward': [-10100.0, -10100.0, -10100.0, -10100.0, -10100.0, -10100.0, -10100.0, -10100.0, -10100.0, -10121.0, -10100.0, -10100.0, -10100.0, -10100.0, -10100.0, -10100.0, -10100.0, -10100.0, -10100.0, -10100.0, -10100.0, -10100.0, -10100.0, -10121.0, -10100.0, -10100.0, -10100.0, -10100.0, -10108.0, -10100.0, -10100.0, -10100.0, -10100.0, -10100.0, -10100.0, -10100.0, -10100.0, -10100.0, -10100.0, -10100.0, -10100.0, -10100.0, -10100.0, -10100.0, -10100.0, -10100.0, -10100.0, -10115.0, -10100.0, -10100.0, -10100.0, -10100.0, -10100.0, -10100.0, -10100.0, -10100.0, -10100.0, -10100.0, -10100.0, -10100.0, -10120.0, -10100.0, -10112.0, -10100.0, -10100.0, -10177.0, -10100.0, -10100.0, -10100.0, -10109.0, -10100.0, -10100.0, -10100.0, -10100.0, -10100.0, -10100.0, -10110.0, -10100.0, -10100.0, -10100.0, -10100.0, -10100.0, -10100.0, -10200.0, -10100.0, -10100.0, -10100.0, -10150.0, -10100.0, -10100.0, -10100.0, -10100.0, -10100.0, -10115.0, -10100.0, -10100.0, -10100.0, -10100.0, -10100.0, -10100.0], 'episode_lengths': [100, 100, 100, 100, 100, 100, 100, 100, 100, 121, 100, 100, 100, 100, 100, 100, 100, 100, 100, 100, 100, 100, 100, 121, 100, 100, 100, 100, 108, 100, 100, 100, 100, 100, 100, 100, 100, 100, 100, 100, 100, 100, 100, 100, 100, 100, 100, 115, 100, 100, 100, 100, 100, 100, 100, 100, 100, 100, 100, 100, 120, 100, 112, 100, 100, 177, 100, 100, 100, 109, 100, 100, 100, 100, 100, 100, 110, 100, 100, 100, 100, 100, 100, 200, 100, 100, 100, 150, 100, 100, 100, 100, 100, 115, 100, 100, 100, 100, 100, 100]}, 'sampler_perf': {'mean_raw_obs_processing_ms': 0.3850708717089104, 'mean_inference_ms': 1.1121931824938427, 'mean_action_processing_ms': 0.1648280516887505, 'mean_env_wait_ms': 0.0926556173070856, 'mean_env_render_ms': 0.0}, 'num_faulty_episodes': 0, 'connector_metrics': {'ObsPreprocessorConnector_ms': 0.004867076873779297, 'StateBufferConnector_ms': 0.003278017044067383, 'ViewRequirementAgentConnector_ms': 0.20803141593933105}, 'num_healthy_workers': 3, 'num_in_flight_async_reqs': 0, 'num_remote_worker_restarts': 0, 'num_agent_steps_sampled': 12000, 'num_agent_steps_trained': 0, 'num_env_steps_sampled': 12000, 'num_env_steps_trained': 0, 'num_env_steps_sampled_this_iter': 4000, 'num_env_steps_trained_this_iter': 0, 'num_env_steps_sampled_throughput_per_sec': 559.261319212364, 'num_env_steps_trained_throughput_per_sec': 0.0, 'num_steps_trained_this_iter': 0, 'agent_timesteps_total': 12000, 'timers': {'training_iteration_time_ms': 7101.043, 'sample_time_ms': 2380.624, 'synch_weights_time_ms': 5.465}, 'counters': {'num_env_steps_sampled': 12000, 'num_env_steps_trained': 0, 'num_agent_steps_sampled': 12000, 'num_agent_steps_trained': 0}, 'perf': {'cpu_util_percent': 18.01111111111111, 'ram_util_percent': 26.57777777777778, 'gpu_util_percent0': 0.0, 'vram_util_percent0': 0.021218039772727272, 'gpu_util_percent1': 0.0, 'vram_util_percent1': 0.018199573863636364, 'gpu_util_percent2': 0.0, 'vram_util_percent2': 0.018199573863636364, 'gpu_util_percent3': 0.26, 'vram_util_percent3': 0.08627288510101011}},\n",
       "    path='/home/healthcare/ray_results/PPO_2024-05-12_16-11-23/PPO_CustomizedEnvironment_f3239_00000_0_2024-05-12_16-11-23',\n",
       "    filesystem='local',\n",
       "    checkpoint=Checkpoint(filesystem=local, path=/home/healthcare/ray_results/PPO_2024-05-12_16-11-23/PPO_CustomizedEnvironment_f3239_00000_0_2024-05-12_16-11-23/checkpoint_000000)\n",
       "  )\n",
       "]>"
      ]
     },
     "execution_count": 12,
     "metadata": {},
     "output_type": "execute_result"
    }
   ],
   "source": [
    "config = (PPOConfig()\n",
    "          .environment(env_customizer.CustomizedEnvironment,\n",
    "                      env_config={\"env\" : csbsingleenv.CodersStrikeBackSingle()})\n",
    "          .framework('torch')\n",
    "          .training(gamma=0.9)\n",
    "          .rollouts(num_rollout_workers=3)\n",
    ")\n",
    "\n",
    "stop = {\"timesteps_total\": 12000}\n",
    "\n",
    "tuner = tune.Tuner(\n",
    "    \"PPO\",\n",
    "    param_space=config.to_dict(),\n",
    "    run_config=air.RunConfig(stop=stop,\n",
    "                             callbacks=[WandbLoggerCallback(project=\"RL-Projects\",upload_checkpoints=True,\n",
    "                                                            save_checkpoints=True, group=\"rl-class-2024\")]),\n",
    ")\n",
    "\n",
    "tuner.fit()"
   ]
  },
  {
   "cell_type": "markdown",
   "id": "0a062a02-68b7-40ca-85d5-dee38f075470",
   "metadata": {},
   "source": [
    "# Real Customized Environment"
   ]
  },
  {
   "cell_type": "code",
   "execution_count": 6,
   "id": "8b33aca4-6bca-40cc-99bd-a63b0db97d86",
   "metadata": {},
   "outputs": [
    {
     "name": "stderr",
     "output_type": "stream",
     "text": [
      "2024-05-12 17:00:37,005\tWARNING deprecation.py:50 -- DeprecationWarning: `DirectStepOptimizer` has been deprecated. This will raise an error in the future!\n"
     ]
    }
   ],
   "source": [
    "import csbsingleenv\n",
    "\n",
    "import sys\n",
    "# Assuming your Python file is in 'src' under 'my_project' directory\n",
    "sys.path.append('../..')\n",
    "import env_customizer"
   ]
  },
  {
   "cell_type": "code",
   "execution_count": 7,
   "id": "168b03ab-7162-4ce7-b261-55e2835a138d",
   "metadata": {},
   "outputs": [],
   "source": [
    "import numpy as np\n",
    "import gymnasium as gym\n",
    "from gymnasium import spaces, logger\n",
    "\n",
    "# Note, this is only meant as an example of how to write a custom environment.\n",
    "# I doubt it'll actually learn well.\n",
    "class CustomizedRacing:\n",
    "    def __init__(self):\n",
    "        min_pos = -200000.0\n",
    "        max_pos = 200000.0\n",
    "        min_vel = -2000.0\n",
    "        max_vel = 2000.0\n",
    "        screen_max = [16000,9000]\n",
    "        # This observation space will only have the next checkpoint rather than the next 5.\n",
    "        self.observation_space = spaces.Box(\n",
    "            low=np.array([0, -np.pi, min_pos, min_pos, min_vel, min_vel]+[0,0]),\n",
    "            high=np.array([3, np.pi, max_pos, max_pos, max_vel, max_vel]+screen_max),\n",
    "            dtype=np.float64\n",
    "        )\n",
    "\n",
    "        # This action will be how much to turn, rather than a point to turn towards.\n",
    "        self.action_space = spaces.Box(\n",
    "            low = np.array([-1.0, 0.0]),\n",
    "            high = np.array([1.0, 100]),\n",
    "            dtype=np.float64\n",
    "        )\n",
    "\n",
    "    # We can define and reset any extra variables we want to keep track of here.\n",
    "    def reset(self):\n",
    "        self.last_checkpoint = None\n",
    "        self.last_sqr_dist = None\n",
    "\n",
    "    def reward(self, env, rew):\n",
    "        # Add reward for getting closer to the next checkpoint\n",
    "        cur_dist = csbsingleenv.get_sqr_distance(env.pos, env.next_checkpoint())\n",
    "        if self.last_sqr_dist is not None and cur_dist < self.last_sqr_dist:\n",
    "            rew += 500\n",
    "        self.last_sqr_dist = cur_dist\n",
    "        \n",
    "        # Add reward for passing a checkpoint\n",
    "        cur_checkpoint = env.checkpoint_index\n",
    "        if self.last_checkpoint is not None and cur_checkpoint != self.last_checkpoint:\n",
    "            rew += 600\n",
    "        self.last_checkpoint = cur_checkpoint\n",
    "        \n",
    "        if env.failed:\n",
    "            return -10000\n",
    "        return rew\n",
    "    \n",
    "    # Need to define the traformation.  Should be easy here since we just need to drop the excess data\n",
    "    def transform_observation(self, env, obs):\n",
    "        return obs[:8]\n",
    "\n",
    "    # Need to also transform the angle change into a point to aim at.\n",
    "    # Will define it as 1000 distance from the angle relative to current pointed direction\n",
    "    def transform_action(self, env, action):\n",
    "        preferred_dir = env.theta + action[0]*env.maxSteeringAngle\n",
    "        dir_vector = 1000*csbsingleenv.angle_to_vector(preferred_dir)\n",
    "        point_to_aim_at = env.pos + dir_vector\n",
    "        trans_action = np.array([point_to_aim_at.x, point_to_aim_at.y, action[1]])\n",
    "        return trans_action\n",
    "    "
   ]
  },
  {
   "cell_type": "code",
   "execution_count": 8,
   "id": "98cfd3a2-3670-470b-9210-184d44ff9756",
   "metadata": {},
   "outputs": [],
   "source": [
    "env = env_customizer.CustomizedEnvironment(\n",
    "    env_config={\"env\":csbsingleenv.CodersStrikeBackSingle(),\n",
    "                \"customizer\":CustomizedRacing()})"
   ]
  },
  {
   "cell_type": "code",
   "execution_count": 16,
   "id": "1d07f197-e33f-47d4-a765-c3f6de582f3e",
   "metadata": {},
   "outputs": [
    {
     "data": {
      "text/plain": [
       "(array([ 3.00000000e+00, -1.49465519e-01,  6.91600000e+03,  1.52500000e+03,\n",
       "         0.00000000e+00,  0.00000000e+00,  1.38820000e+04,  4.76000000e+02]),\n",
       " {})"
      ]
     },
     "execution_count": 16,
     "metadata": {},
     "output_type": "execute_result"
    }
   ],
   "source": [
    "env.reset()"
   ]
  },
  {
   "cell_type": "code",
   "execution_count": 17,
   "id": "f641abf0-0974-4c59-bef0-c1127f3f1832",
   "metadata": {},
   "outputs": [
    {
     "data": {
      "text/plain": [
       "(array([ 3.00000000e+00, -1.49465519e-01,  7.01500000e+03,  1.51000000e+03,\n",
       "         8.33000000e+01, -1.19000000e+01,  1.38820000e+04,  4.76000000e+02]),\n",
       " -1,\n",
       " False,\n",
       " False,\n",
       " {})"
      ]
     },
     "execution_count": 17,
     "metadata": {},
     "output_type": "execute_result"
    }
   ],
   "source": [
    "env.step(np.array([0,100]))"
   ]
  },
  {
   "cell_type": "code",
   "execution_count": 9,
   "id": "96fe4a91-3b69-46b6-96f7-f6b174ba8fda",
   "metadata": {},
   "outputs": [],
   "source": [
    "import ray\n",
    "from ray import tune, air\n",
    "from ray.rllib.algorithms.ppo import PPOConfig\n",
    "from functools import partial"
   ]
  },
  {
   "cell_type": "code",
   "execution_count": 10,
   "id": "aa007005-61ef-46d4-9db3-8af0038fb4d2",
   "metadata": {},
   "outputs": [
    {
     "name": "stderr",
     "output_type": "stream",
     "text": [
      "2024-05-12 17:00:52,307\tINFO worker.py:1642 -- Started a local Ray instance.\n",
      "2024-05-12 17:00:52,410\tINFO packaging.py:518 -- Creating a file package for local directory '../..'.\n",
      "2024-05-12 17:00:52,513\tINFO packaging.py:346 -- Pushing file package 'gcs://_ray_pkg_7acded97c7d60515.zip' (13.71MiB) to Ray cluster...\n",
      "2024-05-12 17:00:52,574\tINFO packaging.py:359 -- Successfully pushed file package 'gcs://_ray_pkg_7acded97c7d60515.zip'.\n"
     ]
    },
    {
     "data": {
      "application/vnd.jupyter.widget-view+json": {
       "model_id": "a1d3e0da1871435dae97bf2eb8669ce6",
       "version_major": 2,
       "version_minor": 0
      },
      "text/html": [
       "<div class=\"lm-Widget p-Widget lm-Panel p-Panel jp-Cell-outputWrapper\">\n",
       "    <div style=\"margin-left: 50px;display: flex;flex-direction: row;align-items: center\">\n",
       "        <div class=\"jp-RenderedHTMLCommon\" style=\"display: flex; flex-direction: row;\">\n",
       "  <svg viewBox=\"0 0 567 224\" fill=\"none\" xmlns=\"http://www.w3.org/2000/svg\" style=\"height: 3em;\">\n",
       "    <g clip-path=\"url(#clip0_4338_178347)\">\n",
       "        <path d=\"M341.29 165.561H355.29L330.13 129.051C345.63 123.991 354.21 112.051 354.21 94.2307C354.21 71.3707 338.72 58.1807 311.88 58.1807H271V165.561H283.27V131.661H311.8C314.25 131.661 316.71 131.501 319.01 131.351L341.25 165.561H341.29ZM283.29 119.851V70.0007H311.82C331.3 70.0007 342.34 78.2907 342.34 94.5507C342.34 111.271 331.34 119.861 311.82 119.861L283.29 119.851ZM451.4 138.411L463.4 165.561H476.74L428.74 58.1807H416L367.83 165.561H380.83L392.83 138.411H451.4ZM446.19 126.601H398L422 72.1407L446.24 126.601H446.19ZM526.11 128.741L566.91 58.1807H554.35L519.99 114.181L485.17 58.1807H472.44L514.01 129.181V165.541H526.13V128.741H526.11Z\" fill=\"var(--jp-ui-font-color0)\"/>\n",
       "        <path d=\"M82.35 104.44C84.0187 97.8827 87.8248 92.0678 93.1671 87.9146C98.5094 83.7614 105.083 81.5067 111.85 81.5067C118.617 81.5067 125.191 83.7614 130.533 87.9146C135.875 92.0678 139.681 97.8827 141.35 104.44H163.75C164.476 101.562 165.622 98.8057 167.15 96.2605L127.45 56.5605C121.071 60.3522 113.526 61.6823 106.235 60.3005C98.9443 58.9187 92.4094 54.9203 87.8602 49.0574C83.3109 43.1946 81.0609 35.8714 81.5332 28.4656C82.0056 21.0599 85.1679 14.0819 90.4252 8.8446C95.6824 3.60726 102.672 0.471508 110.08 0.0272655C117.487 -0.416977 124.802 1.86091 130.647 6.4324C136.493 11.0039 140.467 17.5539 141.821 24.8501C143.175 32.1463 141.816 39.6859 138 46.0505L177.69 85.7505C182.31 82.9877 187.58 81.4995 192.962 81.4375C198.345 81.3755 203.648 82.742 208.33 85.3976C213.012 88.0532 216.907 91.9029 219.616 96.5544C222.326 101.206 223.753 106.492 223.753 111.875C223.753 117.258 222.326 122.545 219.616 127.197C216.907 131.848 213.012 135.698 208.33 138.353C203.648 141.009 198.345 142.375 192.962 142.313C187.58 142.251 182.31 140.763 177.69 138L138 177.7C141.808 184.071 143.155 191.614 141.79 198.91C140.424 206.205 136.44 212.75 130.585 217.313C124.731 221.875 117.412 224.141 110.004 223.683C102.596 223.226 95.6103 220.077 90.3621 214.828C85.1139 209.58 81.9647 202.595 81.5072 195.187C81.0497 187.779 83.3154 180.459 87.878 174.605C92.4405 168.751 98.9853 164.766 106.281 163.401C113.576 162.035 121.119 163.383 127.49 167.19L167.19 127.49C165.664 124.941 164.518 122.182 163.79 119.3H141.39C139.721 125.858 135.915 131.673 130.573 135.826C125.231 139.98 118.657 142.234 111.89 142.234C105.123 142.234 98.5494 139.98 93.2071 135.826C87.8648 131.673 84.0587 125.858 82.39 119.3H60C58.1878 126.495 53.8086 132.78 47.6863 136.971C41.5641 141.163 34.1211 142.972 26.7579 142.059C19.3947 141.146 12.6191 137.574 7.70605 132.014C2.79302 126.454 0.0813599 119.29 0.0813599 111.87C0.0813599 104.451 2.79302 97.2871 7.70605 91.7272C12.6191 86.1673 19.3947 82.5947 26.7579 81.6817C34.1211 80.7686 41.5641 82.5781 47.6863 86.7696C53.8086 90.9611 58.1878 97.2456 60 104.44H82.35ZM100.86 204.32C103.407 206.868 106.759 208.453 110.345 208.806C113.93 209.159 117.527 208.258 120.522 206.256C123.517 204.254 125.725 201.276 126.771 197.828C127.816 194.38 127.633 190.677 126.253 187.349C124.874 184.021 122.383 181.274 119.205 179.577C116.027 177.88 112.359 177.337 108.826 178.042C105.293 178.746 102.113 180.654 99.8291 183.44C97.5451 186.226 96.2979 189.718 96.3 193.32C96.2985 195.364 96.7006 197.388 97.4831 199.275C98.2656 201.163 99.4132 202.877 100.86 204.32ZM204.32 122.88C206.868 120.333 208.453 116.981 208.806 113.396C209.159 109.811 208.258 106.214 206.256 103.219C204.254 100.223 201.275 98.0151 197.827 96.97C194.38 95.9249 190.676 96.1077 187.348 97.4873C184.02 98.8669 181.274 101.358 179.577 104.536C177.879 107.714 177.337 111.382 178.041 114.915C178.746 118.448 180.653 121.627 183.439 123.911C186.226 126.195 189.717 127.443 193.32 127.44C195.364 127.443 197.388 127.042 199.275 126.259C201.163 125.476 202.878 124.328 204.32 122.88ZM122.88 19.4205C120.333 16.8729 116.981 15.2876 113.395 14.9347C109.81 14.5817 106.213 15.483 103.218 17.4849C100.223 19.4868 98.0146 22.4654 96.9696 25.9131C95.9245 29.3608 96.1073 33.0642 97.4869 36.3922C98.8665 39.7202 101.358 42.4668 104.535 44.1639C107.713 45.861 111.381 46.4036 114.914 45.6992C118.447 44.9949 121.627 43.0871 123.911 40.301C126.195 37.515 127.442 34.0231 127.44 30.4205C127.44 28.3772 127.038 26.3539 126.255 24.4664C125.473 22.5788 124.326 20.8642 122.88 19.4205ZM19.42 100.86C16.8725 103.408 15.2872 106.76 14.9342 110.345C14.5813 113.93 15.4826 117.527 17.4844 120.522C19.4863 123.518 22.4649 125.726 25.9127 126.771C29.3604 127.816 33.0638 127.633 36.3918 126.254C39.7198 124.874 42.4664 122.383 44.1635 119.205C45.8606 116.027 46.4032 112.359 45.6988 108.826C44.9944 105.293 43.0866 102.114 40.3006 99.8296C37.5145 97.5455 34.0227 96.2983 30.42 96.3005C26.2938 96.3018 22.337 97.9421 19.42 100.86ZM100.86 100.86C98.3125 103.408 96.7272 106.76 96.3742 110.345C96.0213 113.93 96.9226 117.527 98.9244 120.522C100.926 123.518 103.905 125.726 107.353 126.771C110.8 127.816 114.504 127.633 117.832 126.254C121.16 124.874 123.906 122.383 125.604 119.205C127.301 116.027 127.843 112.359 127.139 108.826C126.434 105.293 124.527 102.114 121.741 99.8296C118.955 97.5455 115.463 96.2983 111.86 96.3005C109.817 96.299 107.793 96.701 105.905 97.4835C104.018 98.2661 102.303 99.4136 100.86 100.86Z\" fill=\"#00AEEF\"/>\n",
       "    </g>\n",
       "    <defs>\n",
       "        <clipPath id=\"clip0_4338_178347\">\n",
       "            <rect width=\"566.93\" height=\"223.75\" fill=\"white\"/>\n",
       "        </clipPath>\n",
       "    </defs>\n",
       "  </svg>\n",
       "</div>\n",
       "\n",
       "        <table class=\"jp-RenderedHTMLCommon\" style=\"border-collapse: collapse;color: var(--jp-ui-font-color1);font-size: var(--jp-ui-font-size1);\">\n",
       "    <tr>\n",
       "        <td style=\"text-align: left\"><b>Python version:</b></td>\n",
       "        <td style=\"text-align: left\"><b>3.10.12</b></td>\n",
       "    </tr>\n",
       "    <tr>\n",
       "        <td style=\"text-align: left\"><b>Ray version:</b></td>\n",
       "        <td style=\"text-align: left\"><b>2.7.0</b></td>\n",
       "    </tr>\n",
       "    \n",
       "</table>\n",
       "\n",
       "    </div>\n",
       "</div>\n"
      ],
      "text/plain": [
       "RayContext(dashboard_url='', python_version='3.10.12', ray_version='2.7.0', ray_commit='b4bba4717f5ba04ee25580fe8f88eed63ef0c5dc', protocol_version=None)"
      ]
     },
     "execution_count": 10,
     "metadata": {},
     "output_type": "execute_result"
    }
   ],
   "source": [
    "if ray.is_initialized():\n",
    "  ray.shutdown()\n",
    "\n",
    "runtime_env = {\"py_modules\": [\"../..\"]}\n",
    "ray.init(runtime_env=runtime_env)"
   ]
  },
  {
   "cell_type": "code",
   "execution_count": 11,
   "id": "ba8d99d6",
   "metadata": {},
   "outputs": [],
   "source": [
    "checkpoint_config = air.CheckpointConfig(checkpoint_frequency=5)"
   ]
  },
  {
   "cell_type": "code",
   "execution_count": 12,
   "id": "7f0c9a7d-4a26-4630-8ade-1650bf140592",
   "metadata": {
    "tags": []
   },
   "outputs": [
    {
     "data": {
      "text/html": [
       "<div class=\"tuneStatus\">\n",
       "  <div style=\"display: flex;flex-direction: row\">\n",
       "    <div style=\"display: flex;flex-direction: column;\">\n",
       "      <h3>Tune Status</h3>\n",
       "      <table>\n",
       "<tbody>\n",
       "<tr><td>Current time:</td><td>2024-05-12 17:23:23</td></tr>\n",
       "<tr><td>Running for: </td><td>00:22:26.89        </td></tr>\n",
       "<tr><td>Memory:      </td><td>48.0/125.5 GiB     </td></tr>\n",
       "</tbody>\n",
       "</table>\n",
       "    </div>\n",
       "    <div class=\"vDivider\"></div>\n",
       "    <div class=\"systemInfo\">\n",
       "      <h3>System Info</h3>\n",
       "      Using FIFO scheduling algorithm.<br>Logical resource usage: 21.0/24 CPUs, 4.0/4 GPUs (0.0/1.0 accelerator_type:G)\n",
       "    </div>\n",
       "    \n",
       "  </div>\n",
       "  <div class=\"hDivider\"></div>\n",
       "  <div class=\"trialStatus\">\n",
       "    <h3>Trial Status</h3>\n",
       "    <table>\n",
       "<thead>\n",
       "<tr><th>Trial name                           </th><th>status  </th><th>loc                    </th><th style=\"text-align: right;\">  iter</th><th style=\"text-align: right;\">  total time (s)</th><th style=\"text-align: right;\">    ts</th><th style=\"text-align: right;\">  reward</th><th style=\"text-align: right;\">  episode_reward_max</th><th style=\"text-align: right;\">  episode_reward_min</th><th style=\"text-align: right;\">  episode_len_mean</th></tr>\n",
       "</thead>\n",
       "<tbody>\n",
       "<tr><td>PPO_CustomizedEnvironment_df94b_00000</td><td>RUNNING </td><td>206.211.132.160:1708716</td><td style=\"text-align: right;\">   109</td><td style=\"text-align: right;\">             176</td><td style=\"text-align: right;\">436000</td><td style=\"text-align: right;\"> -521.71</td><td style=\"text-align: right;\">               18401</td><td style=\"text-align: right;\">               -6524</td><td style=\"text-align: right;\">             38.71</td></tr>\n",
       "</tbody>\n",
       "</table>\n",
       "  </div>\n",
       "</div>\n",
       "<style>\n",
       ".tuneStatus {\n",
       "  color: var(--jp-ui-font-color1);\n",
       "}\n",
       ".tuneStatus .systemInfo {\n",
       "  display: flex;\n",
       "  flex-direction: column;\n",
       "}\n",
       ".tuneStatus td {\n",
       "  white-space: nowrap;\n",
       "}\n",
       ".tuneStatus .trialStatus {\n",
       "  display: flex;\n",
       "  flex-direction: column;\n",
       "}\n",
       ".tuneStatus h3 {\n",
       "  font-weight: bold;\n",
       "}\n",
       ".tuneStatus .hDivider {\n",
       "  border-bottom-width: var(--jp-border-width);\n",
       "  border-bottom-color: var(--jp-border-color0);\n",
       "  border-bottom-style: solid;\n",
       "}\n",
       ".tuneStatus .vDivider {\n",
       "  border-left-width: var(--jp-border-width);\n",
       "  border-left-color: var(--jp-border-color0);\n",
       "  border-left-style: solid;\n",
       "  margin: 0.5em 1em 0.5em 1em;\n",
       "}\n",
       "</style>\n"
      ],
      "text/plain": [
       "<IPython.core.display.HTML object>"
      ]
     },
     "metadata": {},
     "output_type": "display_data"
    },
    {
     "name": "stderr",
     "output_type": "stream",
     "text": [
      "2024-05-12 17:00:56,819\tINFO wandb.py:308 -- Already logged into W&B.\n",
      "2024-05-12 17:00:56,828\tWARNING algorithm_config.py:2578 -- Setting `exploration_config={}` because you set `_enable_rl_module_api=True`. When RLModule API are enabled, exploration_config can not be set. If you want to implement custom exploration behaviour, please modify the `forward_exploration` method of the RLModule at hand. On configs that have a default exploration config, this must be done with `config.exploration_config={}`.\n",
      "\u001b[2m\u001b[36m(pid=1708716)\u001b[0m DeprecationWarning: `DirectStepOptimizer` has been deprecated. This will raise an error in the future!\n",
      "\u001b[2m\u001b[36m(PPO pid=1708716)\u001b[0m 2024-05-12 17:01:00,844\tWARNING algorithm_config.py:2578 -- Setting `exploration_config={}` because you set `_enable_rl_module_api=True`. When RLModule API are enabled, exploration_config can not be set. If you want to implement custom exploration behaviour, please modify the `forward_exploration` method of the RLModule at hand. On configs that have a default exploration config, this must be done with `config.exploration_config={}`.\n",
      "\u001b[2m\u001b[36m(PPO pid=1708716)\u001b[0m 2024-05-12 17:01:00,844\tWARNING algorithm_config.py:672 -- Cannot create PPOConfig from given `config_dict`! Property __stdout_file__ not supported.\n",
      "\u001b[2m\u001b[36m(RolloutWorker pid=1708786)\u001b[0m 2024-05-12 17:01:05,609\tWARNING env.py:162 -- Your env doesn't have a .spec.max_episode_steps attribute. Your horizon will default to infinity, and your environment will not be reset.\n",
      "\u001b[2m\u001b[36m(RolloutWorker pid=1708786)\u001b[0m 2024-05-12 17:01:05,636\tWARNING deprecation.py:50 -- DeprecationWarning: `ValueNetworkMixin` has been deprecated. This will raise an error in the future!\n",
      "\u001b[2m\u001b[36m(RolloutWorker pid=1708786)\u001b[0m 2024-05-12 17:01:05,636\tWARNING deprecation.py:50 -- DeprecationWarning: `LearningRateSchedule` has been deprecated. This will raise an error in the future!\n",
      "\u001b[2m\u001b[36m(RolloutWorker pid=1708786)\u001b[0m 2024-05-12 17:01:05,636\tWARNING deprecation.py:50 -- DeprecationWarning: `EntropyCoeffSchedule` has been deprecated. This will raise an error in the future!\n",
      "\u001b[2m\u001b[36m(RolloutWorker pid=1708786)\u001b[0m 2024-05-12 17:01:05,636\tWARNING deprecation.py:50 -- DeprecationWarning: `KLCoeffMixin` has been deprecated. This will raise an error in the future!\n",
      "\u001b[2m\u001b[36m(pid=1708800)\u001b[0m DeprecationWarning: `DirectStepOptimizer` has been deprecated. This will raise an error in the future!\u001b[32m [repeated 13x across cluster] (Ray deduplicates logs by default. Set RAY_DEDUP_LOGS=0 to disable log deduplication, or see https://docs.ray.io/en/master/ray-observability/ray-logging.html#log-deduplication for more options.)\u001b[0m\n",
      "\u001b[2m\u001b[36m(RolloutWorker pid=1708792)\u001b[0m 2024-05-12 17:01:05,842\tWARNING algorithm_config.py:2578 -- Setting `exploration_config={}` because you set `_enable_rl_module_api=True`. When RLModule API are enabled, exploration_config can not be set. If you want to implement custom exploration behaviour, please modify the `forward_exploration` method of the RLModule at hand. On configs that have a default exploration config, this must be done with `config.exploration_config={}`.\u001b[32m [repeated 11x across cluster]\u001b[0m\n",
      "\u001b[2m\u001b[36m(PPO pid=1708716)\u001b[0m Starting distributed worker processes: ['1709839 (206.211.132.160)', '1709840 (206.211.132.160)', '1709841 (206.211.132.160)', '1709842 (206.211.132.160)']\n",
      "\u001b[2m\u001b[36m(_WrappedExecutable pid=1709839)\u001b[0m Setting up process group for: env:// [rank=0, world_size=4]\n",
      "\u001b[2m\u001b[36m(PPO pid=1708716)\u001b[0m Trainable.setup took 11.982 seconds. If your trainable is slow to initialize, consider setting reuse_actors=True to reduce actor creation overheads.\n",
      "\u001b[2m\u001b[36m(PPO pid=1708716)\u001b[0m 2024-05-12 17:01:06,183\tWARNING deprecation.py:50 -- DeprecationWarning: `ValueNetworkMixin` has been deprecated. This will raise an error in the future!\n",
      "\u001b[2m\u001b[36m(PPO pid=1708716)\u001b[0m 2024-05-12 17:01:06,183\tWARNING deprecation.py:50 -- DeprecationWarning: `LearningRateSchedule` has been deprecated. This will raise an error in the future!\n",
      "\u001b[2m\u001b[36m(PPO pid=1708716)\u001b[0m 2024-05-12 17:01:06,183\tWARNING deprecation.py:50 -- DeprecationWarning: `EntropyCoeffSchedule` has been deprecated. This will raise an error in the future!\n",
      "\u001b[2m\u001b[36m(PPO pid=1708716)\u001b[0m 2024-05-12 17:01:06,183\tWARNING deprecation.py:50 -- DeprecationWarning: `KLCoeffMixin` has been deprecated. This will raise an error in the future!\n",
      "\u001b[2m\u001b[36m(pid=1709841)\u001b[0m DeprecationWarning: `DirectStepOptimizer` has been deprecated. This will raise an error in the future!\u001b[32m [repeated 11x across cluster]\u001b[0m\n",
      "\u001b[2m\u001b[36m(RolloutWorker pid=1708810)\u001b[0m 2024-05-12 17:01:06,081\tWARNING algorithm_config.py:2578 -- Setting `exploration_config={}` because you set `_enable_rl_module_api=True`. When RLModule API are enabled, exploration_config can not be set. If you want to implement custom exploration behaviour, please modify the `forward_exploration` method of the RLModule at hand. On configs that have a default exploration config, this must be done with `config.exploration_config={}`.\u001b[32m [repeated 10x across cluster]\u001b[0m\n",
      "\u001b[2m\u001b[36m(PPO pid=1708716)\u001b[0m 2024-05-12 17:01:15,093\tWARNING ppo.py:505 -- KL divergence for Module default_policy is non-finite, this will likely destabilize your model and the training process. Action(s) in a specific state have near-zero probability. This can happen naturally in deterministic environments where the optimal policy has zero mass for a specific action. To fix this issue, consider setting `kl_coeff` to 0.0 or increasing `entropy_coeff` in your config.\n",
      "\u001b[2m\u001b[36m(_WandbLoggingActor pid=1710176)\u001b[0m wandb: Currently logged in as: tristntran. Use `wandb login --relogin` to force relogin\n",
      "2024-05-12 17:01:17,446\tWARNING util.py:315 -- The `callbacks.on_trial_result` operation took 2.322 s, which may be a performance bottleneck.\n",
      "2024-05-12 17:01:17,449\tWARNING util.py:315 -- The `process_trial_result` operation took 2.328 s, which may be a performance bottleneck.\n",
      "2024-05-12 17:01:17,450\tWARNING util.py:315 -- Processing trial results took 2.329 s, which may be a performance bottleneck. Please consider reporting results less frequently to Ray Tune.\n",
      "2024-05-12 17:01:17,453\tWARNING util.py:315 -- The `process_trial_result` operation took 2.331 s, which may be a performance bottleneck.\n",
      "\u001b[2m\u001b[36m(_WandbLoggingActor pid=1710176)\u001b[0m wandb: Tracking run with wandb version 0.17.0\n",
      "\u001b[2m\u001b[36m(_WandbLoggingActor pid=1710176)\u001b[0m wandb: Run data is saved locally in /home/healthcare/ray_results/PPO_2024-05-12_17-00-56/PPO_CustomizedEnvironment_df94b_00000_0_2024-05-12_17-00-56/wandb/run-20240512_170116-df94b_00000\n",
      "\u001b[2m\u001b[36m(_WandbLoggingActor pid=1710176)\u001b[0m wandb: Run `wandb offline` to turn off syncing.\n",
      "\u001b[2m\u001b[36m(_WandbLoggingActor pid=1710176)\u001b[0m wandb: Syncing run PPO_CustomizedEnvironment_df94b_00000\n",
      "\u001b[2m\u001b[36m(_WandbLoggingActor pid=1710176)\u001b[0m wandb: ⭐️ View project at https://wandb.ai/tristntran/RL-Projects\n",
      "\u001b[2m\u001b[36m(_WandbLoggingActor pid=1710176)\u001b[0m wandb: 🚀 View run at https://wandb.ai/tristntran/RL-Projects/runs/df94b_00000\n",
      "\u001b[2m\u001b[36m(PPO pid=1708716)\u001b[0m 2024-05-12 17:01:19,095\tWARNING ppo.py:505 -- KL divergence for Module default_policy is non-finite, this will likely destabilize your model and the training process. Action(s) in a specific state have near-zero probability. This can happen naturally in deterministic environments where the optimal policy has zero mass for a specific action. To fix this issue, consider setting `kl_coeff` to 0.0 or increasing `entropy_coeff` in your config.\n",
      "\u001b[2m\u001b[36m(_QueueActor pid=1710174)\u001b[0m DeprecationWarning: `DirectStepOptimizer` has been deprecated. This will raise an error in the future!\u001b[32m [repeated 2x across cluster]\u001b[0m\n",
      "\u001b[2m\u001b[36m(PPO pid=1708716)\u001b[0m 2024-05-12 17:01:20,820\tWARNING ppo.py:505 -- KL divergence for Module default_policy is non-finite, this will likely destabilize your model and the training process. Action(s) in a specific state have near-zero probability. This can happen naturally in deterministic environments where the optimal policy has zero mass for a specific action. To fix this issue, consider setting `kl_coeff` to 0.0 or increasing `entropy_coeff` in your config.\n",
      "\u001b[2m\u001b[36m(PPO pid=1708716)\u001b[0m 2024-05-12 17:01:22,470\tWARNING ppo.py:505 -- KL divergence for Module default_policy is non-finite, this will likely destabilize your model and the training process. Action(s) in a specific state have near-zero probability. This can happen naturally in deterministic environments where the optimal policy has zero mass for a specific action. To fix this issue, consider setting `kl_coeff` to 0.0 or increasing `entropy_coeff` in your config.\n",
      "\u001b[2m\u001b[36m(PPO pid=1708716)\u001b[0m 2024-05-12 17:01:24,140\tWARNING ppo.py:505 -- KL divergence for Module default_policy is non-finite, this will likely destabilize your model and the training process. Action(s) in a specific state have near-zero probability. This can happen naturally in deterministic environments where the optimal policy has zero mass for a specific action. To fix this issue, consider setting `kl_coeff` to 0.0 or increasing `entropy_coeff` in your config.\n",
      "\u001b[2m\u001b[36m(PPO pid=1708716)\u001b[0m Checkpoint successfully created at: Checkpoint(filesystem=local, path=/home/healthcare/Desktop/Tristan/rl-projects/results/PPO_2024-05-12_17-00-56/PPO_CustomizedEnvironment_df94b_00000_0_2024-05-12_17-00-56/checkpoint_000000)\n",
      "\u001b[2m\u001b[36m(_WandbLoggingActor pid=1710176)\u001b[0m wandb: Adding directory to artifact (/home/healthcare/Desktop/Tristan/rl-projects/results/PPO_2024-05-12_17-00-56/PPO_CustomizedEnvironment_df94b_00000_0_2024-05-12_17-00-56/checkpoint_000000)... Done. 0.0s\n",
      "\u001b[2m\u001b[36m(PPO pid=1708716)\u001b[0m 2024-05-12 17:01:25,933\tWARNING ppo.py:505 -- KL divergence for Module default_policy is non-finite, this will likely destabilize your model and the training process. Action(s) in a specific state have near-zero probability. This can happen naturally in deterministic environments where the optimal policy has zero mass for a specific action. To fix this issue, consider setting `kl_coeff` to 0.0 or increasing `entropy_coeff` in your config.\n",
      "\u001b[2m\u001b[36m(PPO pid=1708716)\u001b[0m 2024-05-12 17:01:27,659\tWARNING ppo.py:505 -- KL divergence for Module default_policy is non-finite, this will likely destabilize your model and the training process. Action(s) in a specific state have near-zero probability. This can happen naturally in deterministic environments where the optimal policy has zero mass for a specific action. To fix this issue, consider setting `kl_coeff` to 0.0 or increasing `entropy_coeff` in your config.\n",
      "\u001b[2m\u001b[36m(PPO pid=1708716)\u001b[0m 2024-05-12 17:01:29,358\tWARNING ppo.py:505 -- KL divergence for Module default_policy is non-finite, this will likely destabilize your model and the training process. Action(s) in a specific state have near-zero probability. This can happen naturally in deterministic environments where the optimal policy has zero mass for a specific action. To fix this issue, consider setting `kl_coeff` to 0.0 or increasing `entropy_coeff` in your config.\n",
      "\u001b[2m\u001b[36m(PPO pid=1708716)\u001b[0m 2024-05-12 17:01:31,054\tWARNING ppo.py:505 -- KL divergence for Module default_policy is non-finite, this will likely destabilize your model and the training process. Action(s) in a specific state have near-zero probability. This can happen naturally in deterministic environments where the optimal policy has zero mass for a specific action. To fix this issue, consider setting `kl_coeff` to 0.0 or increasing `entropy_coeff` in your config.\n",
      "\u001b[2m\u001b[36m(PPO pid=1708716)\u001b[0m 2024-05-12 17:01:32,814\tWARNING ppo.py:505 -- KL divergence for Module default_policy is non-finite, this will likely destabilize your model and the training process. Action(s) in a specific state have near-zero probability. This can happen naturally in deterministic environments where the optimal policy has zero mass for a specific action. To fix this issue, consider setting `kl_coeff` to 0.0 or increasing `entropy_coeff` in your config.\n",
      "\u001b[2m\u001b[36m(PPO pid=1708716)\u001b[0m Checkpoint successfully created at: Checkpoint(filesystem=local, path=/home/healthcare/Desktop/Tristan/rl-projects/results/PPO_2024-05-12_17-00-56/PPO_CustomizedEnvironment_df94b_00000_0_2024-05-12_17-00-56/checkpoint_000001)\n",
      "\u001b[2m\u001b[36m(_WandbLoggingActor pid=1710176)\u001b[0m wandb: Adding directory to artifact (/home/healthcare/Desktop/Tristan/rl-projects/results/PPO_2024-05-12_17-00-56/PPO_CustomizedEnvironment_df94b_00000_0_2024-05-12_17-00-56/checkpoint_000001)... Done. 0.0s\n",
      "\u001b[2m\u001b[36m(PPO pid=1708716)\u001b[0m 2024-05-12 17:01:34,584\tWARNING ppo.py:505 -- KL divergence for Module default_policy is non-finite, this will likely destabilize your model and the training process. Action(s) in a specific state have near-zero probability. This can happen naturally in deterministic environments where the optimal policy has zero mass for a specific action. To fix this issue, consider setting `kl_coeff` to 0.0 or increasing `entropy_coeff` in your config.\n",
      "\u001b[2m\u001b[36m(PPO pid=1708716)\u001b[0m 2024-05-12 17:01:36,332\tWARNING ppo.py:505 -- KL divergence for Module default_policy is non-finite, this will likely destabilize your model and the training process. Action(s) in a specific state have near-zero probability. This can happen naturally in deterministic environments where the optimal policy has zero mass for a specific action. To fix this issue, consider setting `kl_coeff` to 0.0 or increasing `entropy_coeff` in your config.\n",
      "\u001b[2m\u001b[36m(PPO pid=1708716)\u001b[0m 2024-05-12 17:01:37,968\tWARNING ppo.py:505 -- KL divergence for Module default_policy is non-finite, this will likely destabilize your model and the training process. Action(s) in a specific state have near-zero probability. This can happen naturally in deterministic environments where the optimal policy has zero mass for a specific action. To fix this issue, consider setting `kl_coeff` to 0.0 or increasing `entropy_coeff` in your config.\n",
      "\u001b[2m\u001b[36m(PPO pid=1708716)\u001b[0m 2024-05-12 17:01:39,652\tWARNING ppo.py:505 -- KL divergence for Module default_policy is non-finite, this will likely destabilize your model and the training process. Action(s) in a specific state have near-zero probability. This can happen naturally in deterministic environments where the optimal policy has zero mass for a specific action. To fix this issue, consider setting `kl_coeff` to 0.0 or increasing `entropy_coeff` in your config.\n",
      "\u001b[2m\u001b[36m(PPO pid=1708716)\u001b[0m 2024-05-12 17:01:41,308\tWARNING ppo.py:505 -- KL divergence for Module default_policy is non-finite, this will likely destabilize your model and the training process. Action(s) in a specific state have near-zero probability. This can happen naturally in deterministic environments where the optimal policy has zero mass for a specific action. To fix this issue, consider setting `kl_coeff` to 0.0 or increasing `entropy_coeff` in your config.\n",
      "\u001b[2m\u001b[36m(PPO pid=1708716)\u001b[0m Checkpoint successfully created at: Checkpoint(filesystem=local, path=/home/healthcare/Desktop/Tristan/rl-projects/results/PPO_2024-05-12_17-00-56/PPO_CustomizedEnvironment_df94b_00000_0_2024-05-12_17-00-56/checkpoint_000002)\n",
      "\u001b[2m\u001b[36m(_WandbLoggingActor pid=1710176)\u001b[0m wandb: Adding directory to artifact (/home/healthcare/Desktop/Tristan/rl-projects/results/PPO_2024-05-12_17-00-56/PPO_CustomizedEnvironment_df94b_00000_0_2024-05-12_17-00-56/checkpoint_000002)... \n",
      "\u001b[2m\u001b[36m(_WandbLoggingActor pid=1710176)\u001b[0m Done. 0.0s\n",
      "\u001b[2m\u001b[36m(PPO pid=1708716)\u001b[0m 2024-05-12 17:01:43,037\tWARNING ppo.py:505 -- KL divergence for Module default_policy is non-finite, this will likely destabilize your model and the training process. Action(s) in a specific state have near-zero probability. This can happen naturally in deterministic environments where the optimal policy has zero mass for a specific action. To fix this issue, consider setting `kl_coeff` to 0.0 or increasing `entropy_coeff` in your config.\n",
      "\u001b[2m\u001b[36m(PPO pid=1708716)\u001b[0m 2024-05-12 17:01:44,789\tWARNING ppo.py:505 -- KL divergence for Module default_policy is non-finite, this will likely destabilize your model and the training process. Action(s) in a specific state have near-zero probability. This can happen naturally in deterministic environments where the optimal policy has zero mass for a specific action. To fix this issue, consider setting `kl_coeff` to 0.0 or increasing `entropy_coeff` in your config.\n",
      "\u001b[2m\u001b[36m(PPO pid=1708716)\u001b[0m 2024-05-12 17:01:46,501\tWARNING ppo.py:505 -- KL divergence for Module default_policy is non-finite, this will likely destabilize your model and the training process. Action(s) in a specific state have near-zero probability. This can happen naturally in deterministic environments where the optimal policy has zero mass for a specific action. To fix this issue, consider setting `kl_coeff` to 0.0 or increasing `entropy_coeff` in your config.\n",
      "\u001b[2m\u001b[36m(PPO pid=1708716)\u001b[0m 2024-05-12 17:01:48,133\tWARNING ppo.py:505 -- KL divergence for Module default_policy is non-finite, this will likely destabilize your model and the training process. Action(s) in a specific state have near-zero probability. This can happen naturally in deterministic environments where the optimal policy has zero mass for a specific action. To fix this issue, consider setting `kl_coeff` to 0.0 or increasing `entropy_coeff` in your config.\n",
      "\u001b[2m\u001b[36m(PPO pid=1708716)\u001b[0m 2024-05-12 17:01:49,851\tWARNING ppo.py:505 -- KL divergence for Module default_policy is non-finite, this will likely destabilize your model and the training process. Action(s) in a specific state have near-zero probability. This can happen naturally in deterministic environments where the optimal policy has zero mass for a specific action. To fix this issue, consider setting `kl_coeff` to 0.0 or increasing `entropy_coeff` in your config.\n",
      "\u001b[2m\u001b[36m(PPO pid=1708716)\u001b[0m Checkpoint successfully created at: Checkpoint(filesystem=local, path=/home/healthcare/Desktop/Tristan/rl-projects/results/PPO_2024-05-12_17-00-56/PPO_CustomizedEnvironment_df94b_00000_0_2024-05-12_17-00-56/checkpoint_000003)\n",
      "\u001b[2m\u001b[36m(_WandbLoggingActor pid=1710176)\u001b[0m wandb: Adding directory to artifact (/home/healthcare/Desktop/Tristan/rl-projects/results/PPO_2024-05-12_17-00-56/PPO_CustomizedEnvironment_df94b_00000_0_2024-05-12_17-00-56/checkpoint_000003)... \n",
      "\u001b[2m\u001b[36m(_WandbLoggingActor pid=1710176)\u001b[0m Done. 0.1s\n",
      "\u001b[2m\u001b[36m(PPO pid=1708716)\u001b[0m 2024-05-12 17:01:51,634\tWARNING ppo.py:505 -- KL divergence for Module default_policy is non-finite, this will likely destabilize your model and the training process. Action(s) in a specific state have near-zero probability. This can happen naturally in deterministic environments where the optimal policy has zero mass for a specific action. To fix this issue, consider setting `kl_coeff` to 0.0 or increasing `entropy_coeff` in your config.\n",
      "\u001b[2m\u001b[36m(PPO pid=1708716)\u001b[0m 2024-05-12 17:01:53,327\tWARNING ppo.py:505 -- KL divergence for Module default_policy is non-finite, this will likely destabilize your model and the training process. Action(s) in a specific state have near-zero probability. This can happen naturally in deterministic environments where the optimal policy has zero mass for a specific action. To fix this issue, consider setting `kl_coeff` to 0.0 or increasing `entropy_coeff` in your config.\n",
      "\u001b[2m\u001b[36m(PPO pid=1708716)\u001b[0m 2024-05-12 17:01:55,002\tWARNING ppo.py:505 -- KL divergence for Module default_policy is non-finite, this will likely destabilize your model and the training process. Action(s) in a specific state have near-zero probability. This can happen naturally in deterministic environments where the optimal policy has zero mass for a specific action. To fix this issue, consider setting `kl_coeff` to 0.0 or increasing `entropy_coeff` in your config.\n",
      "\u001b[2m\u001b[36m(PPO pid=1708716)\u001b[0m 2024-05-12 17:01:56,688\tWARNING ppo.py:505 -- KL divergence for Module default_policy is non-finite, this will likely destabilize your model and the training process. Action(s) in a specific state have near-zero probability. This can happen naturally in deterministic environments where the optimal policy has zero mass for a specific action. To fix this issue, consider setting `kl_coeff` to 0.0 or increasing `entropy_coeff` in your config.\n",
      "\u001b[2m\u001b[36m(PPO pid=1708716)\u001b[0m 2024-05-12 17:01:58,318\tWARNING ppo.py:505 -- KL divergence for Module default_policy is non-finite, this will likely destabilize your model and the training process. Action(s) in a specific state have near-zero probability. This can happen naturally in deterministic environments where the optimal policy has zero mass for a specific action. To fix this issue, consider setting `kl_coeff` to 0.0 or increasing `entropy_coeff` in your config.\n",
      "\u001b[2m\u001b[36m(PPO pid=1708716)\u001b[0m Checkpoint successfully created at: Checkpoint(filesystem=local, path=/home/healthcare/Desktop/Tristan/rl-projects/results/PPO_2024-05-12_17-00-56/PPO_CustomizedEnvironment_df94b_00000_0_2024-05-12_17-00-56/checkpoint_000004)\n",
      "\u001b[2m\u001b[36m(_WandbLoggingActor pid=1710176)\u001b[0m wandb: Adding directory to artifact (/home/healthcare/Desktop/Tristan/rl-projects/results/PPO_2024-05-12_17-00-56/PPO_CustomizedEnvironment_df94b_00000_0_2024-05-12_17-00-56/checkpoint_000004)... Done. 0.0s\n",
      "\u001b[2m\u001b[36m(PPO pid=1708716)\u001b[0m 2024-05-12 17:02:00,120\tWARNING ppo.py:505 -- KL divergence for Module default_policy is non-finite, this will likely destabilize your model and the training process. Action(s) in a specific state have near-zero probability. This can happen naturally in deterministic environments where the optimal policy has zero mass for a specific action. To fix this issue, consider setting `kl_coeff` to 0.0 or increasing `entropy_coeff` in your config.\n",
      "\u001b[2m\u001b[36m(PPO pid=1708716)\u001b[0m 2024-05-12 17:02:01,796\tWARNING ppo.py:505 -- KL divergence for Module default_policy is non-finite, this will likely destabilize your model and the training process. Action(s) in a specific state have near-zero probability. This can happen naturally in deterministic environments where the optimal policy has zero mass for a specific action. To fix this issue, consider setting `kl_coeff` to 0.0 or increasing `entropy_coeff` in your config.\n",
      "\u001b[2m\u001b[36m(PPO pid=1708716)\u001b[0m 2024-05-12 17:02:03,488\tWARNING ppo.py:505 -- KL divergence for Module default_policy is non-finite, this will likely destabilize your model and the training process. Action(s) in a specific state have near-zero probability. This can happen naturally in deterministic environments where the optimal policy has zero mass for a specific action. To fix this issue, consider setting `kl_coeff` to 0.0 or increasing `entropy_coeff` in your config.\n",
      "\u001b[2m\u001b[36m(PPO pid=1708716)\u001b[0m 2024-05-12 17:02:05,154\tWARNING ppo.py:505 -- KL divergence for Module default_policy is non-finite, this will likely destabilize your model and the training process. Action(s) in a specific state have near-zero probability. This can happen naturally in deterministic environments where the optimal policy has zero mass for a specific action. To fix this issue, consider setting `kl_coeff` to 0.0 or increasing `entropy_coeff` in your config.\n",
      "\u001b[2m\u001b[36m(PPO pid=1708716)\u001b[0m 2024-05-12 17:02:06,818\tWARNING ppo.py:505 -- KL divergence for Module default_policy is non-finite, this will likely destabilize your model and the training process. Action(s) in a specific state have near-zero probability. This can happen naturally in deterministic environments where the optimal policy has zero mass for a specific action. To fix this issue, consider setting `kl_coeff` to 0.0 or increasing `entropy_coeff` in your config.\n",
      "\u001b[2m\u001b[36m(PPO pid=1708716)\u001b[0m Checkpoint successfully created at: Checkpoint(filesystem=local, path=/home/healthcare/Desktop/Tristan/rl-projects/results/PPO_2024-05-12_17-00-56/PPO_CustomizedEnvironment_df94b_00000_0_2024-05-12_17-00-56/checkpoint_000005)\n",
      "\u001b[2m\u001b[36m(_WandbLoggingActor pid=1710176)\u001b[0m wandb: Adding directory to artifact (/home/healthcare/Desktop/Tristan/rl-projects/results/PPO_2024-05-12_17-00-56/PPO_CustomizedEnvironment_df94b_00000_0_2024-05-12_17-00-56/checkpoint_000005)... Done. 0.0s\n",
      "\u001b[2m\u001b[36m(PPO pid=1708716)\u001b[0m 2024-05-12 17:02:08,573\tWARNING ppo.py:505 -- KL divergence for Module default_policy is non-finite, this will likely destabilize your model and the training process. Action(s) in a specific state have near-zero probability. This can happen naturally in deterministic environments where the optimal policy has zero mass for a specific action. To fix this issue, consider setting `kl_coeff` to 0.0 or increasing `entropy_coeff` in your config.\n",
      "\u001b[2m\u001b[36m(PPO pid=1708716)\u001b[0m 2024-05-12 17:02:10,231\tWARNING ppo.py:505 -- KL divergence for Module default_policy is non-finite, this will likely destabilize your model and the training process. Action(s) in a specific state have near-zero probability. This can happen naturally in deterministic environments where the optimal policy has zero mass for a specific action. To fix this issue, consider setting `kl_coeff` to 0.0 or increasing `entropy_coeff` in your config.\n",
      "\u001b[2m\u001b[36m(PPO pid=1708716)\u001b[0m 2024-05-12 17:02:11,953\tWARNING ppo.py:505 -- KL divergence for Module default_policy is non-finite, this will likely destabilize your model and the training process. Action(s) in a specific state have near-zero probability. This can happen naturally in deterministic environments where the optimal policy has zero mass for a specific action. To fix this issue, consider setting `kl_coeff` to 0.0 or increasing `entropy_coeff` in your config.\n",
      "\u001b[2m\u001b[36m(PPO pid=1708716)\u001b[0m 2024-05-12 17:02:13,607\tWARNING ppo.py:505 -- KL divergence for Module default_policy is non-finite, this will likely destabilize your model and the training process. Action(s) in a specific state have near-zero probability. This can happen naturally in deterministic environments where the optimal policy has zero mass for a specific action. To fix this issue, consider setting `kl_coeff` to 0.0 or increasing `entropy_coeff` in your config.\n",
      "\u001b[2m\u001b[36m(PPO pid=1708716)\u001b[0m 2024-05-12 17:02:15,301\tWARNING ppo.py:505 -- KL divergence for Module default_policy is non-finite, this will likely destabilize your model and the training process. Action(s) in a specific state have near-zero probability. This can happen naturally in deterministic environments where the optimal policy has zero mass for a specific action. To fix this issue, consider setting `kl_coeff` to 0.0 or increasing `entropy_coeff` in your config.\n",
      "\u001b[2m\u001b[36m(PPO pid=1708716)\u001b[0m Checkpoint successfully created at: Checkpoint(filesystem=local, path=/home/healthcare/Desktop/Tristan/rl-projects/results/PPO_2024-05-12_17-00-56/PPO_CustomizedEnvironment_df94b_00000_0_2024-05-12_17-00-56/checkpoint_000006)\n",
      "\u001b[2m\u001b[36m(_WandbLoggingActor pid=1710176)\u001b[0m wandb: Adding directory to artifact (/home/healthcare/Desktop/Tristan/rl-projects/results/PPO_2024-05-12_17-00-56/PPO_CustomizedEnvironment_df94b_00000_0_2024-05-12_17-00-56/checkpoint_000006)... Done. 0.1s\n",
      "\u001b[2m\u001b[36m(PPO pid=1708716)\u001b[0m 2024-05-12 17:02:17,033\tWARNING ppo.py:505 -- KL divergence for Module default_policy is non-finite, this will likely destabilize your model and the training process. Action(s) in a specific state have near-zero probability. This can happen naturally in deterministic environments where the optimal policy has zero mass for a specific action. To fix this issue, consider setting `kl_coeff` to 0.0 or increasing `entropy_coeff` in your config.\n",
      "\u001b[2m\u001b[36m(PPO pid=1708716)\u001b[0m 2024-05-12 17:02:18,649\tWARNING ppo.py:505 -- KL divergence for Module default_policy is non-finite, this will likely destabilize your model and the training process. Action(s) in a specific state have near-zero probability. This can happen naturally in deterministic environments where the optimal policy has zero mass for a specific action. To fix this issue, consider setting `kl_coeff` to 0.0 or increasing `entropy_coeff` in your config.\n",
      "\u001b[2m\u001b[36m(PPO pid=1708716)\u001b[0m 2024-05-12 17:02:20,344\tWARNING ppo.py:505 -- KL divergence for Module default_policy is non-finite, this will likely destabilize your model and the training process. Action(s) in a specific state have near-zero probability. This can happen naturally in deterministic environments where the optimal policy has zero mass for a specific action. To fix this issue, consider setting `kl_coeff` to 0.0 or increasing `entropy_coeff` in your config.\n",
      "\u001b[2m\u001b[36m(PPO pid=1708716)\u001b[0m 2024-05-12 17:02:21,966\tWARNING ppo.py:505 -- KL divergence for Module default_policy is non-finite, this will likely destabilize your model and the training process. Action(s) in a specific state have near-zero probability. This can happen naturally in deterministic environments where the optimal policy has zero mass for a specific action. To fix this issue, consider setting `kl_coeff` to 0.0 or increasing `entropy_coeff` in your config.\n",
      "\u001b[2m\u001b[36m(PPO pid=1708716)\u001b[0m 2024-05-12 17:02:23,655\tWARNING ppo.py:505 -- KL divergence for Module default_policy is non-finite, this will likely destabilize your model and the training process. Action(s) in a specific state have near-zero probability. This can happen naturally in deterministic environments where the optimal policy has zero mass for a specific action. To fix this issue, consider setting `kl_coeff` to 0.0 or increasing `entropy_coeff` in your config.\n",
      "\u001b[2m\u001b[36m(PPO pid=1708716)\u001b[0m Checkpoint successfully created at: Checkpoint(filesystem=local, path=/home/healthcare/Desktop/Tristan/rl-projects/results/PPO_2024-05-12_17-00-56/PPO_CustomizedEnvironment_df94b_00000_0_2024-05-12_17-00-56/checkpoint_000007)\n",
      "\u001b[2m\u001b[36m(_WandbLoggingActor pid=1710176)\u001b[0m wandb: Adding directory to artifact (/home/healthcare/Desktop/Tristan/rl-projects/results/PPO_2024-05-12_17-00-56/PPO_CustomizedEnvironment_df94b_00000_0_2024-05-12_17-00-56/checkpoint_000007)... \n",
      "\u001b[2m\u001b[36m(_WandbLoggingActor pid=1710176)\u001b[0m Done. 0.0s\n",
      "\u001b[2m\u001b[36m(PPO pid=1708716)\u001b[0m 2024-05-12 17:02:25,374\tWARNING ppo.py:505 -- KL divergence for Module default_policy is non-finite, this will likely destabilize your model and the training process. Action(s) in a specific state have near-zero probability. This can happen naturally in deterministic environments where the optimal policy has zero mass for a specific action. To fix this issue, consider setting `kl_coeff` to 0.0 or increasing `entropy_coeff` in your config.\n",
      "\u001b[2m\u001b[36m(PPO pid=1708716)\u001b[0m 2024-05-12 17:02:27,071\tWARNING ppo.py:505 -- KL divergence for Module default_policy is non-finite, this will likely destabilize your model and the training process. Action(s) in a specific state have near-zero probability. This can happen naturally in deterministic environments where the optimal policy has zero mass for a specific action. To fix this issue, consider setting `kl_coeff` to 0.0 or increasing `entropy_coeff` in your config.\n",
      "\u001b[2m\u001b[36m(PPO pid=1708716)\u001b[0m 2024-05-12 17:02:28,794\tWARNING ppo.py:505 -- KL divergence for Module default_policy is non-finite, this will likely destabilize your model and the training process. Action(s) in a specific state have near-zero probability. This can happen naturally in deterministic environments where the optimal policy has zero mass for a specific action. To fix this issue, consider setting `kl_coeff` to 0.0 or increasing `entropy_coeff` in your config.\n",
      "\u001b[2m\u001b[36m(PPO pid=1708716)\u001b[0m 2024-05-12 17:02:30,516\tWARNING ppo.py:505 -- KL divergence for Module default_policy is non-finite, this will likely destabilize your model and the training process. Action(s) in a specific state have near-zero probability. This can happen naturally in deterministic environments where the optimal policy has zero mass for a specific action. To fix this issue, consider setting `kl_coeff` to 0.0 or increasing `entropy_coeff` in your config.\n",
      "\u001b[2m\u001b[36m(PPO pid=1708716)\u001b[0m 2024-05-12 17:02:32,208\tWARNING ppo.py:505 -- KL divergence for Module default_policy is non-finite, this will likely destabilize your model and the training process. Action(s) in a specific state have near-zero probability. This can happen naturally in deterministic environments where the optimal policy has zero mass for a specific action. To fix this issue, consider setting `kl_coeff` to 0.0 or increasing `entropy_coeff` in your config.\n",
      "\u001b[2m\u001b[36m(PPO pid=1708716)\u001b[0m Checkpoint successfully created at: Checkpoint(filesystem=local, path=/home/healthcare/Desktop/Tristan/rl-projects/results/PPO_2024-05-12_17-00-56/PPO_CustomizedEnvironment_df94b_00000_0_2024-05-12_17-00-56/checkpoint_000008)\n",
      "\u001b[2m\u001b[36m(_WandbLoggingActor pid=1710176)\u001b[0m wandb: Adding directory to artifact (/home/healthcare/Desktop/Tristan/rl-projects/results/PPO_2024-05-12_17-00-56/PPO_CustomizedEnvironment_df94b_00000_0_2024-05-12_17-00-56/checkpoint_000008)... \n",
      "\u001b[2m\u001b[36m(_WandbLoggingActor pid=1710176)\u001b[0m Done. 0.0s\n",
      "\u001b[2m\u001b[36m(PPO pid=1708716)\u001b[0m 2024-05-12 17:02:34,151\tWARNING ppo.py:505 -- KL divergence for Module default_policy is non-finite, this will likely destabilize your model and the training process. Action(s) in a specific state have near-zero probability. This can happen naturally in deterministic environments where the optimal policy has zero mass for a specific action. To fix this issue, consider setting `kl_coeff` to 0.0 or increasing `entropy_coeff` in your config.\n",
      "\u001b[2m\u001b[36m(PPO pid=1708716)\u001b[0m 2024-05-12 17:02:35,877\tWARNING ppo.py:505 -- KL divergence for Module default_policy is non-finite, this will likely destabilize your model and the training process. Action(s) in a specific state have near-zero probability. This can happen naturally in deterministic environments where the optimal policy has zero mass for a specific action. To fix this issue, consider setting `kl_coeff` to 0.0 or increasing `entropy_coeff` in your config.\n",
      "\u001b[2m\u001b[36m(PPO pid=1708716)\u001b[0m 2024-05-12 17:02:37,600\tWARNING ppo.py:505 -- KL divergence for Module default_policy is non-finite, this will likely destabilize your model and the training process. Action(s) in a specific state have near-zero probability. This can happen naturally in deterministic environments where the optimal policy has zero mass for a specific action. To fix this issue, consider setting `kl_coeff` to 0.0 or increasing `entropy_coeff` in your config.\n",
      "\u001b[2m\u001b[36m(PPO pid=1708716)\u001b[0m 2024-05-12 17:02:39,265\tWARNING ppo.py:505 -- KL divergence for Module default_policy is non-finite, this will likely destabilize your model and the training process. Action(s) in a specific state have near-zero probability. This can happen naturally in deterministic environments where the optimal policy has zero mass for a specific action. To fix this issue, consider setting `kl_coeff` to 0.0 or increasing `entropy_coeff` in your config.\n",
      "\u001b[2m\u001b[36m(PPO pid=1708716)\u001b[0m 2024-05-12 17:02:40,947\tWARNING ppo.py:505 -- KL divergence for Module default_policy is non-finite, this will likely destabilize your model and the training process. Action(s) in a specific state have near-zero probability. This can happen naturally in deterministic environments where the optimal policy has zero mass for a specific action. To fix this issue, consider setting `kl_coeff` to 0.0 or increasing `entropy_coeff` in your config.\n",
      "\u001b[2m\u001b[36m(PPO pid=1708716)\u001b[0m Checkpoint successfully created at: Checkpoint(filesystem=local, path=/home/healthcare/Desktop/Tristan/rl-projects/results/PPO_2024-05-12_17-00-56/PPO_CustomizedEnvironment_df94b_00000_0_2024-05-12_17-00-56/checkpoint_000009)\n",
      "\u001b[2m\u001b[36m(_WandbLoggingActor pid=1710176)\u001b[0m wandb: Adding directory to artifact (/home/healthcare/Desktop/Tristan/rl-projects/results/PPO_2024-05-12_17-00-56/PPO_CustomizedEnvironment_df94b_00000_0_2024-05-12_17-00-56/checkpoint_000009)... \n",
      "\u001b[2m\u001b[36m(_WandbLoggingActor pid=1710176)\u001b[0m Done. 0.1s\n",
      "\u001b[2m\u001b[36m(PPO pid=1708716)\u001b[0m 2024-05-12 17:02:42,709\tWARNING ppo.py:505 -- KL divergence for Module default_policy is non-finite, this will likely destabilize your model and the training process. Action(s) in a specific state have near-zero probability. This can happen naturally in deterministic environments where the optimal policy has zero mass for a specific action. To fix this issue, consider setting `kl_coeff` to 0.0 or increasing `entropy_coeff` in your config.\n",
      "\u001b[2m\u001b[36m(PPO pid=1708716)\u001b[0m 2024-05-12 17:02:44,390\tWARNING ppo.py:505 -- KL divergence for Module default_policy is non-finite, this will likely destabilize your model and the training process. Action(s) in a specific state have near-zero probability. This can happen naturally in deterministic environments where the optimal policy has zero mass for a specific action. To fix this issue, consider setting `kl_coeff` to 0.0 or increasing `entropy_coeff` in your config.\n",
      "\u001b[2m\u001b[36m(PPO pid=1708716)\u001b[0m 2024-05-12 17:02:46,043\tWARNING ppo.py:505 -- KL divergence for Module default_policy is non-finite, this will likely destabilize your model and the training process. Action(s) in a specific state have near-zero probability. This can happen naturally in deterministic environments where the optimal policy has zero mass for a specific action. To fix this issue, consider setting `kl_coeff` to 0.0 or increasing `entropy_coeff` in your config.\n",
      "\u001b[2m\u001b[36m(PPO pid=1708716)\u001b[0m 2024-05-12 17:02:47,672\tWARNING ppo.py:505 -- KL divergence for Module default_policy is non-finite, this will likely destabilize your model and the training process. Action(s) in a specific state have near-zero probability. This can happen naturally in deterministic environments where the optimal policy has zero mass for a specific action. To fix this issue, consider setting `kl_coeff` to 0.0 or increasing `entropy_coeff` in your config.\n",
      "\u001b[2m\u001b[36m(PPO pid=1708716)\u001b[0m 2024-05-12 17:02:49,395\tWARNING ppo.py:505 -- KL divergence for Module default_policy is non-finite, this will likely destabilize your model and the training process. Action(s) in a specific state have near-zero probability. This can happen naturally in deterministic environments where the optimal policy has zero mass for a specific action. To fix this issue, consider setting `kl_coeff` to 0.0 or increasing `entropy_coeff` in your config.\n",
      "\u001b[2m\u001b[36m(PPO pid=1708716)\u001b[0m Checkpoint successfully created at: Checkpoint(filesystem=local, path=/home/healthcare/Desktop/Tristan/rl-projects/results/PPO_2024-05-12_17-00-56/PPO_CustomizedEnvironment_df94b_00000_0_2024-05-12_17-00-56/checkpoint_000010)\n",
      "\u001b[2m\u001b[36m(_WandbLoggingActor pid=1710176)\u001b[0m wandb: Adding directory to artifact (/home/healthcare/Desktop/Tristan/rl-projects/results/PPO_2024-05-12_17-00-56/PPO_CustomizedEnvironment_df94b_00000_0_2024-05-12_17-00-56/checkpoint_000010)... \n",
      "\u001b[2m\u001b[36m(_WandbLoggingActor pid=1710176)\u001b[0m Done. 0.0s\n",
      "\u001b[2m\u001b[36m(PPO pid=1708716)\u001b[0m 2024-05-12 17:02:51,150\tWARNING ppo.py:505 -- KL divergence for Module default_policy is non-finite, this will likely destabilize your model and the training process. Action(s) in a specific state have near-zero probability. This can happen naturally in deterministic environments where the optimal policy has zero mass for a specific action. To fix this issue, consider setting `kl_coeff` to 0.0 or increasing `entropy_coeff` in your config.\n",
      "\u001b[2m\u001b[36m(PPO pid=1708716)\u001b[0m 2024-05-12 17:02:52,715\tWARNING ppo.py:505 -- KL divergence for Module default_policy is non-finite, this will likely destabilize your model and the training process. Action(s) in a specific state have near-zero probability. This can happen naturally in deterministic environments where the optimal policy has zero mass for a specific action. To fix this issue, consider setting `kl_coeff` to 0.0 or increasing `entropy_coeff` in your config.\n",
      "\u001b[2m\u001b[36m(PPO pid=1708716)\u001b[0m 2024-05-12 17:02:54,437\tWARNING ppo.py:505 -- KL divergence for Module default_policy is non-finite, this will likely destabilize your model and the training process. Action(s) in a specific state have near-zero probability. This can happen naturally in deterministic environments where the optimal policy has zero mass for a specific action. To fix this issue, consider setting `kl_coeff` to 0.0 or increasing `entropy_coeff` in your config.\n",
      "\u001b[2m\u001b[36m(PPO pid=1708716)\u001b[0m 2024-05-12 17:02:56,129\tWARNING ppo.py:505 -- KL divergence for Module default_policy is non-finite, this will likely destabilize your model and the training process. Action(s) in a specific state have near-zero probability. This can happen naturally in deterministic environments where the optimal policy has zero mass for a specific action. To fix this issue, consider setting `kl_coeff` to 0.0 or increasing `entropy_coeff` in your config.\n",
      "\u001b[2m\u001b[36m(PPO pid=1708716)\u001b[0m 2024-05-12 17:02:57,833\tWARNING ppo.py:505 -- KL divergence for Module default_policy is non-finite, this will likely destabilize your model and the training process. Action(s) in a specific state have near-zero probability. This can happen naturally in deterministic environments where the optimal policy has zero mass for a specific action. To fix this issue, consider setting `kl_coeff` to 0.0 or increasing `entropy_coeff` in your config.\n",
      "\u001b[2m\u001b[36m(PPO pid=1708716)\u001b[0m Checkpoint successfully created at: Checkpoint(filesystem=local, path=/home/healthcare/Desktop/Tristan/rl-projects/results/PPO_2024-05-12_17-00-56/PPO_CustomizedEnvironment_df94b_00000_0_2024-05-12_17-00-56/checkpoint_000011)\n",
      "\u001b[2m\u001b[36m(_WandbLoggingActor pid=1710176)\u001b[0m wandb: Adding directory to artifact (/home/healthcare/Desktop/Tristan/rl-projects/results/PPO_2024-05-12_17-00-56/PPO_CustomizedEnvironment_df94b_00000_0_2024-05-12_17-00-56/checkpoint_000011)... \n",
      "\u001b[2m\u001b[36m(_WandbLoggingActor pid=1710176)\u001b[0m Done. 0.0s\n",
      "\u001b[2m\u001b[36m(PPO pid=1708716)\u001b[0m 2024-05-12 17:02:59,631\tWARNING ppo.py:505 -- KL divergence for Module default_policy is non-finite, this will likely destabilize your model and the training process. Action(s) in a specific state have near-zero probability. This can happen naturally in deterministic environments where the optimal policy has zero mass for a specific action. To fix this issue, consider setting `kl_coeff` to 0.0 or increasing `entropy_coeff` in your config.\n",
      "\u001b[2m\u001b[36m(PPO pid=1708716)\u001b[0m 2024-05-12 17:03:01,223\tWARNING ppo.py:505 -- KL divergence for Module default_policy is non-finite, this will likely destabilize your model and the training process. Action(s) in a specific state have near-zero probability. This can happen naturally in deterministic environments where the optimal policy has zero mass for a specific action. To fix this issue, consider setting `kl_coeff` to 0.0 or increasing `entropy_coeff` in your config.\n",
      "\u001b[2m\u001b[36m(PPO pid=1708716)\u001b[0m 2024-05-12 17:03:02,946\tWARNING ppo.py:505 -- KL divergence for Module default_policy is non-finite, this will likely destabilize your model and the training process. Action(s) in a specific state have near-zero probability. This can happen naturally in deterministic environments where the optimal policy has zero mass for a specific action. To fix this issue, consider setting `kl_coeff` to 0.0 or increasing `entropy_coeff` in your config.\n",
      "\u001b[2m\u001b[36m(PPO pid=1708716)\u001b[0m 2024-05-12 17:03:04,596\tWARNING ppo.py:505 -- KL divergence for Module default_policy is non-finite, this will likely destabilize your model and the training process. Action(s) in a specific state have near-zero probability. This can happen naturally in deterministic environments where the optimal policy has zero mass for a specific action. To fix this issue, consider setting `kl_coeff` to 0.0 or increasing `entropy_coeff` in your config.\n",
      "\u001b[2m\u001b[36m(PPO pid=1708716)\u001b[0m 2024-05-12 17:03:06,335\tWARNING ppo.py:505 -- KL divergence for Module default_policy is non-finite, this will likely destabilize your model and the training process. Action(s) in a specific state have near-zero probability. This can happen naturally in deterministic environments where the optimal policy has zero mass for a specific action. To fix this issue, consider setting `kl_coeff` to 0.0 or increasing `entropy_coeff` in your config.\n",
      "\u001b[2m\u001b[36m(PPO pid=1708716)\u001b[0m Checkpoint successfully created at: Checkpoint(filesystem=local, path=/home/healthcare/Desktop/Tristan/rl-projects/results/PPO_2024-05-12_17-00-56/PPO_CustomizedEnvironment_df94b_00000_0_2024-05-12_17-00-56/checkpoint_000012)\n",
      "\u001b[2m\u001b[36m(_WandbLoggingActor pid=1710176)\u001b[0m wandb: Adding directory to artifact (/home/healthcare/Desktop/Tristan/rl-projects/results/PPO_2024-05-12_17-00-56/PPO_CustomizedEnvironment_df94b_00000_0_2024-05-12_17-00-56/checkpoint_000012)... Done. 0.0s\n",
      "\u001b[2m\u001b[36m(PPO pid=1708716)\u001b[0m 2024-05-12 17:03:08,035\tWARNING ppo.py:505 -- KL divergence for Module default_policy is non-finite, this will likely destabilize your model and the training process. Action(s) in a specific state have near-zero probability. This can happen naturally in deterministic environments where the optimal policy has zero mass for a specific action. To fix this issue, consider setting `kl_coeff` to 0.0 or increasing `entropy_coeff` in your config.\n",
      "\u001b[2m\u001b[36m(PPO pid=1708716)\u001b[0m 2024-05-12 17:03:09,702\tWARNING ppo.py:505 -- KL divergence for Module default_policy is non-finite, this will likely destabilize your model and the training process. Action(s) in a specific state have near-zero probability. This can happen naturally in deterministic environments where the optimal policy has zero mass for a specific action. To fix this issue, consider setting `kl_coeff` to 0.0 or increasing `entropy_coeff` in your config.\n",
      "\u001b[2m\u001b[36m(PPO pid=1708716)\u001b[0m 2024-05-12 17:03:11,395\tWARNING ppo.py:505 -- KL divergence for Module default_policy is non-finite, this will likely destabilize your model and the training process. Action(s) in a specific state have near-zero probability. This can happen naturally in deterministic environments where the optimal policy has zero mass for a specific action. To fix this issue, consider setting `kl_coeff` to 0.0 or increasing `entropy_coeff` in your config.\n",
      "\u001b[2m\u001b[36m(PPO pid=1708716)\u001b[0m 2024-05-12 17:03:13,031\tWARNING ppo.py:505 -- KL divergence for Module default_policy is non-finite, this will likely destabilize your model and the training process. Action(s) in a specific state have near-zero probability. This can happen naturally in deterministic environments where the optimal policy has zero mass for a specific action. To fix this issue, consider setting `kl_coeff` to 0.0 or increasing `entropy_coeff` in your config.\n",
      "\u001b[2m\u001b[36m(PPO pid=1708716)\u001b[0m 2024-05-12 17:03:14,789\tWARNING ppo.py:505 -- KL divergence for Module default_policy is non-finite, this will likely destabilize your model and the training process. Action(s) in a specific state have near-zero probability. This can happen naturally in deterministic environments where the optimal policy has zero mass for a specific action. To fix this issue, consider setting `kl_coeff` to 0.0 or increasing `entropy_coeff` in your config.\n",
      "\u001b[2m\u001b[36m(PPO pid=1708716)\u001b[0m Checkpoint successfully created at: Checkpoint(filesystem=local, path=/home/healthcare/Desktop/Tristan/rl-projects/results/PPO_2024-05-12_17-00-56/PPO_CustomizedEnvironment_df94b_00000_0_2024-05-12_17-00-56/checkpoint_000013)\n",
      "\u001b[2m\u001b[36m(_WandbLoggingActor pid=1710176)\u001b[0m wandb: Adding directory to artifact (/home/healthcare/Desktop/Tristan/rl-projects/results/PPO_2024-05-12_17-00-56/PPO_CustomizedEnvironment_df94b_00000_0_2024-05-12_17-00-56/checkpoint_000013)... \n",
      "\u001b[2m\u001b[36m(_WandbLoggingActor pid=1710176)\u001b[0m Done. 0.0s\n",
      "\u001b[2m\u001b[36m(PPO pid=1708716)\u001b[0m 2024-05-12 17:03:16,475\tWARNING ppo.py:505 -- KL divergence for Module default_policy is non-finite, this will likely destabilize your model and the training process. Action(s) in a specific state have near-zero probability. This can happen naturally in deterministic environments where the optimal policy has zero mass for a specific action. To fix this issue, consider setting `kl_coeff` to 0.0 or increasing `entropy_coeff` in your config.\n",
      "\u001b[2m\u001b[36m(PPO pid=1708716)\u001b[0m 2024-05-12 17:03:18,091\tWARNING ppo.py:505 -- KL divergence for Module default_policy is non-finite, this will likely destabilize your model and the training process. Action(s) in a specific state have near-zero probability. This can happen naturally in deterministic environments where the optimal policy has zero mass for a specific action. To fix this issue, consider setting `kl_coeff` to 0.0 or increasing `entropy_coeff` in your config.\n",
      "\u001b[2m\u001b[36m(PPO pid=1708716)\u001b[0m 2024-05-12 17:03:19,775\tWARNING ppo.py:505 -- KL divergence for Module default_policy is non-finite, this will likely destabilize your model and the training process. Action(s) in a specific state have near-zero probability. This can happen naturally in deterministic environments where the optimal policy has zero mass for a specific action. To fix this issue, consider setting `kl_coeff` to 0.0 or increasing `entropy_coeff` in your config.\n",
      "\u001b[2m\u001b[36m(PPO pid=1708716)\u001b[0m 2024-05-12 17:03:21,478\tWARNING ppo.py:505 -- KL divergence for Module default_policy is non-finite, this will likely destabilize your model and the training process. Action(s) in a specific state have near-zero probability. This can happen naturally in deterministic environments where the optimal policy has zero mass for a specific action. To fix this issue, consider setting `kl_coeff` to 0.0 or increasing `entropy_coeff` in your config.\n",
      "\u001b[2m\u001b[36m(PPO pid=1708716)\u001b[0m 2024-05-12 17:03:23,116\tWARNING ppo.py:505 -- KL divergence for Module default_policy is non-finite, this will likely destabilize your model and the training process. Action(s) in a specific state have near-zero probability. This can happen naturally in deterministic environments where the optimal policy has zero mass for a specific action. To fix this issue, consider setting `kl_coeff` to 0.0 or increasing `entropy_coeff` in your config.\n",
      "\u001b[2m\u001b[36m(PPO pid=1708716)\u001b[0m Checkpoint successfully created at: Checkpoint(filesystem=local, path=/home/healthcare/Desktop/Tristan/rl-projects/results/PPO_2024-05-12_17-00-56/PPO_CustomizedEnvironment_df94b_00000_0_2024-05-12_17-00-56/checkpoint_000014)\n",
      "\u001b[2m\u001b[36m(_WandbLoggingActor pid=1710176)\u001b[0m wandb: Adding directory to artifact (/home/healthcare/Desktop/Tristan/rl-projects/results/PPO_2024-05-12_17-00-56/PPO_CustomizedEnvironment_df94b_00000_0_2024-05-12_17-00-56/checkpoint_000014)... \n",
      "\u001b[2m\u001b[36m(_WandbLoggingActor pid=1710176)\u001b[0m Done. 0.0s\n",
      "\u001b[2m\u001b[36m(PPO pid=1708716)\u001b[0m 2024-05-12 17:03:24,916\tWARNING ppo.py:505 -- KL divergence for Module default_policy is non-finite, this will likely destabilize your model and the training process. Action(s) in a specific state have near-zero probability. This can happen naturally in deterministic environments where the optimal policy has zero mass for a specific action. To fix this issue, consider setting `kl_coeff` to 0.0 or increasing `entropy_coeff` in your config.\n",
      "\u001b[2m\u001b[36m(PPO pid=1708716)\u001b[0m 2024-05-12 17:03:26,585\tWARNING ppo.py:505 -- KL divergence for Module default_policy is non-finite, this will likely destabilize your model and the training process. Action(s) in a specific state have near-zero probability. This can happen naturally in deterministic environments where the optimal policy has zero mass for a specific action. To fix this issue, consider setting `kl_coeff` to 0.0 or increasing `entropy_coeff` in your config.\n",
      "\u001b[2m\u001b[36m(PPO pid=1708716)\u001b[0m 2024-05-12 17:03:28,232\tWARNING ppo.py:505 -- KL divergence for Module default_policy is non-finite, this will likely destabilize your model and the training process. Action(s) in a specific state have near-zero probability. This can happen naturally in deterministic environments where the optimal policy has zero mass for a specific action. To fix this issue, consider setting `kl_coeff` to 0.0 or increasing `entropy_coeff` in your config.\n",
      "\u001b[2m\u001b[36m(PPO pid=1708716)\u001b[0m 2024-05-12 17:03:29,900\tWARNING ppo.py:505 -- KL divergence for Module default_policy is non-finite, this will likely destabilize your model and the training process. Action(s) in a specific state have near-zero probability. This can happen naturally in deterministic environments where the optimal policy has zero mass for a specific action. To fix this issue, consider setting `kl_coeff` to 0.0 or increasing `entropy_coeff` in your config.\n",
      "\u001b[2m\u001b[36m(PPO pid=1708716)\u001b[0m 2024-05-12 17:03:31,549\tWARNING ppo.py:505 -- KL divergence for Module default_policy is non-finite, this will likely destabilize your model and the training process. Action(s) in a specific state have near-zero probability. This can happen naturally in deterministic environments where the optimal policy has zero mass for a specific action. To fix this issue, consider setting `kl_coeff` to 0.0 or increasing `entropy_coeff` in your config.\n",
      "\u001b[2m\u001b[36m(PPO pid=1708716)\u001b[0m Checkpoint successfully created at: Checkpoint(filesystem=local, path=/home/healthcare/Desktop/Tristan/rl-projects/results/PPO_2024-05-12_17-00-56/PPO_CustomizedEnvironment_df94b_00000_0_2024-05-12_17-00-56/checkpoint_000015)\n",
      "\u001b[2m\u001b[36m(_WandbLoggingActor pid=1710176)\u001b[0m wandb: Adding directory to artifact (/home/healthcare/Desktop/Tristan/rl-projects/results/PPO_2024-05-12_17-00-56/PPO_CustomizedEnvironment_df94b_00000_0_2024-05-12_17-00-56/checkpoint_000015)... Done. 0.0s\n",
      "\u001b[2m\u001b[36m(PPO pid=1708716)\u001b[0m 2024-05-12 17:03:33,285\tWARNING ppo.py:505 -- KL divergence for Module default_policy is non-finite, this will likely destabilize your model and the training process. Action(s) in a specific state have near-zero probability. This can happen naturally in deterministic environments where the optimal policy has zero mass for a specific action. To fix this issue, consider setting `kl_coeff` to 0.0 or increasing `entropy_coeff` in your config.\n",
      "\u001b[2m\u001b[36m(PPO pid=1708716)\u001b[0m 2024-05-12 17:03:34,949\tWARNING ppo.py:505 -- KL divergence for Module default_policy is non-finite, this will likely destabilize your model and the training process. Action(s) in a specific state have near-zero probability. This can happen naturally in deterministic environments where the optimal policy has zero mass for a specific action. To fix this issue, consider setting `kl_coeff` to 0.0 or increasing `entropy_coeff` in your config.\n",
      "\u001b[2m\u001b[36m(PPO pid=1708716)\u001b[0m 2024-05-12 17:03:36,688\tWARNING ppo.py:505 -- KL divergence for Module default_policy is non-finite, this will likely destabilize your model and the training process. Action(s) in a specific state have near-zero probability. This can happen naturally in deterministic environments where the optimal policy has zero mass for a specific action. To fix this issue, consider setting `kl_coeff` to 0.0 or increasing `entropy_coeff` in your config.\n",
      "\u001b[2m\u001b[36m(PPO pid=1708716)\u001b[0m 2024-05-12 17:03:38,328\tWARNING ppo.py:505 -- KL divergence for Module default_policy is non-finite, this will likely destabilize your model and the training process. Action(s) in a specific state have near-zero probability. This can happen naturally in deterministic environments where the optimal policy has zero mass for a specific action. To fix this issue, consider setting `kl_coeff` to 0.0 or increasing `entropy_coeff` in your config.\n",
      "\u001b[2m\u001b[36m(PPO pid=1708716)\u001b[0m 2024-05-12 17:03:39,937\tWARNING ppo.py:505 -- KL divergence for Module default_policy is non-finite, this will likely destabilize your model and the training process. Action(s) in a specific state have near-zero probability. This can happen naturally in deterministic environments where the optimal policy has zero mass for a specific action. To fix this issue, consider setting `kl_coeff` to 0.0 or increasing `entropy_coeff` in your config.\n",
      "\u001b[2m\u001b[36m(PPO pid=1708716)\u001b[0m Checkpoint successfully created at: Checkpoint(filesystem=local, path=/home/healthcare/Desktop/Tristan/rl-projects/results/PPO_2024-05-12_17-00-56/PPO_CustomizedEnvironment_df94b_00000_0_2024-05-12_17-00-56/checkpoint_000016)\n",
      "\u001b[2m\u001b[36m(_WandbLoggingActor pid=1710176)\u001b[0m wandb: Adding directory to artifact (/home/healthcare/Desktop/Tristan/rl-projects/results/PPO_2024-05-12_17-00-56/PPO_CustomizedEnvironment_df94b_00000_0_2024-05-12_17-00-56/checkpoint_000016)... \n",
      "\u001b[2m\u001b[36m(_WandbLoggingActor pid=1710176)\u001b[0m Done. 0.0s\n",
      "\u001b[2m\u001b[36m(PPO pid=1708716)\u001b[0m 2024-05-12 17:03:41,677\tWARNING ppo.py:505 -- KL divergence for Module default_policy is non-finite, this will likely destabilize your model and the training process. Action(s) in a specific state have near-zero probability. This can happen naturally in deterministic environments where the optimal policy has zero mass for a specific action. To fix this issue, consider setting `kl_coeff` to 0.0 or increasing `entropy_coeff` in your config.\n",
      "\u001b[2m\u001b[36m(PPO pid=1708716)\u001b[0m 2024-05-12 17:03:43,294\tWARNING ppo.py:505 -- KL divergence for Module default_policy is non-finite, this will likely destabilize your model and the training process. Action(s) in a specific state have near-zero probability. This can happen naturally in deterministic environments where the optimal policy has zero mass for a specific action. To fix this issue, consider setting `kl_coeff` to 0.0 or increasing `entropy_coeff` in your config.\n",
      "\u001b[2m\u001b[36m(PPO pid=1708716)\u001b[0m 2024-05-12 17:03:44,974\tWARNING ppo.py:505 -- KL divergence for Module default_policy is non-finite, this will likely destabilize your model and the training process. Action(s) in a specific state have near-zero probability. This can happen naturally in deterministic environments where the optimal policy has zero mass for a specific action. To fix this issue, consider setting `kl_coeff` to 0.0 or increasing `entropy_coeff` in your config.\n",
      "\u001b[2m\u001b[36m(PPO pid=1708716)\u001b[0m 2024-05-12 17:03:46,696\tWARNING ppo.py:505 -- KL divergence for Module default_policy is non-finite, this will likely destabilize your model and the training process. Action(s) in a specific state have near-zero probability. This can happen naturally in deterministic environments where the optimal policy has zero mass for a specific action. To fix this issue, consider setting `kl_coeff` to 0.0 or increasing `entropy_coeff` in your config.\n",
      "\u001b[2m\u001b[36m(PPO pid=1708716)\u001b[0m 2024-05-12 17:03:48,371\tWARNING ppo.py:505 -- KL divergence for Module default_policy is non-finite, this will likely destabilize your model and the training process. Action(s) in a specific state have near-zero probability. This can happen naturally in deterministic environments where the optimal policy has zero mass for a specific action. To fix this issue, consider setting `kl_coeff` to 0.0 or increasing `entropy_coeff` in your config.\n",
      "\u001b[2m\u001b[36m(PPO pid=1708716)\u001b[0m Checkpoint successfully created at: Checkpoint(filesystem=local, path=/home/healthcare/Desktop/Tristan/rl-projects/results/PPO_2024-05-12_17-00-56/PPO_CustomizedEnvironment_df94b_00000_0_2024-05-12_17-00-56/checkpoint_000017)\n",
      "\u001b[2m\u001b[36m(_WandbLoggingActor pid=1710176)\u001b[0m wandb: Adding directory to artifact (/home/healthcare/Desktop/Tristan/rl-projects/results/PPO_2024-05-12_17-00-56/PPO_CustomizedEnvironment_df94b_00000_0_2024-05-12_17-00-56/checkpoint_000017)... \n",
      "\u001b[2m\u001b[36m(_WandbLoggingActor pid=1710176)\u001b[0m Done. 0.0s\n",
      "\u001b[2m\u001b[36m(PPO pid=1708716)\u001b[0m 2024-05-12 17:03:50,063\tWARNING ppo.py:505 -- KL divergence for Module default_policy is non-finite, this will likely destabilize your model and the training process. Action(s) in a specific state have near-zero probability. This can happen naturally in deterministic environments where the optimal policy has zero mass for a specific action. To fix this issue, consider setting `kl_coeff` to 0.0 or increasing `entropy_coeff` in your config.\n",
      "\u001b[2m\u001b[36m(PPO pid=1708716)\u001b[0m 2024-05-12 17:03:51,686\tWARNING ppo.py:505 -- KL divergence for Module default_policy is non-finite, this will likely destabilize your model and the training process. Action(s) in a specific state have near-zero probability. This can happen naturally in deterministic environments where the optimal policy has zero mass for a specific action. To fix this issue, consider setting `kl_coeff` to 0.0 or increasing `entropy_coeff` in your config.\n",
      "\u001b[2m\u001b[36m(PPO pid=1708716)\u001b[0m 2024-05-12 17:03:53,386\tWARNING ppo.py:505 -- KL divergence for Module default_policy is non-finite, this will likely destabilize your model and the training process. Action(s) in a specific state have near-zero probability. This can happen naturally in deterministic environments where the optimal policy has zero mass for a specific action. To fix this issue, consider setting `kl_coeff` to 0.0 or increasing `entropy_coeff` in your config.\n",
      "\u001b[2m\u001b[36m(PPO pid=1708716)\u001b[0m 2024-05-12 17:03:55,021\tWARNING ppo.py:505 -- KL divergence for Module default_policy is non-finite, this will likely destabilize your model and the training process. Action(s) in a specific state have near-zero probability. This can happen naturally in deterministic environments where the optimal policy has zero mass for a specific action. To fix this issue, consider setting `kl_coeff` to 0.0 or increasing `entropy_coeff` in your config.\n",
      "\u001b[2m\u001b[36m(PPO pid=1708716)\u001b[0m 2024-05-12 17:03:56,772\tWARNING ppo.py:505 -- KL divergence for Module default_policy is non-finite, this will likely destabilize your model and the training process. Action(s) in a specific state have near-zero probability. This can happen naturally in deterministic environments where the optimal policy has zero mass for a specific action. To fix this issue, consider setting `kl_coeff` to 0.0 or increasing `entropy_coeff` in your config.\n",
      "\u001b[2m\u001b[36m(PPO pid=1708716)\u001b[0m Checkpoint successfully created at: Checkpoint(filesystem=local, path=/home/healthcare/Desktop/Tristan/rl-projects/results/PPO_2024-05-12_17-00-56/PPO_CustomizedEnvironment_df94b_00000_0_2024-05-12_17-00-56/checkpoint_000018)\n",
      "\u001b[2m\u001b[36m(_WandbLoggingActor pid=1710176)\u001b[0m wandb: Adding directory to artifact (/home/healthcare/Desktop/Tristan/rl-projects/results/PPO_2024-05-12_17-00-56/PPO_CustomizedEnvironment_df94b_00000_0_2024-05-12_17-00-56/checkpoint_000018)... Done. 0.0s\n",
      "\u001b[2m\u001b[36m(PPO pid=1708716)\u001b[0m 2024-05-12 17:03:58,536\tWARNING ppo.py:505 -- KL divergence for Module default_policy is non-finite, this will likely destabilize your model and the training process. Action(s) in a specific state have near-zero probability. This can happen naturally in deterministic environments where the optimal policy has zero mass for a specific action. To fix this issue, consider setting `kl_coeff` to 0.0 or increasing `entropy_coeff` in your config.\n",
      "\u001b[2m\u001b[36m(PPO pid=1708716)\u001b[0m 2024-05-12 17:04:00,171\tWARNING ppo.py:505 -- KL divergence for Module default_policy is non-finite, this will likely destabilize your model and the training process. Action(s) in a specific state have near-zero probability. This can happen naturally in deterministic environments where the optimal policy has zero mass for a specific action. To fix this issue, consider setting `kl_coeff` to 0.0 or increasing `entropy_coeff` in your config.\n",
      "\u001b[2m\u001b[36m(PPO pid=1708716)\u001b[0m 2024-05-12 17:04:01,852\tWARNING ppo.py:505 -- KL divergence for Module default_policy is non-finite, this will likely destabilize your model and the training process. Action(s) in a specific state have near-zero probability. This can happen naturally in deterministic environments where the optimal policy has zero mass for a specific action. To fix this issue, consider setting `kl_coeff` to 0.0 or increasing `entropy_coeff` in your config.\n",
      "\u001b[2m\u001b[36m(PPO pid=1708716)\u001b[0m 2024-05-12 17:04:03,603\tWARNING ppo.py:505 -- KL divergence for Module default_policy is non-finite, this will likely destabilize your model and the training process. Action(s) in a specific state have near-zero probability. This can happen naturally in deterministic environments where the optimal policy has zero mass for a specific action. To fix this issue, consider setting `kl_coeff` to 0.0 or increasing `entropy_coeff` in your config.\n",
      "\u001b[2m\u001b[36m(PPO pid=1708716)\u001b[0m 2024-05-12 17:04:05,260\tWARNING ppo.py:505 -- KL divergence for Module default_policy is non-finite, this will likely destabilize your model and the training process. Action(s) in a specific state have near-zero probability. This can happen naturally in deterministic environments where the optimal policy has zero mass for a specific action. To fix this issue, consider setting `kl_coeff` to 0.0 or increasing `entropy_coeff` in your config.\n",
      "\u001b[2m\u001b[36m(PPO pid=1708716)\u001b[0m Checkpoint successfully created at: Checkpoint(filesystem=local, path=/home/healthcare/Desktop/Tristan/rl-projects/results/PPO_2024-05-12_17-00-56/PPO_CustomizedEnvironment_df94b_00000_0_2024-05-12_17-00-56/checkpoint_000019)\n",
      "\u001b[2m\u001b[36m(_WandbLoggingActor pid=1710176)\u001b[0m wandb: Adding directory to artifact (/home/healthcare/Desktop/Tristan/rl-projects/results/PPO_2024-05-12_17-00-56/PPO_CustomizedEnvironment_df94b_00000_0_2024-05-12_17-00-56/checkpoint_000019)... Done. 0.0s\n",
      "\u001b[2m\u001b[36m(PPO pid=1708716)\u001b[0m 2024-05-12 17:04:07,072\tWARNING ppo.py:505 -- KL divergence for Module default_policy is non-finite, this will likely destabilize your model and the training process. Action(s) in a specific state have near-zero probability. This can happen naturally in deterministic environments where the optimal policy has zero mass for a specific action. To fix this issue, consider setting `kl_coeff` to 0.0 or increasing `entropy_coeff` in your config.\n",
      "\u001b[2m\u001b[36m(PPO pid=1708716)\u001b[0m 2024-05-12 17:04:08,769\tWARNING ppo.py:505 -- KL divergence for Module default_policy is non-finite, this will likely destabilize your model and the training process. Action(s) in a specific state have near-zero probability. This can happen naturally in deterministic environments where the optimal policy has zero mass for a specific action. To fix this issue, consider setting `kl_coeff` to 0.0 or increasing `entropy_coeff` in your config.\n",
      "\u001b[2m\u001b[36m(PPO pid=1708716)\u001b[0m 2024-05-12 17:04:10,517\tWARNING ppo.py:505 -- KL divergence for Module default_policy is non-finite, this will likely destabilize your model and the training process. Action(s) in a specific state have near-zero probability. This can happen naturally in deterministic environments where the optimal policy has zero mass for a specific action. To fix this issue, consider setting `kl_coeff` to 0.0 or increasing `entropy_coeff` in your config.\n",
      "\u001b[2m\u001b[36m(PPO pid=1708716)\u001b[0m 2024-05-12 17:04:12,190\tWARNING ppo.py:505 -- KL divergence for Module default_policy is non-finite, this will likely destabilize your model and the training process. Action(s) in a specific state have near-zero probability. This can happen naturally in deterministic environments where the optimal policy has zero mass for a specific action. To fix this issue, consider setting `kl_coeff` to 0.0 or increasing `entropy_coeff` in your config.\n",
      "\u001b[2m\u001b[36m(PPO pid=1708716)\u001b[0m 2024-05-12 17:04:13,935\tWARNING ppo.py:505 -- KL divergence for Module default_policy is non-finite, this will likely destabilize your model and the training process. Action(s) in a specific state have near-zero probability. This can happen naturally in deterministic environments where the optimal policy has zero mass for a specific action. To fix this issue, consider setting `kl_coeff` to 0.0 or increasing `entropy_coeff` in your config.\n",
      "\u001b[2m\u001b[36m(PPO pid=1708716)\u001b[0m Checkpoint successfully created at: Checkpoint(filesystem=local, path=/home/healthcare/Desktop/Tristan/rl-projects/results/PPO_2024-05-12_17-00-56/PPO_CustomizedEnvironment_df94b_00000_0_2024-05-12_17-00-56/checkpoint_000020)\n",
      "\u001b[2m\u001b[36m(_WandbLoggingActor pid=1710176)\u001b[0m wandb: Adding directory to artifact (/home/healthcare/Desktop/Tristan/rl-projects/results/PPO_2024-05-12_17-00-56/PPO_CustomizedEnvironment_df94b_00000_0_2024-05-12_17-00-56/checkpoint_000020)... \n",
      "\u001b[2m\u001b[36m(_WandbLoggingActor pid=1710176)\u001b[0m Done. 0.0s\n",
      "\u001b[2m\u001b[36m(PPO pid=1708716)\u001b[0m 2024-05-12 17:04:15,776\tWARNING ppo.py:505 -- KL divergence for Module default_policy is non-finite, this will likely destabilize your model and the training process. Action(s) in a specific state have near-zero probability. This can happen naturally in deterministic environments where the optimal policy has zero mass for a specific action. To fix this issue, consider setting `kl_coeff` to 0.0 or increasing `entropy_coeff` in your config.\n",
      "\u001b[2m\u001b[36m(PPO pid=1708716)\u001b[0m 2024-05-12 17:04:17,539\tWARNING ppo.py:505 -- KL divergence for Module default_policy is non-finite, this will likely destabilize your model and the training process. Action(s) in a specific state have near-zero probability. This can happen naturally in deterministic environments where the optimal policy has zero mass for a specific action. To fix this issue, consider setting `kl_coeff` to 0.0 or increasing `entropy_coeff` in your config.\n",
      "\u001b[2m\u001b[36m(PPO pid=1708716)\u001b[0m 2024-05-12 17:04:19,184\tWARNING ppo.py:505 -- KL divergence for Module default_policy is non-finite, this will likely destabilize your model and the training process. Action(s) in a specific state have near-zero probability. This can happen naturally in deterministic environments where the optimal policy has zero mass for a specific action. To fix this issue, consider setting `kl_coeff` to 0.0 or increasing `entropy_coeff` in your config.\n",
      "\u001b[2m\u001b[36m(PPO pid=1708716)\u001b[0m 2024-05-12 17:04:20,888\tWARNING ppo.py:505 -- KL divergence for Module default_policy is non-finite, this will likely destabilize your model and the training process. Action(s) in a specific state have near-zero probability. This can happen naturally in deterministic environments where the optimal policy has zero mass for a specific action. To fix this issue, consider setting `kl_coeff` to 0.0 or increasing `entropy_coeff` in your config.\n",
      "2024-05-12 17:23:23,677\tWARNING tune.py:194 -- Stop signal received (e.g. via SIGINT/Ctrl+C), ending Ray Tune run. This will try to checkpoint the experiment state one last time. Press CTRL+C (or send SIGINT/SIGKILL/SIGTERM) to skip. \n"
     ]
    }
   ],
   "source": [
    "config = (PPOConfig()\n",
    "          .environment(env_customizer.CustomizedEnvironment,\n",
    "                      env_config={\"env\" : csbsingleenv.CodersStrikeBackSingle(),\n",
    "                                 \"customizer\" : CustomizedRacing()\n",
    "                                 })\n",
    "          .framework('torch')\n",
    "          .training(gamma=0.99,\n",
    "                    model= {\n",
    "                              \"use_lstm\": True,\n",
    "                              \"lstm_cell_size\": 64,\n",
    "                              \"max_seq_len\": 10\n",
    "                           })\n",
    "          .rollouts(num_rollout_workers=20, num_envs_per_worker=5, rollout_fragment_length=\"auto\")\n",
    "          .resources(num_gpus=4, num_learner_workers=4, num_gpus_per_learner_worker=1)\n",
    ")\n",
    "config.num_sgd_iter = 6\n",
    "stop = {\"timesteps_total\": 1000000}\n",
    "\n",
    "tuner = tune.Tuner(\n",
    "    \"PPO\",\n",
    "    param_space=config.to_dict(),\n",
    "    run_config=air.RunConfig(stop=stop,\n",
    "                             storage_path=\"~/Desktop/Tristan/rl-projects/results\",\n",
    "                             checkpoint_config=checkpoint_config,\n",
    "                             callbacks=[WandbLoggerCallback(project=\"RL-Projects\",upload_checkpoints=True,\n",
    "                                                            save_checkpoints=True, group=\"rl-class-2024\")],)\n",
    "\n",
    ")\n",
    "\n",
    "tuner.fit()\n"
   ]
  },
  {
   "cell_type": "markdown",
   "id": "57951a80",
   "metadata": {},
   "source": [
    "# Attempt at loading in pre-trained"
   ]
  },
  {
   "cell_type": "code",
   "execution_count": null,
   "id": "64fb50e1",
   "metadata": {},
   "outputs": [],
   "source": [
    "def train_ppo_module_with_bc_finetune(\n",
    "    dataset: ray.data.Dataset, ppo_module_spec: PPOConfig\n",
    ") -> str:\n",
    "    \"\"\"Train an Actor with BC finetuning on dataset.\n",
    "\n",
    "    Args:\n",
    "        dataset: The dataset to train on.\n",
    "        module_spec: The module spec of the PPORLModule that will be trained\n",
    "            after its encoder and policy networks are pretrained with BC.\n",
    "\n",
    "    Returns:\n",
    "        The path to the checkpoint of the pretrained PPORLModule.\n",
    "    \"\"\"\n",
    "    batch_size = 512\n",
    "    learning_rate = 1e-3\n",
    "    num_epochs = 10\n",
    "\n",
    "    module = ppo_module_spec.build()\n",
    "    # We want to pretrain the encoder and policy networks of the RLModule. We don't want\n",
    "    # to pretrain the value network. The actor will use the Categorical distribution,\n",
    "    # as its output distribution since we are training on the CartPole environment which\n",
    "    # has a discrete action space.\n",
    "    BCActorNetwork = BCActor(module.encoder, module.pi, torch.distributions.Categorical)\n",
    "    optim = torch.optim.Adam(BCActorNetwork.parameters(), lr=learning_rate)\n",
    "\n",
    "    for epoch in range(num_epochs):\n",
    "        for batch in dataset.iter_torch_batches(\n",
    "            batch_size=batch_size, dtypes=torch.float32\n",
    "        ):\n",
    "            action_dist = BCActorNetwork(batch)\n",
    "            loss = -torch.mean(action_dist.log_prob(batch[\"actions\"]))\n",
    "            optim.zero_grad()\n",
    "            loss.backward()\n",
    "            optim.step()\n",
    "        print(f\"Epoch {epoch} loss: {loss.detach().item()}\")\n",
    "\n",
    "    checkpoint_dir = tempfile.mkdtemp()\n",
    "    module.save_to_checkpoint(checkpoint_dir)\n",
    "    return checkpoint_dir"
   ]
  },
  {
   "cell_type": "code",
   "execution_count": null,
   "id": "43c31ed3",
   "metadata": {},
   "outputs": [],
   "source": [
    "ds = ray.data.read_json(\"rl-projects/racing/racing_pretrain.json\")\n",
    "\n",
    "config = (PPOConfig()\n",
    "          .environment(env_customizer.CustomizedEnvironment,\n",
    "                      env_config={\"env\" : csbsingleenv.CodersStrikeBackSingle(),\n",
    "                                 \"customizer\" : CustomizedRacing()\n",
    "                                 })\n",
    "          .framework('torch')\n",
    "          .training(gamma=0.99,\n",
    "                    model= {\n",
    "                              \"use_lstm\": True,\n",
    "                              \"lstm_cell_size\": 64,\n",
    "                              \"max_seq_len\": 10\n",
    "                           })\n",
    "          .rollouts(num_rollout_workers=20, num_envs_per_worker=5, rollout_fragment_length=\"auto\")\n",
    "          .resources(num_gpus=4, num_learner_workers=4, num_gpus_per_learner_worker=1)\n",
    ")\n",
    "\n",
    "\n",
    "module_checkpoint_path = train_ppo_module_with_bc_finetune(ds, module_spec)\n"
   ]
  }
 ],
 "metadata": {
  "kernelspec": {
   "display_name": "Python 3 (ipykernel)",
   "language": "python",
   "name": "python3"
  },
  "language_info": {
   "codemirror_mode": {
    "name": "ipython",
    "version": 3
   },
   "file_extension": ".py",
   "mimetype": "text/x-python",
   "name": "python",
   "nbconvert_exporter": "python",
   "pygments_lexer": "ipython3",
   "version": "3.10.12"
  }
 },
 "nbformat": 4,
 "nbformat_minor": 5
}

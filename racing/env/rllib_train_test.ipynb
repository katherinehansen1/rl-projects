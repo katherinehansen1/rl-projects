{
 "cells": [
  {
   "cell_type": "markdown",
   "id": "8f48560f-d0cc-4024-b68d-d97e5748d9d5",
   "metadata": {},
   "source": [
    "# Basic Example"
   ]
  },
  {
   "cell_type": "code",
   "execution_count": 5,
   "id": "4f4e2c1c-d222-4488-b5eb-1f4ec477861e",
   "metadata": {},
   "outputs": [],
   "source": [
    "# !pip install gymnasium\n",
    "# !pip install ray\n",
    "# !pip install ray[rllib]\n",
    "# !pip install torch\n",
    "import csbsingleenv"
   ]
  },
  {
   "cell_type": "code",
   "execution_count": 6,
   "id": "2d721a93-3505-4ac7-b363-c7c8d0e9246b",
   "metadata": {},
   "outputs": [],
   "source": [
    "env = csbsingleenv.CodersStrikeBackSingle()"
   ]
  },
  {
   "cell_type": "code",
   "execution_count": 7,
   "id": "8fea1609-4b37-4725-8004-9c638e2ddbdc",
   "metadata": {},
   "outputs": [
    {
     "name": "stdout",
     "output_type": "stream",
     "text": [
      "-10100\n"
     ]
    }
   ],
   "source": [
    "env.reset()\n",
    "done = False\n",
    "rewards = []\n",
    "while not done:\n",
    "    obs, reward, done, _, _ = env.step(env.action_space.sample())\n",
    "    rewards.append(reward)\n",
    "print(sum(rewards))"
   ]
  },
  {
   "cell_type": "code",
   "execution_count": 8,
   "id": "dfb7157f-f44f-4c86-a35d-f9fb4d2885b4",
   "metadata": {},
   "outputs": [],
   "source": [
    "import ray\n",
    "from ray import tune, air\n",
    "from ray.rllib.algorithms.ppo import PPOConfig\n",
    "from functools import partial"
   ]
  },
  {
   "cell_type": "code",
   "execution_count": 9,
   "id": "f9768330-7891-4027-99ff-f36686c2375b",
   "metadata": {},
   "outputs": [
    {
     "name": "stderr",
     "output_type": "stream",
     "text": [
      "2024-05-06 16:16:37,018\tINFO worker.py:1749 -- Started a local Ray instance.\n"
     ]
    },
    {
     "data": {
      "application/vnd.jupyter.widget-view+json": {
       "model_id": "c95d6d5ed2a449e8b75abed6a9278a01",
       "version_major": 2,
       "version_minor": 0
      },
      "text/html": [
       "<div class=\"lm-Widget p-Widget lm-Panel p-Panel jp-Cell-outputWrapper\">\n",
       "    <div style=\"margin-left: 50px;display: flex;flex-direction: row;align-items: center\">\n",
       "        <div class=\"jp-RenderedHTMLCommon\" style=\"display: flex; flex-direction: row;\">\n",
       "  <svg viewBox=\"0 0 567 224\" fill=\"none\" xmlns=\"http://www.w3.org/2000/svg\" style=\"height: 3em;\">\n",
       "    <g clip-path=\"url(#clip0_4338_178347)\">\n",
       "        <path d=\"M341.29 165.561H355.29L330.13 129.051C345.63 123.991 354.21 112.051 354.21 94.2307C354.21 71.3707 338.72 58.1807 311.88 58.1807H271V165.561H283.27V131.661H311.8C314.25 131.661 316.71 131.501 319.01 131.351L341.25 165.561H341.29ZM283.29 119.851V70.0007H311.82C331.3 70.0007 342.34 78.2907 342.34 94.5507C342.34 111.271 331.34 119.861 311.82 119.861L283.29 119.851ZM451.4 138.411L463.4 165.561H476.74L428.74 58.1807H416L367.83 165.561H380.83L392.83 138.411H451.4ZM446.19 126.601H398L422 72.1407L446.24 126.601H446.19ZM526.11 128.741L566.91 58.1807H554.35L519.99 114.181L485.17 58.1807H472.44L514.01 129.181V165.541H526.13V128.741H526.11Z\" fill=\"var(--jp-ui-font-color0)\"/>\n",
       "        <path d=\"M82.35 104.44C84.0187 97.8827 87.8248 92.0678 93.1671 87.9146C98.5094 83.7614 105.083 81.5067 111.85 81.5067C118.617 81.5067 125.191 83.7614 130.533 87.9146C135.875 92.0678 139.681 97.8827 141.35 104.44H163.75C164.476 101.562 165.622 98.8057 167.15 96.2605L127.45 56.5605C121.071 60.3522 113.526 61.6823 106.235 60.3005C98.9443 58.9187 92.4094 54.9203 87.8602 49.0574C83.3109 43.1946 81.0609 35.8714 81.5332 28.4656C82.0056 21.0599 85.1679 14.0819 90.4252 8.8446C95.6824 3.60726 102.672 0.471508 110.08 0.0272655C117.487 -0.416977 124.802 1.86091 130.647 6.4324C136.493 11.0039 140.467 17.5539 141.821 24.8501C143.175 32.1463 141.816 39.6859 138 46.0505L177.69 85.7505C182.31 82.9877 187.58 81.4995 192.962 81.4375C198.345 81.3755 203.648 82.742 208.33 85.3976C213.012 88.0532 216.907 91.9029 219.616 96.5544C222.326 101.206 223.753 106.492 223.753 111.875C223.753 117.258 222.326 122.545 219.616 127.197C216.907 131.848 213.012 135.698 208.33 138.353C203.648 141.009 198.345 142.375 192.962 142.313C187.58 142.251 182.31 140.763 177.69 138L138 177.7C141.808 184.071 143.155 191.614 141.79 198.91C140.424 206.205 136.44 212.75 130.585 217.313C124.731 221.875 117.412 224.141 110.004 223.683C102.596 223.226 95.6103 220.077 90.3621 214.828C85.1139 209.58 81.9647 202.595 81.5072 195.187C81.0497 187.779 83.3154 180.459 87.878 174.605C92.4405 168.751 98.9853 164.766 106.281 163.401C113.576 162.035 121.119 163.383 127.49 167.19L167.19 127.49C165.664 124.941 164.518 122.182 163.79 119.3H141.39C139.721 125.858 135.915 131.673 130.573 135.826C125.231 139.98 118.657 142.234 111.89 142.234C105.123 142.234 98.5494 139.98 93.2071 135.826C87.8648 131.673 84.0587 125.858 82.39 119.3H60C58.1878 126.495 53.8086 132.78 47.6863 136.971C41.5641 141.163 34.1211 142.972 26.7579 142.059C19.3947 141.146 12.6191 137.574 7.70605 132.014C2.79302 126.454 0.0813599 119.29 0.0813599 111.87C0.0813599 104.451 2.79302 97.2871 7.70605 91.7272C12.6191 86.1673 19.3947 82.5947 26.7579 81.6817C34.1211 80.7686 41.5641 82.5781 47.6863 86.7696C53.8086 90.9611 58.1878 97.2456 60 104.44H82.35ZM100.86 204.32C103.407 206.868 106.759 208.453 110.345 208.806C113.93 209.159 117.527 208.258 120.522 206.256C123.517 204.254 125.725 201.276 126.771 197.828C127.816 194.38 127.633 190.677 126.253 187.349C124.874 184.021 122.383 181.274 119.205 179.577C116.027 177.88 112.359 177.337 108.826 178.042C105.293 178.746 102.113 180.654 99.8291 183.44C97.5451 186.226 96.2979 189.718 96.3 193.32C96.2985 195.364 96.7006 197.388 97.4831 199.275C98.2656 201.163 99.4132 202.877 100.86 204.32ZM204.32 122.88C206.868 120.333 208.453 116.981 208.806 113.396C209.159 109.811 208.258 106.214 206.256 103.219C204.254 100.223 201.275 98.0151 197.827 96.97C194.38 95.9249 190.676 96.1077 187.348 97.4873C184.02 98.8669 181.274 101.358 179.577 104.536C177.879 107.714 177.337 111.382 178.041 114.915C178.746 118.448 180.653 121.627 183.439 123.911C186.226 126.195 189.717 127.443 193.32 127.44C195.364 127.443 197.388 127.042 199.275 126.259C201.163 125.476 202.878 124.328 204.32 122.88ZM122.88 19.4205C120.333 16.8729 116.981 15.2876 113.395 14.9347C109.81 14.5817 106.213 15.483 103.218 17.4849C100.223 19.4868 98.0146 22.4654 96.9696 25.9131C95.9245 29.3608 96.1073 33.0642 97.4869 36.3922C98.8665 39.7202 101.358 42.4668 104.535 44.1639C107.713 45.861 111.381 46.4036 114.914 45.6992C118.447 44.9949 121.627 43.0871 123.911 40.301C126.195 37.515 127.442 34.0231 127.44 30.4205C127.44 28.3772 127.038 26.3539 126.255 24.4664C125.473 22.5788 124.326 20.8642 122.88 19.4205ZM19.42 100.86C16.8725 103.408 15.2872 106.76 14.9342 110.345C14.5813 113.93 15.4826 117.527 17.4844 120.522C19.4863 123.518 22.4649 125.726 25.9127 126.771C29.3604 127.816 33.0638 127.633 36.3918 126.254C39.7198 124.874 42.4664 122.383 44.1635 119.205C45.8606 116.027 46.4032 112.359 45.6988 108.826C44.9944 105.293 43.0866 102.114 40.3006 99.8296C37.5145 97.5455 34.0227 96.2983 30.42 96.3005C26.2938 96.3018 22.337 97.9421 19.42 100.86ZM100.86 100.86C98.3125 103.408 96.7272 106.76 96.3742 110.345C96.0213 113.93 96.9226 117.527 98.9244 120.522C100.926 123.518 103.905 125.726 107.353 126.771C110.8 127.816 114.504 127.633 117.832 126.254C121.16 124.874 123.906 122.383 125.604 119.205C127.301 116.027 127.843 112.359 127.139 108.826C126.434 105.293 124.527 102.114 121.741 99.8296C118.955 97.5455 115.463 96.2983 111.86 96.3005C109.817 96.299 107.793 96.701 105.905 97.4835C104.018 98.2661 102.303 99.4136 100.86 100.86Z\" fill=\"#00AEEF\"/>\n",
       "    </g>\n",
       "    <defs>\n",
       "        <clipPath id=\"clip0_4338_178347\">\n",
       "            <rect width=\"566.93\" height=\"223.75\" fill=\"white\"/>\n",
       "        </clipPath>\n",
       "    </defs>\n",
       "  </svg>\n",
       "</div>\n",
       "\n",
       "        <table class=\"jp-RenderedHTMLCommon\" style=\"border-collapse: collapse;color: var(--jp-ui-font-color1);font-size: var(--jp-ui-font-size1);\">\n",
       "    <tr>\n",
       "        <td style=\"text-align: left\"><b>Python version:</b></td>\n",
       "        <td style=\"text-align: left\"><b>3.10.12</b></td>\n",
       "    </tr>\n",
       "    <tr>\n",
       "        <td style=\"text-align: left\"><b>Ray version:</b></td>\n",
       "        <td style=\"text-align: left\"><b>2.20.0</b></td>\n",
       "    </tr>\n",
       "    \n",
       "</table>\n",
       "\n",
       "    </div>\n",
       "</div>\n"
      ],
      "text/plain": [
       "RayContext(dashboard_url='', python_version='3.10.12', ray_version='2.20.0', ray_commit='5708e75978413e46c703e44f43fd89769f3c148b')"
      ]
     },
     "execution_count": 9,
     "metadata": {},
     "output_type": "execute_result"
    }
   ],
   "source": [
    "if ray.is_initialized():\n",
    "  ray.shutdown()\n",
    "ray.init(num_cpus=4)"
   ]
  },
  {
   "cell_type": "code",
   "execution_count": 10,
   "id": "4d694f3f-07f4-454d-9156-4a54fc0da45e",
   "metadata": {
    "tags": []
   },
   "outputs": [
    {
     "data": {
      "text/html": [
       "<div class=\"tuneStatus\">\n",
       "  <div style=\"display: flex;flex-direction: row\">\n",
       "    <div style=\"display: flex;flex-direction: column;\">\n",
       "      <h3>Tune Status</h3>\n",
       "      <table>\n",
       "<tbody>\n",
       "<tr><td>Current time:</td><td>2024-05-06 16:17:03</td></tr>\n",
       "<tr><td>Running for: </td><td>00:00:25.70        </td></tr>\n",
       "<tr><td>Memory:      </td><td>16.0/125.5 GiB     </td></tr>\n",
       "</tbody>\n",
       "</table>\n",
       "    </div>\n",
       "    <div class=\"vDivider\"></div>\n",
       "    <div class=\"systemInfo\">\n",
       "      <h3>System Info</h3>\n",
       "      Using FIFO scheduling algorithm.<br>Logical resource usage: 4.0/4 CPUs, 0/4 GPUs (0.0/1.0 accelerator_type:G)\n",
       "    </div>\n",
       "    \n",
       "  </div>\n",
       "  <div class=\"hDivider\"></div>\n",
       "  <div class=\"trialStatus\">\n",
       "    <h3>Trial Status</h3>\n",
       "    <table>\n",
       "<thead>\n",
       "<tr><th>Trial name                            </th><th>status    </th><th>loc                    </th><th style=\"text-align: right;\">  iter</th><th style=\"text-align: right;\">  total time (s)</th><th style=\"text-align: right;\">   ts</th><th style=\"text-align: right;\">  reward</th><th style=\"text-align: right;\">  episode_reward_max</th><th style=\"text-align: right;\">  episode_reward_min</th><th style=\"text-align: right;\">  episode_len_mean</th></tr>\n",
       "</thead>\n",
       "<tbody>\n",
       "<tr><td>PPO_CodersStrikeBackSingle_b01d7_00000</td><td>TERMINATED</td><td>206.211.132.160:2765464</td><td style=\"text-align: right;\">     3</td><td style=\"text-align: right;\">         19.4064</td><td style=\"text-align: right;\">12000</td><td style=\"text-align: right;\">-10103.3</td><td style=\"text-align: right;\">              -10100</td><td style=\"text-align: right;\">              -10184</td><td style=\"text-align: right;\">            103.31</td></tr>\n",
       "</tbody>\n",
       "</table>\n",
       "  </div>\n",
       "</div>\n",
       "<style>\n",
       ".tuneStatus {\n",
       "  color: var(--jp-ui-font-color1);\n",
       "}\n",
       ".tuneStatus .systemInfo {\n",
       "  display: flex;\n",
       "  flex-direction: column;\n",
       "}\n",
       ".tuneStatus td {\n",
       "  white-space: nowrap;\n",
       "}\n",
       ".tuneStatus .trialStatus {\n",
       "  display: flex;\n",
       "  flex-direction: column;\n",
       "}\n",
       ".tuneStatus h3 {\n",
       "  font-weight: bold;\n",
       "}\n",
       ".tuneStatus .hDivider {\n",
       "  border-bottom-width: var(--jp-border-width);\n",
       "  border-bottom-color: var(--jp-border-color0);\n",
       "  border-bottom-style: solid;\n",
       "}\n",
       ".tuneStatus .vDivider {\n",
       "  border-left-width: var(--jp-border-width);\n",
       "  border-left-color: var(--jp-border-color0);\n",
       "  border-left-style: solid;\n",
       "  margin: 0.5em 1em 0.5em 1em;\n",
       "}\n",
       "</style>\n"
      ],
      "text/plain": [
       "<IPython.core.display.HTML object>"
      ]
     },
     "metadata": {},
     "output_type": "display_data"
    },
    {
     "name": "stderr",
     "output_type": "stream",
     "text": [
      "\u001b[36m(PPO pid=2765464)\u001b[0m 2024-05-06 16:16:40,731\tWARNING deprecation.py:50 -- DeprecationWarning: `max_num_worker_restarts` has been deprecated. Use `AlgorithmConfig.max_num_env_runner_restarts` instead. This will raise an error in the future!\n",
      "\u001b[36m(RolloutWorker pid=2765554)\u001b[0m 2024-05-06 16:16:43,503\tWARNING deprecation.py:50 -- DeprecationWarning: `num_envs_per_worker` has been deprecated. Use `AlgorithmConfig.num_envs_per_env_runner` instead. This will raise an error in the future!\n",
      "\u001b[36m(PPO pid=2765464)\u001b[0m 2024-05-06 16:16:45,437\tWARNING deprecation.py:50 -- DeprecationWarning: `ray.rllib.execution.train_ops.multi_gpu_train_one_step` has been deprecated. This will raise an error in the future!\n",
      "2024-05-06 16:17:03,336\tINFO tune.py:1007 -- Wrote the latest version of all result files and experiment state to '/home/healthcare/ray_results/PPO_2024-05-06_16-16-37' in 0.0338s.\n",
      "2024-05-06 16:17:03,355\tINFO tune.py:1039 -- Total run time: 25.75 seconds (25.66 seconds for the tuning loop).\n",
      "\u001b[36m(PPO pid=2765464)\u001b[0m Checkpoint successfully created at: Checkpoint(filesystem=local, path=/home/healthcare/ray_results/PPO_2024-05-06_16-16-37/PPO_CodersStrikeBackSingle_b01d7_00000_0_2024-05-06_16-16-37/checkpoint_000000)\n",
      "\u001b[36m(PPO pid=2765464)\u001b[0m 2024-05-06 16:16:43,560\tWARNING deprecation.py:50 -- DeprecationWarning: `num_envs_per_worker` has been deprecated. Use `AlgorithmConfig.num_envs_per_env_runner` instead. This will raise an error in the future!\n"
     ]
    },
    {
     "data": {
      "text/plain": [
       "ResultGrid<[\n",
       "  Result(\n",
       "    metrics={'custom_metrics': {}, 'episode_media': {}, 'info': {'learner': {'default_policy': {'learner_stats': {'allreduce_latency': 0.0, 'grad_gnorm': 4.284105129139398, 'cur_kl_coeff': 0.3, 'cur_lr': 5.0000000000000016e-05, 'total_loss': 7.254170803229014, 'policy_loss': -0.04909878835152154, 'vf_loss': 7.298242694588118, 'vf_explained_var': -0.00012150464519377678, 'kl': 0.016756310231823775, 'entropy': 4.3490105490530695, 'entropy_coeff': 0.0}, 'model': {}, 'custom_metrics': {}, 'num_agent_steps_trained': 128.0, 'num_grad_updates_lifetime': 2325.5, 'diff_num_grad_updates_vs_sampler_policy': 464.5}}, 'num_env_steps_sampled': 12000, 'num_env_steps_trained': 12000, 'num_agent_steps_sampled': 12000, 'num_agent_steps_trained': 12000}, 'sampler_results': {'episode_reward_max': -10100.0, 'episode_reward_min': -10184.0, 'episode_reward_mean': -10103.31, 'episode_len_mean': 103.31, 'episode_media': {}, 'episodes_this_iter': 38, 'episodes_timesteps_total': 10331, 'policy_reward_min': {}, 'policy_reward_max': {}, 'policy_reward_mean': {}, 'custom_metrics': {}, 'hist_stats': {'episode_reward': [-10100.0, -10100.0, -10100.0, -10100.0, -10100.0, -10100.0, -10100.0, -10100.0, -10100.0, -10100.0, -10100.0, -10113.0, -10146.0, -10100.0, -10100.0, -10100.0, -10100.0, -10100.0, -10100.0, -10100.0, -10100.0, -10100.0, -10100.0, -10100.0, -10100.0, -10100.0, -10100.0, -10100.0, -10100.0, -10100.0, -10100.0, -10100.0, -10100.0, -10100.0, -10100.0, -10100.0, -10100.0, -10100.0, -10100.0, -10100.0, -10100.0, -10100.0, -10100.0, -10100.0, -10117.0, -10100.0, -10100.0, -10100.0, -10100.0, -10100.0, -10100.0, -10100.0, -10100.0, -10100.0, -10100.0, -10110.0, -10100.0, -10100.0, -10121.0, -10149.0, -10100.0, -10100.0, -10114.0, -10100.0, -10100.0, -10100.0, -10100.0, -10100.0, -10100.0, -10184.0, -10100.0, -10100.0, -10100.0, -10100.0, -10100.0, -10100.0, -10100.0, -10100.0, -10100.0, -10100.0, -10100.0, -10100.0, -10100.0, -10120.0, -10100.0, -10100.0, -10109.0, -10100.0, -10100.0, -10100.0, -10111.0, -10100.0, -10112.0, -10113.0, -10100.0, -10100.0, -10100.0, -10100.0, -10100.0, -10112.0], 'episode_lengths': [100, 100, 100, 100, 100, 100, 100, 100, 100, 100, 100, 113, 146, 100, 100, 100, 100, 100, 100, 100, 100, 100, 100, 100, 100, 100, 100, 100, 100, 100, 100, 100, 100, 100, 100, 100, 100, 100, 100, 100, 100, 100, 100, 100, 117, 100, 100, 100, 100, 100, 100, 100, 100, 100, 100, 110, 100, 100, 121, 149, 100, 100, 114, 100, 100, 100, 100, 100, 100, 184, 100, 100, 100, 100, 100, 100, 100, 100, 100, 100, 100, 100, 100, 120, 100, 100, 109, 100, 100, 100, 111, 100, 112, 113, 100, 100, 100, 100, 100, 112]}, 'sampler_perf': {'mean_raw_obs_processing_ms': 0.23610220674941249, 'mean_inference_ms': 0.7858170683464287, 'mean_action_processing_ms': 0.15390094224767975, 'mean_env_wait_ms': 0.09156915734069342, 'mean_env_render_ms': 0.0}, 'num_faulty_episodes': 0, 'connector_metrics': {'ObsPreprocessorConnector_ms': 0.004591226577758789, 'StateBufferConnector_ms': 0.0036661624908447266, 'ViewRequirementAgentConnector_ms': 0.08737015724182129}, 'num_episodes': 38, 'episode_return_max': -10100.0, 'episode_return_min': -10184.0, 'episode_return_mean': -10103.31}, 'env_runner_results': {'episode_reward_max': -10100.0, 'episode_reward_min': -10184.0, 'episode_reward_mean': -10103.31, 'episode_len_mean': 103.31, 'episode_media': {}, 'episodes_this_iter': 38, 'episodes_timesteps_total': 10331, 'policy_reward_min': {}, 'policy_reward_max': {}, 'policy_reward_mean': {}, 'custom_metrics': {}, 'hist_stats': {'episode_reward': [-10100.0, -10100.0, -10100.0, -10100.0, -10100.0, -10100.0, -10100.0, -10100.0, -10100.0, -10100.0, -10100.0, -10113.0, -10146.0, -10100.0, -10100.0, -10100.0, -10100.0, -10100.0, -10100.0, -10100.0, -10100.0, -10100.0, -10100.0, -10100.0, -10100.0, -10100.0, -10100.0, -10100.0, -10100.0, -10100.0, -10100.0, -10100.0, -10100.0, -10100.0, -10100.0, -10100.0, -10100.0, -10100.0, -10100.0, -10100.0, -10100.0, -10100.0, -10100.0, -10100.0, -10117.0, -10100.0, -10100.0, -10100.0, -10100.0, -10100.0, -10100.0, -10100.0, -10100.0, -10100.0, -10100.0, -10110.0, -10100.0, -10100.0, -10121.0, -10149.0, -10100.0, -10100.0, -10114.0, -10100.0, -10100.0, -10100.0, -10100.0, -10100.0, -10100.0, -10184.0, -10100.0, -10100.0, -10100.0, -10100.0, -10100.0, -10100.0, -10100.0, -10100.0, -10100.0, -10100.0, -10100.0, -10100.0, -10100.0, -10120.0, -10100.0, -10100.0, -10109.0, -10100.0, -10100.0, -10100.0, -10111.0, -10100.0, -10112.0, -10113.0, -10100.0, -10100.0, -10100.0, -10100.0, -10100.0, -10112.0], 'episode_lengths': [100, 100, 100, 100, 100, 100, 100, 100, 100, 100, 100, 113, 146, 100, 100, 100, 100, 100, 100, 100, 100, 100, 100, 100, 100, 100, 100, 100, 100, 100, 100, 100, 100, 100, 100, 100, 100, 100, 100, 100, 100, 100, 100, 100, 117, 100, 100, 100, 100, 100, 100, 100, 100, 100, 100, 110, 100, 100, 121, 149, 100, 100, 114, 100, 100, 100, 100, 100, 100, 184, 100, 100, 100, 100, 100, 100, 100, 100, 100, 100, 100, 100, 100, 120, 100, 100, 109, 100, 100, 100, 111, 100, 112, 113, 100, 100, 100, 100, 100, 112]}, 'sampler_perf': {'mean_raw_obs_processing_ms': 0.23610220674941249, 'mean_inference_ms': 0.7858170683464287, 'mean_action_processing_ms': 0.15390094224767975, 'mean_env_wait_ms': 0.09156915734069342, 'mean_env_render_ms': 0.0}, 'num_faulty_episodes': 0, 'connector_metrics': {'ObsPreprocessorConnector_ms': 0.004591226577758789, 'StateBufferConnector_ms': 0.0036661624908447266, 'ViewRequirementAgentConnector_ms': 0.08737015724182129}, 'num_episodes': 38, 'episode_return_max': -10100.0, 'episode_return_min': -10184.0, 'episode_return_mean': -10103.31}, 'episode_reward_max': -10100.0, 'episode_reward_min': -10184.0, 'episode_reward_mean': -10103.31, 'episode_len_mean': 103.31, 'episodes_this_iter': 38, 'episodes_timesteps_total': 10331, 'policy_reward_min': {}, 'policy_reward_max': {}, 'policy_reward_mean': {}, 'hist_stats': {'episode_reward': [-10100.0, -10100.0, -10100.0, -10100.0, -10100.0, -10100.0, -10100.0, -10100.0, -10100.0, -10100.0, -10100.0, -10113.0, -10146.0, -10100.0, -10100.0, -10100.0, -10100.0, -10100.0, -10100.0, -10100.0, -10100.0, -10100.0, -10100.0, -10100.0, -10100.0, -10100.0, -10100.0, -10100.0, -10100.0, -10100.0, -10100.0, -10100.0, -10100.0, -10100.0, -10100.0, -10100.0, -10100.0, -10100.0, -10100.0, -10100.0, -10100.0, -10100.0, -10100.0, -10100.0, -10117.0, -10100.0, -10100.0, -10100.0, -10100.0, -10100.0, -10100.0, -10100.0, -10100.0, -10100.0, -10100.0, -10110.0, -10100.0, -10100.0, -10121.0, -10149.0, -10100.0, -10100.0, -10114.0, -10100.0, -10100.0, -10100.0, -10100.0, -10100.0, -10100.0, -10184.0, -10100.0, -10100.0, -10100.0, -10100.0, -10100.0, -10100.0, -10100.0, -10100.0, -10100.0, -10100.0, -10100.0, -10100.0, -10100.0, -10120.0, -10100.0, -10100.0, -10109.0, -10100.0, -10100.0, -10100.0, -10111.0, -10100.0, -10112.0, -10113.0, -10100.0, -10100.0, -10100.0, -10100.0, -10100.0, -10112.0], 'episode_lengths': [100, 100, 100, 100, 100, 100, 100, 100, 100, 100, 100, 113, 146, 100, 100, 100, 100, 100, 100, 100, 100, 100, 100, 100, 100, 100, 100, 100, 100, 100, 100, 100, 100, 100, 100, 100, 100, 100, 100, 100, 100, 100, 100, 100, 117, 100, 100, 100, 100, 100, 100, 100, 100, 100, 100, 110, 100, 100, 121, 149, 100, 100, 114, 100, 100, 100, 100, 100, 100, 184, 100, 100, 100, 100, 100, 100, 100, 100, 100, 100, 100, 100, 100, 120, 100, 100, 109, 100, 100, 100, 111, 100, 112, 113, 100, 100, 100, 100, 100, 112]}, 'sampler_perf': {'mean_raw_obs_processing_ms': 0.23610220674941249, 'mean_inference_ms': 0.7858170683464287, 'mean_action_processing_ms': 0.15390094224767975, 'mean_env_wait_ms': 0.09156915734069342, 'mean_env_render_ms': 0.0}, 'num_faulty_episodes': 0, 'connector_metrics': {'ObsPreprocessorConnector_ms': 0.004591226577758789, 'StateBufferConnector_ms': 0.0036661624908447266, 'ViewRequirementAgentConnector_ms': 0.08737015724182129}, 'num_episodes': 38, 'episode_return_max': -10100.0, 'episode_return_min': -10184.0, 'episode_return_mean': -10103.31, 'num_healthy_workers': 3, 'num_in_flight_async_reqs': 0, 'num_remote_worker_restarts': 0, 'num_agent_steps_sampled': 12000, 'num_agent_steps_trained': 12000, 'num_env_steps_sampled': 12000, 'num_env_steps_trained': 12000, 'num_env_steps_sampled_this_iter': 4000, 'num_env_steps_trained_this_iter': 4000, 'num_env_steps_sampled_throughput_per_sec': 623.1162647110297, 'num_env_steps_trained_throughput_per_sec': 623.1162647110297, 'num_env_steps_sampled_lifetime': 12000, 'num_agent_steps_sampled_lifetime': 12000, 'num_steps_trained_this_iter': 4000, 'agent_timesteps_total': 12000, 'timers': {'training_iteration_time_ms': 6462.259, 'restore_workers_time_ms': 0.028, 'training_step_time_ms': 6462.181, 'sample_time_ms': 1728.602, 'load_time_ms': 0.971, 'load_throughput': 4117445.026, 'learn_time_ms': 4726.39, 'learn_throughput': 846.312, 'synch_weights_time_ms': 5.478}, 'counters': {'num_env_steps_sampled': 12000, 'num_env_steps_trained': 12000, 'num_agent_steps_sampled': 12000, 'num_agent_steps_trained': 12000}, 'perf': {'cpu_util_percent': 16.975, 'ram_util_percent': 12.787500000000001, 'gpu_util_percent0': 0.0, 'vram_util_percent0': 0.0017755681818181818, 'gpu_util_percent1': 0.0, 'vram_util_percent1': 0.0017755681818181818, 'gpu_util_percent2': 0.0, 'vram_util_percent2': 0.0017755681818181818, 'gpu_util_percent3': 0.36875, 'vram_util_percent3': 0.06476384943181818}},\n",
       "    path='/home/healthcare/ray_results/PPO_2024-05-06_16-16-37/PPO_CodersStrikeBackSingle_b01d7_00000_0_2024-05-06_16-16-37',\n",
       "    filesystem='local',\n",
       "    checkpoint=Checkpoint(filesystem=local, path=/home/healthcare/ray_results/PPO_2024-05-06_16-16-37/PPO_CodersStrikeBackSingle_b01d7_00000_0_2024-05-06_16-16-37/checkpoint_000000)\n",
       "  )\n",
       "]>"
      ]
     },
     "execution_count": 10,
     "metadata": {},
     "output_type": "execute_result"
    }
   ],
   "source": [
    "config = (PPOConfig()\n",
    "          .environment(csbsingleenv.CodersStrikeBackSingle)\n",
    "          .framework('torch')\n",
    "          .training(gamma=0.9)\n",
    "          .rollouts(num_rollout_workers=3)\n",
    ")\n",
    "\n",
    "stop = {\"timesteps_total\": 12000}\n",
    "\n",
    "tuner = tune.Tuner(\n",
    "    \"PPO\",\n",
    "    param_space=config.to_dict(),\n",
    "    run_config=air.RunConfig(stop=stop),\n",
    ")\n",
    "\n",
    "tuner.fit()"
   ]
  },
  {
   "cell_type": "markdown",
   "id": "d8d321ff-ac2c-4690-98d3-098bc6810f1b",
   "metadata": {},
   "source": [
    "# Empty Customized Environment"
   ]
  },
  {
   "cell_type": "code",
   "execution_count": 11,
   "id": "66a9419a-f667-4a75-906e-d6e119c2e2df",
   "metadata": {},
   "outputs": [],
   "source": [
    "import csbsingleenv\n",
    "\n",
    "import sys\n",
    "# Assuming your Python file is in 'src' under 'my_project' directory\n",
    "sys.path.append('../..')\n",
    "import env_customizer"
   ]
  },
  {
   "cell_type": "code",
   "execution_count": 12,
   "id": "46e0bd4a-ea4e-44d9-a4d6-28dd39bc6d6b",
   "metadata": {},
   "outputs": [],
   "source": [
    "import ray\n",
    "from ray import tune, air\n",
    "from ray.rllib.algorithms.ppo import PPOConfig\n",
    "from functools import partial"
   ]
  },
  {
   "cell_type": "code",
   "execution_count": 13,
   "id": "5cb0b676-9a43-4930-9c08-23d0b80f0816",
   "metadata": {},
   "outputs": [
    {
     "name": "stderr",
     "output_type": "stream",
     "text": [
      "2024-05-06 16:17:07,467\tINFO worker.py:1749 -- Started a local Ray instance.\n",
      "2024-05-06 16:17:07,546\tINFO packaging.py:530 -- Creating a file package for local directory '../..'.\n",
      "2024-05-06 16:17:07,615\tINFO packaging.py:358 -- Pushing file package 'gcs://_ray_pkg_076655efa3af12e2.zip' (9.23MiB) to Ray cluster...\n",
      "2024-05-06 16:17:07,659\tINFO packaging.py:371 -- Successfully pushed file package 'gcs://_ray_pkg_076655efa3af12e2.zip'.\n"
     ]
    },
    {
     "data": {
      "application/vnd.jupyter.widget-view+json": {
       "model_id": "3f52913986f14ff09af2b0fcda19db00",
       "version_major": 2,
       "version_minor": 0
      },
      "text/html": [
       "<div class=\"lm-Widget p-Widget lm-Panel p-Panel jp-Cell-outputWrapper\">\n",
       "    <div style=\"margin-left: 50px;display: flex;flex-direction: row;align-items: center\">\n",
       "        <div class=\"jp-RenderedHTMLCommon\" style=\"display: flex; flex-direction: row;\">\n",
       "  <svg viewBox=\"0 0 567 224\" fill=\"none\" xmlns=\"http://www.w3.org/2000/svg\" style=\"height: 3em;\">\n",
       "    <g clip-path=\"url(#clip0_4338_178347)\">\n",
       "        <path d=\"M341.29 165.561H355.29L330.13 129.051C345.63 123.991 354.21 112.051 354.21 94.2307C354.21 71.3707 338.72 58.1807 311.88 58.1807H271V165.561H283.27V131.661H311.8C314.25 131.661 316.71 131.501 319.01 131.351L341.25 165.561H341.29ZM283.29 119.851V70.0007H311.82C331.3 70.0007 342.34 78.2907 342.34 94.5507C342.34 111.271 331.34 119.861 311.82 119.861L283.29 119.851ZM451.4 138.411L463.4 165.561H476.74L428.74 58.1807H416L367.83 165.561H380.83L392.83 138.411H451.4ZM446.19 126.601H398L422 72.1407L446.24 126.601H446.19ZM526.11 128.741L566.91 58.1807H554.35L519.99 114.181L485.17 58.1807H472.44L514.01 129.181V165.541H526.13V128.741H526.11Z\" fill=\"var(--jp-ui-font-color0)\"/>\n",
       "        <path d=\"M82.35 104.44C84.0187 97.8827 87.8248 92.0678 93.1671 87.9146C98.5094 83.7614 105.083 81.5067 111.85 81.5067C118.617 81.5067 125.191 83.7614 130.533 87.9146C135.875 92.0678 139.681 97.8827 141.35 104.44H163.75C164.476 101.562 165.622 98.8057 167.15 96.2605L127.45 56.5605C121.071 60.3522 113.526 61.6823 106.235 60.3005C98.9443 58.9187 92.4094 54.9203 87.8602 49.0574C83.3109 43.1946 81.0609 35.8714 81.5332 28.4656C82.0056 21.0599 85.1679 14.0819 90.4252 8.8446C95.6824 3.60726 102.672 0.471508 110.08 0.0272655C117.487 -0.416977 124.802 1.86091 130.647 6.4324C136.493 11.0039 140.467 17.5539 141.821 24.8501C143.175 32.1463 141.816 39.6859 138 46.0505L177.69 85.7505C182.31 82.9877 187.58 81.4995 192.962 81.4375C198.345 81.3755 203.648 82.742 208.33 85.3976C213.012 88.0532 216.907 91.9029 219.616 96.5544C222.326 101.206 223.753 106.492 223.753 111.875C223.753 117.258 222.326 122.545 219.616 127.197C216.907 131.848 213.012 135.698 208.33 138.353C203.648 141.009 198.345 142.375 192.962 142.313C187.58 142.251 182.31 140.763 177.69 138L138 177.7C141.808 184.071 143.155 191.614 141.79 198.91C140.424 206.205 136.44 212.75 130.585 217.313C124.731 221.875 117.412 224.141 110.004 223.683C102.596 223.226 95.6103 220.077 90.3621 214.828C85.1139 209.58 81.9647 202.595 81.5072 195.187C81.0497 187.779 83.3154 180.459 87.878 174.605C92.4405 168.751 98.9853 164.766 106.281 163.401C113.576 162.035 121.119 163.383 127.49 167.19L167.19 127.49C165.664 124.941 164.518 122.182 163.79 119.3H141.39C139.721 125.858 135.915 131.673 130.573 135.826C125.231 139.98 118.657 142.234 111.89 142.234C105.123 142.234 98.5494 139.98 93.2071 135.826C87.8648 131.673 84.0587 125.858 82.39 119.3H60C58.1878 126.495 53.8086 132.78 47.6863 136.971C41.5641 141.163 34.1211 142.972 26.7579 142.059C19.3947 141.146 12.6191 137.574 7.70605 132.014C2.79302 126.454 0.0813599 119.29 0.0813599 111.87C0.0813599 104.451 2.79302 97.2871 7.70605 91.7272C12.6191 86.1673 19.3947 82.5947 26.7579 81.6817C34.1211 80.7686 41.5641 82.5781 47.6863 86.7696C53.8086 90.9611 58.1878 97.2456 60 104.44H82.35ZM100.86 204.32C103.407 206.868 106.759 208.453 110.345 208.806C113.93 209.159 117.527 208.258 120.522 206.256C123.517 204.254 125.725 201.276 126.771 197.828C127.816 194.38 127.633 190.677 126.253 187.349C124.874 184.021 122.383 181.274 119.205 179.577C116.027 177.88 112.359 177.337 108.826 178.042C105.293 178.746 102.113 180.654 99.8291 183.44C97.5451 186.226 96.2979 189.718 96.3 193.32C96.2985 195.364 96.7006 197.388 97.4831 199.275C98.2656 201.163 99.4132 202.877 100.86 204.32ZM204.32 122.88C206.868 120.333 208.453 116.981 208.806 113.396C209.159 109.811 208.258 106.214 206.256 103.219C204.254 100.223 201.275 98.0151 197.827 96.97C194.38 95.9249 190.676 96.1077 187.348 97.4873C184.02 98.8669 181.274 101.358 179.577 104.536C177.879 107.714 177.337 111.382 178.041 114.915C178.746 118.448 180.653 121.627 183.439 123.911C186.226 126.195 189.717 127.443 193.32 127.44C195.364 127.443 197.388 127.042 199.275 126.259C201.163 125.476 202.878 124.328 204.32 122.88ZM122.88 19.4205C120.333 16.8729 116.981 15.2876 113.395 14.9347C109.81 14.5817 106.213 15.483 103.218 17.4849C100.223 19.4868 98.0146 22.4654 96.9696 25.9131C95.9245 29.3608 96.1073 33.0642 97.4869 36.3922C98.8665 39.7202 101.358 42.4668 104.535 44.1639C107.713 45.861 111.381 46.4036 114.914 45.6992C118.447 44.9949 121.627 43.0871 123.911 40.301C126.195 37.515 127.442 34.0231 127.44 30.4205C127.44 28.3772 127.038 26.3539 126.255 24.4664C125.473 22.5788 124.326 20.8642 122.88 19.4205ZM19.42 100.86C16.8725 103.408 15.2872 106.76 14.9342 110.345C14.5813 113.93 15.4826 117.527 17.4844 120.522C19.4863 123.518 22.4649 125.726 25.9127 126.771C29.3604 127.816 33.0638 127.633 36.3918 126.254C39.7198 124.874 42.4664 122.383 44.1635 119.205C45.8606 116.027 46.4032 112.359 45.6988 108.826C44.9944 105.293 43.0866 102.114 40.3006 99.8296C37.5145 97.5455 34.0227 96.2983 30.42 96.3005C26.2938 96.3018 22.337 97.9421 19.42 100.86ZM100.86 100.86C98.3125 103.408 96.7272 106.76 96.3742 110.345C96.0213 113.93 96.9226 117.527 98.9244 120.522C100.926 123.518 103.905 125.726 107.353 126.771C110.8 127.816 114.504 127.633 117.832 126.254C121.16 124.874 123.906 122.383 125.604 119.205C127.301 116.027 127.843 112.359 127.139 108.826C126.434 105.293 124.527 102.114 121.741 99.8296C118.955 97.5455 115.463 96.2983 111.86 96.3005C109.817 96.299 107.793 96.701 105.905 97.4835C104.018 98.2661 102.303 99.4136 100.86 100.86Z\" fill=\"#00AEEF\"/>\n",
       "    </g>\n",
       "    <defs>\n",
       "        <clipPath id=\"clip0_4338_178347\">\n",
       "            <rect width=\"566.93\" height=\"223.75\" fill=\"white\"/>\n",
       "        </clipPath>\n",
       "    </defs>\n",
       "  </svg>\n",
       "</div>\n",
       "\n",
       "        <table class=\"jp-RenderedHTMLCommon\" style=\"border-collapse: collapse;color: var(--jp-ui-font-color1);font-size: var(--jp-ui-font-size1);\">\n",
       "    <tr>\n",
       "        <td style=\"text-align: left\"><b>Python version:</b></td>\n",
       "        <td style=\"text-align: left\"><b>3.10.12</b></td>\n",
       "    </tr>\n",
       "    <tr>\n",
       "        <td style=\"text-align: left\"><b>Ray version:</b></td>\n",
       "        <td style=\"text-align: left\"><b>2.20.0</b></td>\n",
       "    </tr>\n",
       "    \n",
       "</table>\n",
       "\n",
       "    </div>\n",
       "</div>\n"
      ],
      "text/plain": [
       "RayContext(dashboard_url='', python_version='3.10.12', ray_version='2.20.0', ray_commit='5708e75978413e46c703e44f43fd89769f3c148b')"
      ]
     },
     "execution_count": 13,
     "metadata": {},
     "output_type": "execute_result"
    }
   ],
   "source": [
    "if ray.is_initialized():\n",
    "  ray.shutdown()\n",
    "\n",
    "runtime_env = {\"py_modules\": [\"../..\"]}\n",
    "ray.init(num_cpus=4, runtime_env=runtime_env)"
   ]
  },
  {
   "cell_type": "code",
   "execution_count": 14,
   "id": "c1ecaa6d-682a-4e5b-bf00-07f2245caf79",
   "metadata": {
    "tags": []
   },
   "outputs": [
    {
     "data": {
      "text/html": [
       "<div class=\"tuneStatus\">\n",
       "  <div style=\"display: flex;flex-direction: row\">\n",
       "    <div style=\"display: flex;flex-direction: column;\">\n",
       "      <h3>Tune Status</h3>\n",
       "      <table>\n",
       "<tbody>\n",
       "<tr><td>Current time:</td><td>2024-05-06 16:17:34</td></tr>\n",
       "<tr><td>Running for: </td><td>00:00:26.19        </td></tr>\n",
       "<tr><td>Memory:      </td><td>16.1/125.5 GiB     </td></tr>\n",
       "</tbody>\n",
       "</table>\n",
       "    </div>\n",
       "    <div class=\"vDivider\"></div>\n",
       "    <div class=\"systemInfo\">\n",
       "      <h3>System Info</h3>\n",
       "      Using FIFO scheduling algorithm.<br>Logical resource usage: 4.0/4 CPUs, 0/4 GPUs (0.0/1.0 accelerator_type:G)\n",
       "    </div>\n",
       "    \n",
       "  </div>\n",
       "  <div class=\"hDivider\"></div>\n",
       "  <div class=\"trialStatus\">\n",
       "    <h3>Trial Status</h3>\n",
       "    <table>\n",
       "<thead>\n",
       "<tr><th>Trial name                           </th><th>status    </th><th>loc                    </th><th style=\"text-align: right;\">  iter</th><th style=\"text-align: right;\">  total time (s)</th><th style=\"text-align: right;\">   ts</th><th style=\"text-align: right;\">  reward</th><th style=\"text-align: right;\">  episode_reward_max</th><th style=\"text-align: right;\">  episode_reward_min</th><th style=\"text-align: right;\">  episode_len_mean</th></tr>\n",
       "</thead>\n",
       "<tbody>\n",
       "<tr><td>PPO_CustomizedEnvironment_c24a0_00000</td><td>TERMINATED</td><td>206.211.132.160:2766424</td><td style=\"text-align: right;\">     3</td><td style=\"text-align: right;\">         19.3051</td><td style=\"text-align: right;\">12000</td><td style=\"text-align: right;\">-10105.9</td><td style=\"text-align: right;\">              -10100</td><td style=\"text-align: right;\">              -10206</td><td style=\"text-align: right;\">             105.9</td></tr>\n",
       "</tbody>\n",
       "</table>\n",
       "  </div>\n",
       "</div>\n",
       "<style>\n",
       ".tuneStatus {\n",
       "  color: var(--jp-ui-font-color1);\n",
       "}\n",
       ".tuneStatus .systemInfo {\n",
       "  display: flex;\n",
       "  flex-direction: column;\n",
       "}\n",
       ".tuneStatus td {\n",
       "  white-space: nowrap;\n",
       "}\n",
       ".tuneStatus .trialStatus {\n",
       "  display: flex;\n",
       "  flex-direction: column;\n",
       "}\n",
       ".tuneStatus h3 {\n",
       "  font-weight: bold;\n",
       "}\n",
       ".tuneStatus .hDivider {\n",
       "  border-bottom-width: var(--jp-border-width);\n",
       "  border-bottom-color: var(--jp-border-color0);\n",
       "  border-bottom-style: solid;\n",
       "}\n",
       ".tuneStatus .vDivider {\n",
       "  border-left-width: var(--jp-border-width);\n",
       "  border-left-color: var(--jp-border-color0);\n",
       "  border-left-style: solid;\n",
       "  margin: 0.5em 1em 0.5em 1em;\n",
       "}\n",
       "</style>\n"
      ],
      "text/plain": [
       "<IPython.core.display.HTML object>"
      ]
     },
     "metadata": {},
     "output_type": "display_data"
    },
    {
     "name": "stderr",
     "output_type": "stream",
     "text": [
      "\u001b[36m(PPO pid=2766424)\u001b[0m 2024-05-06 16:17:11,853\tWARNING deprecation.py:50 -- DeprecationWarning: `max_num_worker_restarts` has been deprecated. Use `AlgorithmConfig.max_num_env_runner_restarts` instead. This will raise an error in the future!\n",
      "\u001b[36m(PPO pid=2766424)\u001b[0m 2024-05-06 16:17:14,626\tWARNING deprecation.py:50 -- DeprecationWarning: `num_envs_per_worker` has been deprecated. Use `AlgorithmConfig.num_envs_per_env_runner` instead. This will raise an error in the future!\n",
      "\u001b[36m(PPO pid=2766424)\u001b[0m 2024-05-06 16:17:16,518\tWARNING deprecation.py:50 -- DeprecationWarning: `ray.rllib.execution.train_ops.multi_gpu_train_one_step` has been deprecated. This will raise an error in the future!\n",
      "2024-05-06 16:17:34,307\tINFO tune.py:1007 -- Wrote the latest version of all result files and experiment state to '/home/healthcare/ray_results/PPO_2024-05-06_16-17-08' in 0.0376s.\n",
      "\u001b[36m(PPO pid=2766424)\u001b[0m Checkpoint successfully created at: Checkpoint(filesystem=local, path=/home/healthcare/ray_results/PPO_2024-05-06_16-17-08/PPO_CustomizedEnvironment_c24a0_00000_0_2024-05-06_16-17-08/checkpoint_000000)\n",
      "\u001b[36m(RolloutWorker pid=2766517)\u001b[0m 2024-05-06 16:17:14,589\tWARNING deprecation.py:50 -- DeprecationWarning: `num_envs_per_worker` has been deprecated. Use `AlgorithmConfig.num_envs_per_env_runner` instead. This will raise an error in the future!\n",
      "2024-05-06 16:17:34,413\tINFO tune.py:1039 -- Total run time: 26.32 seconds (26.16 seconds for the tuning loop).\n"
     ]
    },
    {
     "data": {
      "text/plain": [
       "ResultGrid<[\n",
       "  Result(\n",
       "    metrics={'custom_metrics': {}, 'episode_media': {}, 'info': {'learner': {'default_policy': {'learner_stats': {'allreduce_latency': 0.0, 'grad_gnorm': 4.622612444303369, 'cur_kl_coeff': 0.20000000000000004, 'cur_lr': 5.0000000000000016e-05, 'total_loss': 7.1091064996616815, 'policy_loss': -0.038836950011631496, 'vf_loss': 7.144342686027609, 'vf_explained_var': -6.009820968874039e-05, 'kl': 0.01800365592763421, 'entropy': 4.373368304519243, 'entropy_coeff': 0.0}, 'model': {}, 'custom_metrics': {}, 'num_agent_steps_trained': 128.0, 'num_grad_updates_lifetime': 2325.5, 'diff_num_grad_updates_vs_sampler_policy': 464.5}}, 'num_env_steps_sampled': 12000, 'num_env_steps_trained': 12000, 'num_agent_steps_sampled': 12000, 'num_agent_steps_trained': 12000}, 'sampler_results': {'episode_reward_max': -10100.0, 'episode_reward_min': -10206.0, 'episode_reward_mean': -10105.9, 'episode_len_mean': 105.9, 'episode_media': {}, 'episodes_this_iter': 37, 'episodes_timesteps_total': 10590, 'policy_reward_min': {}, 'policy_reward_max': {}, 'policy_reward_mean': {}, 'custom_metrics': {}, 'hist_stats': {'episode_reward': [-10100.0, -10116.0, -10100.0, -10100.0, -10114.0, -10100.0, -10100.0, -10100.0, -10100.0, -10100.0, -10100.0, -10100.0, -10100.0, -10100.0, -10100.0, -10116.0, -10113.0, -10100.0, -10117.0, -10100.0, -10100.0, -10100.0, -10100.0, -10100.0, -10100.0, -10100.0, -10100.0, -10162.0, -10124.0, -10100.0, -10172.0, -10100.0, -10100.0, -10100.0, -10100.0, -10100.0, -10100.0, -10100.0, -10100.0, -10100.0, -10100.0, -10100.0, -10118.0, -10100.0, -10100.0, -10100.0, -10100.0, -10100.0, -10100.0, -10100.0, -10100.0, -10100.0, -10100.0, -10100.0, -10100.0, -10100.0, -10100.0, -10100.0, -10100.0, -10100.0, -10100.0, -10100.0, -10100.0, -10100.0, -10126.0, -10100.0, -10133.0, -10100.0, -10100.0, -10100.0, -10100.0, -10100.0, -10100.0, -10100.0, -10100.0, -10100.0, -10100.0, -10100.0, -10100.0, -10100.0, -10100.0, -10114.0, -10100.0, -10100.0, -10114.0, -10158.0, -10141.0, -10100.0, -10206.0, -10100.0, -10100.0, -10100.0, -10100.0, -10108.0, -10111.0, -10100.0, -10100.0, -10127.0, -10100.0, -10100.0], 'episode_lengths': [100, 116, 100, 100, 114, 100, 100, 100, 100, 100, 100, 100, 100, 100, 100, 116, 113, 100, 117, 100, 100, 100, 100, 100, 100, 100, 100, 162, 124, 100, 172, 100, 100, 100, 100, 100, 100, 100, 100, 100, 100, 100, 118, 100, 100, 100, 100, 100, 100, 100, 100, 100, 100, 100, 100, 100, 100, 100, 100, 100, 100, 100, 100, 100, 126, 100, 133, 100, 100, 100, 100, 100, 100, 100, 100, 100, 100, 100, 100, 100, 100, 114, 100, 100, 114, 158, 141, 100, 206, 100, 100, 100, 100, 108, 111, 100, 100, 127, 100, 100]}, 'sampler_perf': {'mean_raw_obs_processing_ms': 0.23159693559794722, 'mean_inference_ms': 0.783525224623263, 'mean_action_processing_ms': 0.15338307733530826, 'mean_env_wait_ms': 0.0935157606784124, 'mean_env_render_ms': 0.0}, 'num_faulty_episodes': 0, 'connector_metrics': {'ObsPreprocessorConnector_ms': 0.00460362434387207, 'StateBufferConnector_ms': 0.003583192825317383, 'ViewRequirementAgentConnector_ms': 0.08855199813842773}, 'num_episodes': 37, 'episode_return_max': -10100.0, 'episode_return_min': -10206.0, 'episode_return_mean': -10105.9}, 'env_runner_results': {'episode_reward_max': -10100.0, 'episode_reward_min': -10206.0, 'episode_reward_mean': -10105.9, 'episode_len_mean': 105.9, 'episode_media': {}, 'episodes_this_iter': 37, 'episodes_timesteps_total': 10590, 'policy_reward_min': {}, 'policy_reward_max': {}, 'policy_reward_mean': {}, 'custom_metrics': {}, 'hist_stats': {'episode_reward': [-10100.0, -10116.0, -10100.0, -10100.0, -10114.0, -10100.0, -10100.0, -10100.0, -10100.0, -10100.0, -10100.0, -10100.0, -10100.0, -10100.0, -10100.0, -10116.0, -10113.0, -10100.0, -10117.0, -10100.0, -10100.0, -10100.0, -10100.0, -10100.0, -10100.0, -10100.0, -10100.0, -10162.0, -10124.0, -10100.0, -10172.0, -10100.0, -10100.0, -10100.0, -10100.0, -10100.0, -10100.0, -10100.0, -10100.0, -10100.0, -10100.0, -10100.0, -10118.0, -10100.0, -10100.0, -10100.0, -10100.0, -10100.0, -10100.0, -10100.0, -10100.0, -10100.0, -10100.0, -10100.0, -10100.0, -10100.0, -10100.0, -10100.0, -10100.0, -10100.0, -10100.0, -10100.0, -10100.0, -10100.0, -10126.0, -10100.0, -10133.0, -10100.0, -10100.0, -10100.0, -10100.0, -10100.0, -10100.0, -10100.0, -10100.0, -10100.0, -10100.0, -10100.0, -10100.0, -10100.0, -10100.0, -10114.0, -10100.0, -10100.0, -10114.0, -10158.0, -10141.0, -10100.0, -10206.0, -10100.0, -10100.0, -10100.0, -10100.0, -10108.0, -10111.0, -10100.0, -10100.0, -10127.0, -10100.0, -10100.0], 'episode_lengths': [100, 116, 100, 100, 114, 100, 100, 100, 100, 100, 100, 100, 100, 100, 100, 116, 113, 100, 117, 100, 100, 100, 100, 100, 100, 100, 100, 162, 124, 100, 172, 100, 100, 100, 100, 100, 100, 100, 100, 100, 100, 100, 118, 100, 100, 100, 100, 100, 100, 100, 100, 100, 100, 100, 100, 100, 100, 100, 100, 100, 100, 100, 100, 100, 126, 100, 133, 100, 100, 100, 100, 100, 100, 100, 100, 100, 100, 100, 100, 100, 100, 114, 100, 100, 114, 158, 141, 100, 206, 100, 100, 100, 100, 108, 111, 100, 100, 127, 100, 100]}, 'sampler_perf': {'mean_raw_obs_processing_ms': 0.23159693559794722, 'mean_inference_ms': 0.783525224623263, 'mean_action_processing_ms': 0.15338307733530826, 'mean_env_wait_ms': 0.0935157606784124, 'mean_env_render_ms': 0.0}, 'num_faulty_episodes': 0, 'connector_metrics': {'ObsPreprocessorConnector_ms': 0.00460362434387207, 'StateBufferConnector_ms': 0.003583192825317383, 'ViewRequirementAgentConnector_ms': 0.08855199813842773}, 'num_episodes': 37, 'episode_return_max': -10100.0, 'episode_return_min': -10206.0, 'episode_return_mean': -10105.9}, 'episode_reward_max': -10100.0, 'episode_reward_min': -10206.0, 'episode_reward_mean': -10105.9, 'episode_len_mean': 105.9, 'episodes_this_iter': 37, 'episodes_timesteps_total': 10590, 'policy_reward_min': {}, 'policy_reward_max': {}, 'policy_reward_mean': {}, 'hist_stats': {'episode_reward': [-10100.0, -10116.0, -10100.0, -10100.0, -10114.0, -10100.0, -10100.0, -10100.0, -10100.0, -10100.0, -10100.0, -10100.0, -10100.0, -10100.0, -10100.0, -10116.0, -10113.0, -10100.0, -10117.0, -10100.0, -10100.0, -10100.0, -10100.0, -10100.0, -10100.0, -10100.0, -10100.0, -10162.0, -10124.0, -10100.0, -10172.0, -10100.0, -10100.0, -10100.0, -10100.0, -10100.0, -10100.0, -10100.0, -10100.0, -10100.0, -10100.0, -10100.0, -10118.0, -10100.0, -10100.0, -10100.0, -10100.0, -10100.0, -10100.0, -10100.0, -10100.0, -10100.0, -10100.0, -10100.0, -10100.0, -10100.0, -10100.0, -10100.0, -10100.0, -10100.0, -10100.0, -10100.0, -10100.0, -10100.0, -10126.0, -10100.0, -10133.0, -10100.0, -10100.0, -10100.0, -10100.0, -10100.0, -10100.0, -10100.0, -10100.0, -10100.0, -10100.0, -10100.0, -10100.0, -10100.0, -10100.0, -10114.0, -10100.0, -10100.0, -10114.0, -10158.0, -10141.0, -10100.0, -10206.0, -10100.0, -10100.0, -10100.0, -10100.0, -10108.0, -10111.0, -10100.0, -10100.0, -10127.0, -10100.0, -10100.0], 'episode_lengths': [100, 116, 100, 100, 114, 100, 100, 100, 100, 100, 100, 100, 100, 100, 100, 116, 113, 100, 117, 100, 100, 100, 100, 100, 100, 100, 100, 162, 124, 100, 172, 100, 100, 100, 100, 100, 100, 100, 100, 100, 100, 100, 118, 100, 100, 100, 100, 100, 100, 100, 100, 100, 100, 100, 100, 100, 100, 100, 100, 100, 100, 100, 100, 100, 126, 100, 133, 100, 100, 100, 100, 100, 100, 100, 100, 100, 100, 100, 100, 100, 100, 114, 100, 100, 114, 158, 141, 100, 206, 100, 100, 100, 100, 108, 111, 100, 100, 127, 100, 100]}, 'sampler_perf': {'mean_raw_obs_processing_ms': 0.23159693559794722, 'mean_inference_ms': 0.783525224623263, 'mean_action_processing_ms': 0.15338307733530826, 'mean_env_wait_ms': 0.0935157606784124, 'mean_env_render_ms': 0.0}, 'num_faulty_episodes': 0, 'connector_metrics': {'ObsPreprocessorConnector_ms': 0.00460362434387207, 'StateBufferConnector_ms': 0.003583192825317383, 'ViewRequirementAgentConnector_ms': 0.08855199813842773}, 'num_episodes': 37, 'episode_return_max': -10100.0, 'episode_return_min': -10206.0, 'episode_return_mean': -10105.9, 'num_healthy_workers': 3, 'num_in_flight_async_reqs': 0, 'num_remote_worker_restarts': 0, 'num_agent_steps_sampled': 12000, 'num_agent_steps_trained': 12000, 'num_env_steps_sampled': 12000, 'num_env_steps_trained': 12000, 'num_env_steps_sampled_this_iter': 4000, 'num_env_steps_trained_this_iter': 4000, 'num_env_steps_sampled_throughput_per_sec': 633.1208391246961, 'num_env_steps_trained_throughput_per_sec': 633.1208391246961, 'num_env_steps_sampled_lifetime': 12000, 'num_agent_steps_sampled_lifetime': 12000, 'num_steps_trained_this_iter': 4000, 'agent_timesteps_total': 12000, 'timers': {'training_iteration_time_ms': 6428.285, 'restore_workers_time_ms': 0.028, 'training_step_time_ms': 6428.208, 'sample_time_ms': 1722.002, 'load_time_ms': 0.853, 'load_throughput': 4691177.929, 'learn_time_ms': 4698.882, 'learn_throughput': 851.266, 'synch_weights_time_ms': 5.755}, 'counters': {'num_env_steps_sampled': 12000, 'num_env_steps_trained': 12000, 'num_agent_steps_sampled': 12000, 'num_agent_steps_trained': 12000}, 'perf': {'cpu_util_percent': 13.600000000000001, 'ram_util_percent': 12.8, 'gpu_util_percent0': 0.0, 'vram_util_percent0': 0.0017755681818181818, 'gpu_util_percent1': 0.0, 'vram_util_percent1': 0.0017755681818181818, 'gpu_util_percent2': 0.0, 'vram_util_percent2': 0.0017755681818181818, 'gpu_util_percent3': 0.29625, 'vram_util_percent3': 0.06104625355113637}},\n",
       "    path='/home/healthcare/ray_results/PPO_2024-05-06_16-17-08/PPO_CustomizedEnvironment_c24a0_00000_0_2024-05-06_16-17-08',\n",
       "    filesystem='local',\n",
       "    checkpoint=Checkpoint(filesystem=local, path=/home/healthcare/ray_results/PPO_2024-05-06_16-17-08/PPO_CustomizedEnvironment_c24a0_00000_0_2024-05-06_16-17-08/checkpoint_000000)\n",
       "  )\n",
       "]>"
      ]
     },
     "execution_count": 14,
     "metadata": {},
     "output_type": "execute_result"
    }
   ],
   "source": [
    "config = (PPOConfig()\n",
    "          .environment(env_customizer.CustomizedEnvironment,\n",
    "                      env_config={\"env\" : csbsingleenv.CodersStrikeBackSingle()})\n",
    "          .framework('torch')\n",
    "          .training(gamma=0.9)\n",
    "          .rollouts(num_rollout_workers=3)\n",
    ")\n",
    "\n",
    "stop = {\"timesteps_total\": 12000}\n",
    "\n",
    "tuner = tune.Tuner(\n",
    "    \"PPO\",\n",
    "    param_space=config.to_dict(),\n",
    "    run_config=air.RunConfig(stop=stop),\n",
    ")\n",
    "\n",
    "tuner.fit()"
   ]
  },
  {
   "cell_type": "markdown",
   "id": "0a062a02-68b7-40ca-85d5-dee38f075470",
   "metadata": {},
   "source": [
    "# Real Customized Environment"
   ]
  },
  {
   "cell_type": "code",
   "execution_count": 15,
   "id": "8b33aca4-6bca-40cc-99bd-a63b0db97d86",
   "metadata": {},
   "outputs": [],
   "source": [
    "import csbsingleenv\n",
    "\n",
    "import sys\n",
    "# Assuming your Python file is in 'src' under 'my_project' directory\n",
    "sys.path.append('../..')\n",
    "import env_customizer"
   ]
  },
  {
   "cell_type": "code",
   "execution_count": 26,
   "id": "168b03ab-7162-4ce7-b261-55e2835a138d",
   "metadata": {},
   "outputs": [],
   "source": [
    "import numpy as np\n",
    "import gymnasium as gym\n",
    "from gymnasium import spaces, logger\n",
    "\n",
    "# Note, this is only meant as an example of how to write a custom environment.\n",
    "# I doubt it'll actually learn well.\n",
    "class CustomizedRacing:\n",
    "    def __init__(self):\n",
    "        min_pos = -200000.0\n",
    "        max_pos = 200000.0\n",
    "        min_vel = -2000.0\n",
    "        max_vel = 2000.0\n",
    "        screen_max = [16000,9000]\n",
    "        # This observation space will only have the next checkpoint rather than the next 5.\n",
    "        self.observation_space = spaces.Box(\n",
    "            low=np.array([0, -np.pi, min_pos, min_pos, min_vel, min_vel]+[0,0]),\n",
    "            high=np.array([3, np.pi, max_pos, max_pos, max_vel, max_vel]+screen_max),\n",
    "            dtype=np.float64\n",
    "        )\n",
    "\n",
    "        # This action will be how much to turn, rather than a point to turn towards.\n",
    "        self.action_space = spaces.Box(\n",
    "            low = np.array([-1.0, 0.0]),\n",
    "            high = np.array([1.0, 100]),\n",
    "            dtype=np.float64\n",
    "        )\n",
    "\n",
    "    # We can define and reset any extra variables we want to keep track of here.\n",
    "    def reset(self):\n",
    "        self.last_checkpoint = None\n",
    "        self.last_sqr_dist = None\n",
    "\n",
    "    def reward(self, env, rew):\n",
    "        # Add reward for getting closer to the next checkpoint\n",
    "        cur_dist = csbsingleenv.get_sqr_distance(env.pos, env.next_checkpoint())\n",
    "        if self.last_sqr_dist is not None and cur_dist < self.last_sqr_dist:\n",
    "            rew += 2\n",
    "        self.last_sqr_dist = cur_dist\n",
    "        \n",
    "        # Add reward for passing a checkpoint\n",
    "        cur_checkpoint = env.checkpoint_index\n",
    "        if self.last_checkpoint is not None and cur_checkpoint != self.last_checkpoint:\n",
    "            rew += 150\n",
    "        self.last_checkpoint = cur_checkpoint\n",
    "        \n",
    "        if env.failed:\n",
    "            return 0\n",
    "        return rew\n",
    "    \n",
    "    # Need to define the traformation.  Should be easy here since we just need to drop the excess data\n",
    "    def transform_observation(self, env, obs):\n",
    "        return obs[:8]\n",
    "\n",
    "    # Need to also transform the angle change into a point to aim at.\n",
    "    # Will define it as 1000 distance from the angle relative to current pointed direction\n",
    "    def transform_action(self, env, action):\n",
    "        preferred_dir = env.theta + action[0]*env.maxSteeringAngle\n",
    "        dir_vector = 1000*csbsingleenv.angle_to_vector(preferred_dir)\n",
    "        point_to_aim_at = env.pos + dir_vector\n",
    "        trans_action = np.array([point_to_aim_at.x, point_to_aim_at.y, action[1]])\n",
    "        return trans_action"
   ]
  },
  {
   "cell_type": "code",
   "execution_count": 17,
   "id": "98cfd3a2-3670-470b-9210-184d44ff9756",
   "metadata": {},
   "outputs": [],
   "source": [
    "env = env_customizer.CustomizedEnvironment(\n",
    "    env_config={\"env\":csbsingleenv.CodersStrikeBackSingle(),\n",
    "                \"customizer\":CustomizedRacing()})"
   ]
  },
  {
   "cell_type": "code",
   "execution_count": 18,
   "id": "1d07f197-e33f-47d4-a765-c3f6de582f3e",
   "metadata": {},
   "outputs": [
    {
     "data": {
      "text/plain": [
       "(array([3.00000000e+00, 3.06283315e+00, 5.78800000e+03, 8.16600000e+03,\n",
       "        0.00000000e+00, 0.00000000e+00, 4.41000000e+02, 8.58800000e+03]),\n",
       " {})"
      ]
     },
     "execution_count": 18,
     "metadata": {},
     "output_type": "execute_result"
    }
   ],
   "source": [
    "env.reset()"
   ]
  },
  {
   "cell_type": "code",
   "execution_count": 19,
   "id": "f641abf0-0974-4c59-bef0-c1127f3f1832",
   "metadata": {},
   "outputs": [
    {
     "data": {
      "text/plain": [
       "(array([ 3.00000000e+00,  3.06283315e+00,  5.68800000e+03,  8.17400000e+03,\n",
       "        -8.41500000e+01,  5.95000000e+00,  4.41000000e+02,  8.58800000e+03]),\n",
       " -1,\n",
       " False,\n",
       " False,\n",
       " {})"
      ]
     },
     "execution_count": 19,
     "metadata": {},
     "output_type": "execute_result"
    }
   ],
   "source": [
    "env.step(np.array([0,100]))"
   ]
  },
  {
   "cell_type": "code",
   "execution_count": 20,
   "id": "96fe4a91-3b69-46b6-96f7-f6b174ba8fda",
   "metadata": {},
   "outputs": [],
   "source": [
    "import ray\n",
    "from ray import tune, air\n",
    "from ray.rllib.algorithms.ppo import PPOConfig\n",
    "from functools import partial"
   ]
  },
  {
   "cell_type": "code",
   "execution_count": 21,
   "id": "aa007005-61ef-46d4-9db3-8af0038fb4d2",
   "metadata": {},
   "outputs": [
    {
     "name": "stderr",
     "output_type": "stream",
     "text": [
      "2024-05-06 16:17:38,827\tINFO worker.py:1749 -- Started a local Ray instance.\n",
      "2024-05-06 16:17:38,896\tINFO packaging.py:530 -- Creating a file package for local directory '../..'.\n",
      "2024-05-06 16:17:38,964\tINFO packaging.py:358 -- Pushing file package 'gcs://_ray_pkg_076655efa3af12e2.zip' (9.23MiB) to Ray cluster...\n",
      "2024-05-06 16:17:39,009\tINFO packaging.py:371 -- Successfully pushed file package 'gcs://_ray_pkg_076655efa3af12e2.zip'.\n"
     ]
    },
    {
     "data": {
      "application/vnd.jupyter.widget-view+json": {
       "model_id": "6a5f0cdc44dd437b85716857f462c3e8",
       "version_major": 2,
       "version_minor": 0
      },
      "text/html": [
       "<div class=\"lm-Widget p-Widget lm-Panel p-Panel jp-Cell-outputWrapper\">\n",
       "    <div style=\"margin-left: 50px;display: flex;flex-direction: row;align-items: center\">\n",
       "        <div class=\"jp-RenderedHTMLCommon\" style=\"display: flex; flex-direction: row;\">\n",
       "  <svg viewBox=\"0 0 567 224\" fill=\"none\" xmlns=\"http://www.w3.org/2000/svg\" style=\"height: 3em;\">\n",
       "    <g clip-path=\"url(#clip0_4338_178347)\">\n",
       "        <path d=\"M341.29 165.561H355.29L330.13 129.051C345.63 123.991 354.21 112.051 354.21 94.2307C354.21 71.3707 338.72 58.1807 311.88 58.1807H271V165.561H283.27V131.661H311.8C314.25 131.661 316.71 131.501 319.01 131.351L341.25 165.561H341.29ZM283.29 119.851V70.0007H311.82C331.3 70.0007 342.34 78.2907 342.34 94.5507C342.34 111.271 331.34 119.861 311.82 119.861L283.29 119.851ZM451.4 138.411L463.4 165.561H476.74L428.74 58.1807H416L367.83 165.561H380.83L392.83 138.411H451.4ZM446.19 126.601H398L422 72.1407L446.24 126.601H446.19ZM526.11 128.741L566.91 58.1807H554.35L519.99 114.181L485.17 58.1807H472.44L514.01 129.181V165.541H526.13V128.741H526.11Z\" fill=\"var(--jp-ui-font-color0)\"/>\n",
       "        <path d=\"M82.35 104.44C84.0187 97.8827 87.8248 92.0678 93.1671 87.9146C98.5094 83.7614 105.083 81.5067 111.85 81.5067C118.617 81.5067 125.191 83.7614 130.533 87.9146C135.875 92.0678 139.681 97.8827 141.35 104.44H163.75C164.476 101.562 165.622 98.8057 167.15 96.2605L127.45 56.5605C121.071 60.3522 113.526 61.6823 106.235 60.3005C98.9443 58.9187 92.4094 54.9203 87.8602 49.0574C83.3109 43.1946 81.0609 35.8714 81.5332 28.4656C82.0056 21.0599 85.1679 14.0819 90.4252 8.8446C95.6824 3.60726 102.672 0.471508 110.08 0.0272655C117.487 -0.416977 124.802 1.86091 130.647 6.4324C136.493 11.0039 140.467 17.5539 141.821 24.8501C143.175 32.1463 141.816 39.6859 138 46.0505L177.69 85.7505C182.31 82.9877 187.58 81.4995 192.962 81.4375C198.345 81.3755 203.648 82.742 208.33 85.3976C213.012 88.0532 216.907 91.9029 219.616 96.5544C222.326 101.206 223.753 106.492 223.753 111.875C223.753 117.258 222.326 122.545 219.616 127.197C216.907 131.848 213.012 135.698 208.33 138.353C203.648 141.009 198.345 142.375 192.962 142.313C187.58 142.251 182.31 140.763 177.69 138L138 177.7C141.808 184.071 143.155 191.614 141.79 198.91C140.424 206.205 136.44 212.75 130.585 217.313C124.731 221.875 117.412 224.141 110.004 223.683C102.596 223.226 95.6103 220.077 90.3621 214.828C85.1139 209.58 81.9647 202.595 81.5072 195.187C81.0497 187.779 83.3154 180.459 87.878 174.605C92.4405 168.751 98.9853 164.766 106.281 163.401C113.576 162.035 121.119 163.383 127.49 167.19L167.19 127.49C165.664 124.941 164.518 122.182 163.79 119.3H141.39C139.721 125.858 135.915 131.673 130.573 135.826C125.231 139.98 118.657 142.234 111.89 142.234C105.123 142.234 98.5494 139.98 93.2071 135.826C87.8648 131.673 84.0587 125.858 82.39 119.3H60C58.1878 126.495 53.8086 132.78 47.6863 136.971C41.5641 141.163 34.1211 142.972 26.7579 142.059C19.3947 141.146 12.6191 137.574 7.70605 132.014C2.79302 126.454 0.0813599 119.29 0.0813599 111.87C0.0813599 104.451 2.79302 97.2871 7.70605 91.7272C12.6191 86.1673 19.3947 82.5947 26.7579 81.6817C34.1211 80.7686 41.5641 82.5781 47.6863 86.7696C53.8086 90.9611 58.1878 97.2456 60 104.44H82.35ZM100.86 204.32C103.407 206.868 106.759 208.453 110.345 208.806C113.93 209.159 117.527 208.258 120.522 206.256C123.517 204.254 125.725 201.276 126.771 197.828C127.816 194.38 127.633 190.677 126.253 187.349C124.874 184.021 122.383 181.274 119.205 179.577C116.027 177.88 112.359 177.337 108.826 178.042C105.293 178.746 102.113 180.654 99.8291 183.44C97.5451 186.226 96.2979 189.718 96.3 193.32C96.2985 195.364 96.7006 197.388 97.4831 199.275C98.2656 201.163 99.4132 202.877 100.86 204.32ZM204.32 122.88C206.868 120.333 208.453 116.981 208.806 113.396C209.159 109.811 208.258 106.214 206.256 103.219C204.254 100.223 201.275 98.0151 197.827 96.97C194.38 95.9249 190.676 96.1077 187.348 97.4873C184.02 98.8669 181.274 101.358 179.577 104.536C177.879 107.714 177.337 111.382 178.041 114.915C178.746 118.448 180.653 121.627 183.439 123.911C186.226 126.195 189.717 127.443 193.32 127.44C195.364 127.443 197.388 127.042 199.275 126.259C201.163 125.476 202.878 124.328 204.32 122.88ZM122.88 19.4205C120.333 16.8729 116.981 15.2876 113.395 14.9347C109.81 14.5817 106.213 15.483 103.218 17.4849C100.223 19.4868 98.0146 22.4654 96.9696 25.9131C95.9245 29.3608 96.1073 33.0642 97.4869 36.3922C98.8665 39.7202 101.358 42.4668 104.535 44.1639C107.713 45.861 111.381 46.4036 114.914 45.6992C118.447 44.9949 121.627 43.0871 123.911 40.301C126.195 37.515 127.442 34.0231 127.44 30.4205C127.44 28.3772 127.038 26.3539 126.255 24.4664C125.473 22.5788 124.326 20.8642 122.88 19.4205ZM19.42 100.86C16.8725 103.408 15.2872 106.76 14.9342 110.345C14.5813 113.93 15.4826 117.527 17.4844 120.522C19.4863 123.518 22.4649 125.726 25.9127 126.771C29.3604 127.816 33.0638 127.633 36.3918 126.254C39.7198 124.874 42.4664 122.383 44.1635 119.205C45.8606 116.027 46.4032 112.359 45.6988 108.826C44.9944 105.293 43.0866 102.114 40.3006 99.8296C37.5145 97.5455 34.0227 96.2983 30.42 96.3005C26.2938 96.3018 22.337 97.9421 19.42 100.86ZM100.86 100.86C98.3125 103.408 96.7272 106.76 96.3742 110.345C96.0213 113.93 96.9226 117.527 98.9244 120.522C100.926 123.518 103.905 125.726 107.353 126.771C110.8 127.816 114.504 127.633 117.832 126.254C121.16 124.874 123.906 122.383 125.604 119.205C127.301 116.027 127.843 112.359 127.139 108.826C126.434 105.293 124.527 102.114 121.741 99.8296C118.955 97.5455 115.463 96.2983 111.86 96.3005C109.817 96.299 107.793 96.701 105.905 97.4835C104.018 98.2661 102.303 99.4136 100.86 100.86Z\" fill=\"#00AEEF\"/>\n",
       "    </g>\n",
       "    <defs>\n",
       "        <clipPath id=\"clip0_4338_178347\">\n",
       "            <rect width=\"566.93\" height=\"223.75\" fill=\"white\"/>\n",
       "        </clipPath>\n",
       "    </defs>\n",
       "  </svg>\n",
       "</div>\n",
       "\n",
       "        <table class=\"jp-RenderedHTMLCommon\" style=\"border-collapse: collapse;color: var(--jp-ui-font-color1);font-size: var(--jp-ui-font-size1);\">\n",
       "    <tr>\n",
       "        <td style=\"text-align: left\"><b>Python version:</b></td>\n",
       "        <td style=\"text-align: left\"><b>3.10.12</b></td>\n",
       "    </tr>\n",
       "    <tr>\n",
       "        <td style=\"text-align: left\"><b>Ray version:</b></td>\n",
       "        <td style=\"text-align: left\"><b>2.20.0</b></td>\n",
       "    </tr>\n",
       "    \n",
       "</table>\n",
       "\n",
       "    </div>\n",
       "</div>\n"
      ],
      "text/plain": [
       "RayContext(dashboard_url='', python_version='3.10.12', ray_version='2.20.0', ray_commit='5708e75978413e46c703e44f43fd89769f3c148b')"
      ]
     },
     "execution_count": 21,
     "metadata": {},
     "output_type": "execute_result"
    }
   ],
   "source": [
    "if ray.is_initialized():\n",
    "  ray.shutdown()\n",
    "\n",
    "runtime_env = {\"py_modules\": [\"../..\"]}\n",
    "ray.init(runtime_env=runtime_env)"
   ]
  },
  {
   "cell_type": "code",
   "execution_count": 27,
   "id": "ba8d99d6",
   "metadata": {},
   "outputs": [],
   "source": [
    "checkpoint_config = air.CheckpointConfig(checkpoint_frequency=5)"
   ]
  },
  {
   "cell_type": "code",
   "execution_count": 31,
   "id": "7f0c9a7d-4a26-4630-8ade-1650bf140592",
   "metadata": {
    "tags": []
   },
   "outputs": [
    {
     "data": {
      "text/html": [
       "<div class=\"tuneStatus\">\n",
       "  <div style=\"display: flex;flex-direction: row\">\n",
       "    <div style=\"display: flex;flex-direction: column;\">\n",
       "      <h3>Tune Status</h3>\n",
       "      <table>\n",
       "<tbody>\n",
       "<tr><td>Current time:</td><td>2024-05-06 17:14:01</td></tr>\n",
       "<tr><td>Running for: </td><td>00:10:31.83        </td></tr>\n",
       "<tr><td>Memory:      </td><td>24.0/125.5 GiB     </td></tr>\n",
       "</tbody>\n",
       "</table>\n",
       "    </div>\n",
       "    <div class=\"vDivider\"></div>\n",
       "    <div class=\"systemInfo\">\n",
       "      <h3>System Info</h3>\n",
       "      Using FIFO scheduling algorithm.<br>Logical resource usage: 21.0/24 CPUs, 4.0/4 GPUs (0.0/1.0 accelerator_type:G)\n",
       "    </div>\n",
       "    \n",
       "  </div>\n",
       "  <div class=\"hDivider\"></div>\n",
       "  <div class=\"trialStatus\">\n",
       "    <h3>Trial Status</h3>\n",
       "    <table>\n",
       "<thead>\n",
       "<tr><th>Trial name                           </th><th>status  </th><th>loc                    </th><th style=\"text-align: right;\">  iter</th><th style=\"text-align: right;\">  total time (s)</th><th style=\"text-align: right;\">    ts</th><th style=\"text-align: right;\">  reward</th><th style=\"text-align: right;\">  episode_reward_max</th><th style=\"text-align: right;\">  episode_reward_min</th><th style=\"text-align: right;\">  episode_len_mean</th></tr>\n",
       "</thead>\n",
       "<tbody>\n",
       "<tr><td>PPO_CustomizedEnvironment_3bf8b_00000</td><td>RUNNING </td><td>206.211.132.160:2996519</td><td style=\"text-align: right;\">    80</td><td style=\"text-align: right;\">         605.843</td><td style=\"text-align: right;\">320000</td><td style=\"text-align: right;\">   10.39</td><td style=\"text-align: right;\">                 187</td><td style=\"text-align: right;\">                 -33</td><td style=\"text-align: right;\">             68.19</td></tr>\n",
       "</tbody>\n",
       "</table>\n",
       "  </div>\n",
       "</div>\n",
       "<style>\n",
       ".tuneStatus {\n",
       "  color: var(--jp-ui-font-color1);\n",
       "}\n",
       ".tuneStatus .systemInfo {\n",
       "  display: flex;\n",
       "  flex-direction: column;\n",
       "}\n",
       ".tuneStatus td {\n",
       "  white-space: nowrap;\n",
       "}\n",
       ".tuneStatus .trialStatus {\n",
       "  display: flex;\n",
       "  flex-direction: column;\n",
       "}\n",
       ".tuneStatus h3 {\n",
       "  font-weight: bold;\n",
       "}\n",
       ".tuneStatus .hDivider {\n",
       "  border-bottom-width: var(--jp-border-width);\n",
       "  border-bottom-color: var(--jp-border-color0);\n",
       "  border-bottom-style: solid;\n",
       "}\n",
       ".tuneStatus .vDivider {\n",
       "  border-left-width: var(--jp-border-width);\n",
       "  border-left-color: var(--jp-border-color0);\n",
       "  border-left-style: solid;\n",
       "  margin: 0.5em 1em 0.5em 1em;\n",
       "}\n",
       "</style>\n"
      ],
      "text/plain": [
       "<IPython.core.display.HTML object>"
      ]
     },
     "metadata": {},
     "output_type": "display_data"
    },
    {
     "name": "stderr",
     "output_type": "stream",
     "text": [
      "\u001b[36m(PPO pid=2996519)\u001b[0m 2024-05-06 17:03:32,192\tWARNING deprecation.py:50 -- DeprecationWarning: `max_num_worker_restarts` has been deprecated. Use `AlgorithmConfig.max_num_env_runner_restarts` instead. This will raise an error in the future!\n",
      "\u001b[36m(RolloutWorker pid=2996587)\u001b[0m 2024-05-06 17:03:36,160\tWARNING deprecation.py:50 -- DeprecationWarning: `num_envs_per_worker` has been deprecated. Use `AlgorithmConfig.num_envs_per_env_runner` instead. This will raise an error in the future!\n",
      "\u001b[36m(PPO pid=2996519)\u001b[0m 2024-05-06 17:03:39,911\tWARNING deprecation.py:50 -- DeprecationWarning: `ray.rllib.execution.train_ops.multi_gpu_train_one_step` has been deprecated. This will raise an error in the future!\n",
      "\u001b[36m(PPO pid=2996519)\u001b[0m Checkpoint successfully created at: Checkpoint(filesystem=local, path=/home/healthcare/Desktop/Tristan/rl-projects/results/PPO_2024-05-06_17-03-29/PPO_CustomizedEnvironment_3bf8b_00000_0_2024-05-06_17-03-29/checkpoint_000000)\n",
      "\u001b[36m(PPO pid=2996519)\u001b[0m 2024-05-06 17:03:36,937\tWARNING deprecation.py:50 -- DeprecationWarning: `num_envs_per_worker` has been deprecated. Use `AlgorithmConfig.num_envs_per_env_runner` instead. This will raise an error in the future!\n",
      "\u001b[36m(PPO pid=2996519)\u001b[0m Checkpoint successfully created at: Checkpoint(filesystem=local, path=/home/healthcare/Desktop/Tristan/rl-projects/results/PPO_2024-05-06_17-03-29/PPO_CustomizedEnvironment_3bf8b_00000_0_2024-05-06_17-03-29/checkpoint_000001)\n",
      "\u001b[36m(PPO pid=2996519)\u001b[0m Checkpoint successfully created at: Checkpoint(filesystem=local, path=/home/healthcare/Desktop/Tristan/rl-projects/results/PPO_2024-05-06_17-03-29/PPO_CustomizedEnvironment_3bf8b_00000_0_2024-05-06_17-03-29/checkpoint_000002)\n",
      "\u001b[36m(PPO pid=2996519)\u001b[0m Checkpoint successfully created at: Checkpoint(filesystem=local, path=/home/healthcare/Desktop/Tristan/rl-projects/results/PPO_2024-05-06_17-03-29/PPO_CustomizedEnvironment_3bf8b_00000_0_2024-05-06_17-03-29/checkpoint_000003)\n",
      "\u001b[36m(PPO pid=2996519)\u001b[0m Checkpoint successfully created at: Checkpoint(filesystem=local, path=/home/healthcare/Desktop/Tristan/rl-projects/results/PPO_2024-05-06_17-03-29/PPO_CustomizedEnvironment_3bf8b_00000_0_2024-05-06_17-03-29/checkpoint_000004)\n",
      "\u001b[36m(PPO pid=2996519)\u001b[0m Checkpoint successfully created at: Checkpoint(filesystem=local, path=/home/healthcare/Desktop/Tristan/rl-projects/results/PPO_2024-05-06_17-03-29/PPO_CustomizedEnvironment_3bf8b_00000_0_2024-05-06_17-03-29/checkpoint_000005)\n",
      "\u001b[36m(PPO pid=2996519)\u001b[0m Checkpoint successfully created at: Checkpoint(filesystem=local, path=/home/healthcare/Desktop/Tristan/rl-projects/results/PPO_2024-05-06_17-03-29/PPO_CustomizedEnvironment_3bf8b_00000_0_2024-05-06_17-03-29/checkpoint_000006)\n",
      "\u001b[36m(PPO pid=2996519)\u001b[0m Checkpoint successfully created at: Checkpoint(filesystem=local, path=/home/healthcare/Desktop/Tristan/rl-projects/results/PPO_2024-05-06_17-03-29/PPO_CustomizedEnvironment_3bf8b_00000_0_2024-05-06_17-03-29/checkpoint_000007)\n",
      "\u001b[36m(PPO pid=2996519)\u001b[0m Checkpoint successfully created at: Checkpoint(filesystem=local, path=/home/healthcare/Desktop/Tristan/rl-projects/results/PPO_2024-05-06_17-03-29/PPO_CustomizedEnvironment_3bf8b_00000_0_2024-05-06_17-03-29/checkpoint_000008)\n",
      "\u001b[36m(PPO pid=2996519)\u001b[0m Checkpoint successfully created at: Checkpoint(filesystem=local, path=/home/healthcare/Desktop/Tristan/rl-projects/results/PPO_2024-05-06_17-03-29/PPO_CustomizedEnvironment_3bf8b_00000_0_2024-05-06_17-03-29/checkpoint_000009)\n",
      "\u001b[36m(PPO pid=2996519)\u001b[0m Checkpoint successfully created at: Checkpoint(filesystem=local, path=/home/healthcare/Desktop/Tristan/rl-projects/results/PPO_2024-05-06_17-03-29/PPO_CustomizedEnvironment_3bf8b_00000_0_2024-05-06_17-03-29/checkpoint_000010)\n",
      "\u001b[36m(PPO pid=2996519)\u001b[0m Checkpoint successfully created at: Checkpoint(filesystem=local, path=/home/healthcare/Desktop/Tristan/rl-projects/results/PPO_2024-05-06_17-03-29/PPO_CustomizedEnvironment_3bf8b_00000_0_2024-05-06_17-03-29/checkpoint_000011)\n",
      "\u001b[36m(PPO pid=2996519)\u001b[0m Checkpoint successfully created at: Checkpoint(filesystem=local, path=/home/healthcare/Desktop/Tristan/rl-projects/results/PPO_2024-05-06_17-03-29/PPO_CustomizedEnvironment_3bf8b_00000_0_2024-05-06_17-03-29/checkpoint_000012)\n",
      "\u001b[36m(PPO pid=2996519)\u001b[0m Checkpoint successfully created at: Checkpoint(filesystem=local, path=/home/healthcare/Desktop/Tristan/rl-projects/results/PPO_2024-05-06_17-03-29/PPO_CustomizedEnvironment_3bf8b_00000_0_2024-05-06_17-03-29/checkpoint_000013)\n",
      "\u001b[36m(PPO pid=2996519)\u001b[0m Checkpoint successfully created at: Checkpoint(filesystem=local, path=/home/healthcare/Desktop/Tristan/rl-projects/results/PPO_2024-05-06_17-03-29/PPO_CustomizedEnvironment_3bf8b_00000_0_2024-05-06_17-03-29/checkpoint_000014)\n",
      "\u001b[36m(PPO pid=2996519)\u001b[0m Checkpoint successfully created at: Checkpoint(filesystem=local, path=/home/healthcare/Desktop/Tristan/rl-projects/results/PPO_2024-05-06_17-03-29/PPO_CustomizedEnvironment_3bf8b_00000_0_2024-05-06_17-03-29/checkpoint_000015)\n",
      "\u001b[36m(PPO pid=2996519)\u001b[0m Checkpoint successfully created at: Checkpoint(filesystem=local, path=/home/healthcare/Desktop/Tristan/rl-projects/results/PPO_2024-05-06_17-03-29/PPO_CustomizedEnvironment_3bf8b_00000_0_2024-05-06_17-03-29/checkpoint_000016)\n",
      "\u001b[36m(PPO pid=2996519)\u001b[0m Checkpoint successfully created at: Checkpoint(filesystem=local, path=/home/healthcare/Desktop/Tristan/rl-projects/results/PPO_2024-05-06_17-03-29/PPO_CustomizedEnvironment_3bf8b_00000_0_2024-05-06_17-03-29/checkpoint_000017)\n",
      "\u001b[36m(PPO pid=2996519)\u001b[0m Checkpoint successfully created at: Checkpoint(filesystem=local, path=/home/healthcare/Desktop/Tristan/rl-projects/results/PPO_2024-05-06_17-03-29/PPO_CustomizedEnvironment_3bf8b_00000_0_2024-05-06_17-03-29/checkpoint_000018)\n",
      "\u001b[36m(PPO pid=2996519)\u001b[0m Checkpoint successfully created at: Checkpoint(filesystem=local, path=/home/healthcare/Desktop/Tristan/rl-projects/results/PPO_2024-05-06_17-03-29/PPO_CustomizedEnvironment_3bf8b_00000_0_2024-05-06_17-03-29/checkpoint_000019)\n",
      "\u001b[36m(PPO pid=2996519)\u001b[0m Checkpoint successfully created at: Checkpoint(filesystem=local, path=/home/healthcare/Desktop/Tristan/rl-projects/results/PPO_2024-05-06_17-03-29/PPO_CustomizedEnvironment_3bf8b_00000_0_2024-05-06_17-03-29/checkpoint_000020)\n",
      "\u001b[36m(PPO pid=2996519)\u001b[0m Checkpoint successfully created at: Checkpoint(filesystem=local, path=/home/healthcare/Desktop/Tristan/rl-projects/results/PPO_2024-05-06_17-03-29/PPO_CustomizedEnvironment_3bf8b_00000_0_2024-05-06_17-03-29/checkpoint_000021)\n",
      "\u001b[36m(PPO pid=2996519)\u001b[0m Checkpoint successfully created at: Checkpoint(filesystem=local, path=/home/healthcare/Desktop/Tristan/rl-projects/results/PPO_2024-05-06_17-03-29/PPO_CustomizedEnvironment_3bf8b_00000_0_2024-05-06_17-03-29/checkpoint_000022)\n",
      "\u001b[36m(PPO pid=2996519)\u001b[0m Checkpoint successfully created at: Checkpoint(filesystem=local, path=/home/healthcare/Desktop/Tristan/rl-projects/results/PPO_2024-05-06_17-03-29/PPO_CustomizedEnvironment_3bf8b_00000_0_2024-05-06_17-03-29/checkpoint_000023)\n",
      "\u001b[36m(PPO pid=2996519)\u001b[0m Checkpoint successfully created at: Checkpoint(filesystem=local, path=/home/healthcare/Desktop/Tristan/rl-projects/results/PPO_2024-05-06_17-03-29/PPO_CustomizedEnvironment_3bf8b_00000_0_2024-05-06_17-03-29/checkpoint_000024)\n",
      "\u001b[36m(PPO pid=2996519)\u001b[0m Checkpoint successfully created at: Checkpoint(filesystem=local, path=/home/healthcare/Desktop/Tristan/rl-projects/results/PPO_2024-05-06_17-03-29/PPO_CustomizedEnvironment_3bf8b_00000_0_2024-05-06_17-03-29/checkpoint_000025)\n",
      "\u001b[36m(PPO pid=2996519)\u001b[0m Checkpoint successfully created at: Checkpoint(filesystem=local, path=/home/healthcare/Desktop/Tristan/rl-projects/results/PPO_2024-05-06_17-03-29/PPO_CustomizedEnvironment_3bf8b_00000_0_2024-05-06_17-03-29/checkpoint_000026)\n",
      "\u001b[36m(PPO pid=2996519)\u001b[0m Checkpoint successfully created at: Checkpoint(filesystem=local, path=/home/healthcare/Desktop/Tristan/rl-projects/results/PPO_2024-05-06_17-03-29/PPO_CustomizedEnvironment_3bf8b_00000_0_2024-05-06_17-03-29/checkpoint_000027)\n",
      "\u001b[36m(PPO pid=2996519)\u001b[0m Checkpoint successfully created at: Checkpoint(filesystem=local, path=/home/healthcare/Desktop/Tristan/rl-projects/results/PPO_2024-05-06_17-03-29/PPO_CustomizedEnvironment_3bf8b_00000_0_2024-05-06_17-03-29/checkpoint_000028)\n",
      "\u001b[36m(PPO pid=2996519)\u001b[0m Checkpoint successfully created at: Checkpoint(filesystem=local, path=/home/healthcare/Desktop/Tristan/rl-projects/results/PPO_2024-05-06_17-03-29/PPO_CustomizedEnvironment_3bf8b_00000_0_2024-05-06_17-03-29/checkpoint_000029)\n",
      "\u001b[36m(PPO pid=2996519)\u001b[0m Checkpoint successfully created at: Checkpoint(filesystem=local, path=/home/healthcare/Desktop/Tristan/rl-projects/results/PPO_2024-05-06_17-03-29/PPO_CustomizedEnvironment_3bf8b_00000_0_2024-05-06_17-03-29/checkpoint_000030)\n",
      "\u001b[36m(PPO pid=2996519)\u001b[0m Checkpoint successfully created at: Checkpoint(filesystem=local, path=/home/healthcare/Desktop/Tristan/rl-projects/results/PPO_2024-05-06_17-03-29/PPO_CustomizedEnvironment_3bf8b_00000_0_2024-05-06_17-03-29/checkpoint_000031)\n",
      "\u001b[36m(PPO pid=2996519)\u001b[0m Checkpoint successfully created at: Checkpoint(filesystem=local, path=/home/healthcare/Desktop/Tristan/rl-projects/results/PPO_2024-05-06_17-03-29/PPO_CustomizedEnvironment_3bf8b_00000_0_2024-05-06_17-03-29/checkpoint_000032)\n",
      "\u001b[36m(PPO pid=2996519)\u001b[0m Checkpoint successfully created at: Checkpoint(filesystem=local, path=/home/healthcare/Desktop/Tristan/rl-projects/results/PPO_2024-05-06_17-03-29/PPO_CustomizedEnvironment_3bf8b_00000_0_2024-05-06_17-03-29/checkpoint_000033)\n",
      "\u001b[36m(PPO pid=2996519)\u001b[0m Checkpoint successfully created at: Checkpoint(filesystem=local, path=/home/healthcare/Desktop/Tristan/rl-projects/results/PPO_2024-05-06_17-03-29/PPO_CustomizedEnvironment_3bf8b_00000_0_2024-05-06_17-03-29/checkpoint_000034)\n",
      "\u001b[36m(PPO pid=2996519)\u001b[0m Checkpoint successfully created at: Checkpoint(filesystem=local, path=/home/healthcare/Desktop/Tristan/rl-projects/results/PPO_2024-05-06_17-03-29/PPO_CustomizedEnvironment_3bf8b_00000_0_2024-05-06_17-03-29/checkpoint_000035)\n",
      "\u001b[36m(PPO pid=2996519)\u001b[0m Checkpoint successfully created at: Checkpoint(filesystem=local, path=/home/healthcare/Desktop/Tristan/rl-projects/results/PPO_2024-05-06_17-03-29/PPO_CustomizedEnvironment_3bf8b_00000_0_2024-05-06_17-03-29/checkpoint_000036)\n",
      "\u001b[36m(PPO pid=2996519)\u001b[0m Checkpoint successfully created at: Checkpoint(filesystem=local, path=/home/healthcare/Desktop/Tristan/rl-projects/results/PPO_2024-05-06_17-03-29/PPO_CustomizedEnvironment_3bf8b_00000_0_2024-05-06_17-03-29/checkpoint_000037)\n",
      "\u001b[36m(PPO pid=2996519)\u001b[0m Checkpoint successfully created at: Checkpoint(filesystem=local, path=/home/healthcare/Desktop/Tristan/rl-projects/results/PPO_2024-05-06_17-03-29/PPO_CustomizedEnvironment_3bf8b_00000_0_2024-05-06_17-03-29/checkpoint_000038)\n",
      "\u001b[36m(PPO pid=2996519)\u001b[0m Checkpoint successfully created at: Checkpoint(filesystem=local, path=/home/healthcare/Desktop/Tristan/rl-projects/results/PPO_2024-05-06_17-03-29/PPO_CustomizedEnvironment_3bf8b_00000_0_2024-05-06_17-03-29/checkpoint_000039)\n",
      "\u001b[36m(PPO pid=2996519)\u001b[0m Checkpoint successfully created at: Checkpoint(filesystem=local, path=/home/healthcare/Desktop/Tristan/rl-projects/results/PPO_2024-05-06_17-03-29/PPO_CustomizedEnvironment_3bf8b_00000_0_2024-05-06_17-03-29/checkpoint_000040)\n",
      "\u001b[36m(PPO pid=2996519)\u001b[0m Checkpoint successfully created at: Checkpoint(filesystem=local, path=/home/healthcare/Desktop/Tristan/rl-projects/results/PPO_2024-05-06_17-03-29/PPO_CustomizedEnvironment_3bf8b_00000_0_2024-05-06_17-03-29/checkpoint_000041)\n",
      "\u001b[36m(PPO pid=2996519)\u001b[0m Checkpoint successfully created at: Checkpoint(filesystem=local, path=/home/healthcare/Desktop/Tristan/rl-projects/results/PPO_2024-05-06_17-03-29/PPO_CustomizedEnvironment_3bf8b_00000_0_2024-05-06_17-03-29/checkpoint_000042)\n",
      "\u001b[36m(PPO pid=2996519)\u001b[0m Checkpoint successfully created at: Checkpoint(filesystem=local, path=/home/healthcare/Desktop/Tristan/rl-projects/results/PPO_2024-05-06_17-03-29/PPO_CustomizedEnvironment_3bf8b_00000_0_2024-05-06_17-03-29/checkpoint_000043)\n",
      "\u001b[36m(PPO pid=2996519)\u001b[0m Checkpoint successfully created at: Checkpoint(filesystem=local, path=/home/healthcare/Desktop/Tristan/rl-projects/results/PPO_2024-05-06_17-03-29/PPO_CustomizedEnvironment_3bf8b_00000_0_2024-05-06_17-03-29/checkpoint_000044)\n",
      "\u001b[36m(PPO pid=2996519)\u001b[0m Checkpoint successfully created at: Checkpoint(filesystem=local, path=/home/healthcare/Desktop/Tristan/rl-projects/results/PPO_2024-05-06_17-03-29/PPO_CustomizedEnvironment_3bf8b_00000_0_2024-05-06_17-03-29/checkpoint_000045)\n",
      "\u001b[36m(PPO pid=2996519)\u001b[0m Checkpoint successfully created at: Checkpoint(filesystem=local, path=/home/healthcare/Desktop/Tristan/rl-projects/results/PPO_2024-05-06_17-03-29/PPO_CustomizedEnvironment_3bf8b_00000_0_2024-05-06_17-03-29/checkpoint_000046)\n",
      "\u001b[36m(PPO pid=2996519)\u001b[0m Checkpoint successfully created at: Checkpoint(filesystem=local, path=/home/healthcare/Desktop/Tristan/rl-projects/results/PPO_2024-05-06_17-03-29/PPO_CustomizedEnvironment_3bf8b_00000_0_2024-05-06_17-03-29/checkpoint_000047)\n",
      "\u001b[36m(PPO pid=2996519)\u001b[0m Checkpoint successfully created at: Checkpoint(filesystem=local, path=/home/healthcare/Desktop/Tristan/rl-projects/results/PPO_2024-05-06_17-03-29/PPO_CustomizedEnvironment_3bf8b_00000_0_2024-05-06_17-03-29/checkpoint_000048)\n",
      "\u001b[36m(PPO pid=2996519)\u001b[0m Checkpoint successfully created at: Checkpoint(filesystem=local, path=/home/healthcare/Desktop/Tristan/rl-projects/results/PPO_2024-05-06_17-03-29/PPO_CustomizedEnvironment_3bf8b_00000_0_2024-05-06_17-03-29/checkpoint_000049)\n",
      "\u001b[36m(PPO pid=2996519)\u001b[0m Checkpoint successfully created at: Checkpoint(filesystem=local, path=/home/healthcare/Desktop/Tristan/rl-projects/results/PPO_2024-05-06_17-03-29/PPO_CustomizedEnvironment_3bf8b_00000_0_2024-05-06_17-03-29/checkpoint_000050)\n",
      "\u001b[36m(PPO pid=2996519)\u001b[0m Checkpoint successfully created at: Checkpoint(filesystem=local, path=/home/healthcare/Desktop/Tristan/rl-projects/results/PPO_2024-05-06_17-03-29/PPO_CustomizedEnvironment_3bf8b_00000_0_2024-05-06_17-03-29/checkpoint_000051)\n",
      "\u001b[36m(PPO pid=2996519)\u001b[0m Checkpoint successfully created at: Checkpoint(filesystem=local, path=/home/healthcare/Desktop/Tristan/rl-projects/results/PPO_2024-05-06_17-03-29/PPO_CustomizedEnvironment_3bf8b_00000_0_2024-05-06_17-03-29/checkpoint_000052)\n",
      "\u001b[36m(PPO pid=2996519)\u001b[0m Checkpoint successfully created at: Checkpoint(filesystem=local, path=/home/healthcare/Desktop/Tristan/rl-projects/results/PPO_2024-05-06_17-03-29/PPO_CustomizedEnvironment_3bf8b_00000_0_2024-05-06_17-03-29/checkpoint_000053)\n",
      "\u001b[36m(PPO pid=2996519)\u001b[0m Checkpoint successfully created at: Checkpoint(filesystem=local, path=/home/healthcare/Desktop/Tristan/rl-projects/results/PPO_2024-05-06_17-03-29/PPO_CustomizedEnvironment_3bf8b_00000_0_2024-05-06_17-03-29/checkpoint_000054)\n",
      "\u001b[36m(PPO pid=2996519)\u001b[0m Checkpoint successfully created at: Checkpoint(filesystem=local, path=/home/healthcare/Desktop/Tristan/rl-projects/results/PPO_2024-05-06_17-03-29/PPO_CustomizedEnvironment_3bf8b_00000_0_2024-05-06_17-03-29/checkpoint_000055)\n",
      "\u001b[36m(PPO pid=2996519)\u001b[0m Checkpoint successfully created at: Checkpoint(filesystem=local, path=/home/healthcare/Desktop/Tristan/rl-projects/results/PPO_2024-05-06_17-03-29/PPO_CustomizedEnvironment_3bf8b_00000_0_2024-05-06_17-03-29/checkpoint_000056)\n",
      "\u001b[36m(PPO pid=2996519)\u001b[0m Checkpoint successfully created at: Checkpoint(filesystem=local, path=/home/healthcare/Desktop/Tristan/rl-projects/results/PPO_2024-05-06_17-03-29/PPO_CustomizedEnvironment_3bf8b_00000_0_2024-05-06_17-03-29/checkpoint_000057)\n",
      "\u001b[36m(PPO pid=2996519)\u001b[0m Checkpoint successfully created at: Checkpoint(filesystem=local, path=/home/healthcare/Desktop/Tristan/rl-projects/results/PPO_2024-05-06_17-03-29/PPO_CustomizedEnvironment_3bf8b_00000_0_2024-05-06_17-03-29/checkpoint_000058)\n",
      "\u001b[36m(PPO pid=2996519)\u001b[0m Checkpoint successfully created at: Checkpoint(filesystem=local, path=/home/healthcare/Desktop/Tristan/rl-projects/results/PPO_2024-05-06_17-03-29/PPO_CustomizedEnvironment_3bf8b_00000_0_2024-05-06_17-03-29/checkpoint_000059)\n",
      "\u001b[36m(PPO pid=2996519)\u001b[0m Checkpoint successfully created at: Checkpoint(filesystem=local, path=/home/healthcare/Desktop/Tristan/rl-projects/results/PPO_2024-05-06_17-03-29/PPO_CustomizedEnvironment_3bf8b_00000_0_2024-05-06_17-03-29/checkpoint_000060)\n",
      "\u001b[36m(PPO pid=2996519)\u001b[0m Checkpoint successfully created at: Checkpoint(filesystem=local, path=/home/healthcare/Desktop/Tristan/rl-projects/results/PPO_2024-05-06_17-03-29/PPO_CustomizedEnvironment_3bf8b_00000_0_2024-05-06_17-03-29/checkpoint_000061)\n",
      "\u001b[36m(PPO pid=2996519)\u001b[0m Checkpoint successfully created at: Checkpoint(filesystem=local, path=/home/healthcare/Desktop/Tristan/rl-projects/results/PPO_2024-05-06_17-03-29/PPO_CustomizedEnvironment_3bf8b_00000_0_2024-05-06_17-03-29/checkpoint_000062)\n",
      "\u001b[36m(PPO pid=2996519)\u001b[0m Checkpoint successfully created at: Checkpoint(filesystem=local, path=/home/healthcare/Desktop/Tristan/rl-projects/results/PPO_2024-05-06_17-03-29/PPO_CustomizedEnvironment_3bf8b_00000_0_2024-05-06_17-03-29/checkpoint_000063)\n",
      "\u001b[36m(PPO pid=2996519)\u001b[0m Checkpoint successfully created at: Checkpoint(filesystem=local, path=/home/healthcare/Desktop/Tristan/rl-projects/results/PPO_2024-05-06_17-03-29/PPO_CustomizedEnvironment_3bf8b_00000_0_2024-05-06_17-03-29/checkpoint_000064)\n",
      "\u001b[36m(PPO pid=2996519)\u001b[0m Checkpoint successfully created at: Checkpoint(filesystem=local, path=/home/healthcare/Desktop/Tristan/rl-projects/results/PPO_2024-05-06_17-03-29/PPO_CustomizedEnvironment_3bf8b_00000_0_2024-05-06_17-03-29/checkpoint_000065)\n",
      "\u001b[36m(PPO pid=2996519)\u001b[0m Checkpoint successfully created at: Checkpoint(filesystem=local, path=/home/healthcare/Desktop/Tristan/rl-projects/results/PPO_2024-05-06_17-03-29/PPO_CustomizedEnvironment_3bf8b_00000_0_2024-05-06_17-03-29/checkpoint_000066)\n",
      "\u001b[36m(PPO pid=2996519)\u001b[0m Checkpoint successfully created at: Checkpoint(filesystem=local, path=/home/healthcare/Desktop/Tristan/rl-projects/results/PPO_2024-05-06_17-03-29/PPO_CustomizedEnvironment_3bf8b_00000_0_2024-05-06_17-03-29/checkpoint_000067)\n",
      "\u001b[36m(PPO pid=2996519)\u001b[0m Checkpoint successfully created at: Checkpoint(filesystem=local, path=/home/healthcare/Desktop/Tristan/rl-projects/results/PPO_2024-05-06_17-03-29/PPO_CustomizedEnvironment_3bf8b_00000_0_2024-05-06_17-03-29/checkpoint_000068)\n",
      "\u001b[36m(PPO pid=2996519)\u001b[0m Checkpoint successfully created at: Checkpoint(filesystem=local, path=/home/healthcare/Desktop/Tristan/rl-projects/results/PPO_2024-05-06_17-03-29/PPO_CustomizedEnvironment_3bf8b_00000_0_2024-05-06_17-03-29/checkpoint_000069)\n",
      "\u001b[36m(PPO pid=2996519)\u001b[0m Checkpoint successfully created at: Checkpoint(filesystem=local, path=/home/healthcare/Desktop/Tristan/rl-projects/results/PPO_2024-05-06_17-03-29/PPO_CustomizedEnvironment_3bf8b_00000_0_2024-05-06_17-03-29/checkpoint_000070)\n",
      "\u001b[36m(PPO pid=2996519)\u001b[0m Checkpoint successfully created at: Checkpoint(filesystem=local, path=/home/healthcare/Desktop/Tristan/rl-projects/results/PPO_2024-05-06_17-03-29/PPO_CustomizedEnvironment_3bf8b_00000_0_2024-05-06_17-03-29/checkpoint_000071)\n",
      "\u001b[36m(PPO pid=2996519)\u001b[0m Checkpoint successfully created at: Checkpoint(filesystem=local, path=/home/healthcare/Desktop/Tristan/rl-projects/results/PPO_2024-05-06_17-03-29/PPO_CustomizedEnvironment_3bf8b_00000_0_2024-05-06_17-03-29/checkpoint_000072)\n",
      "\u001b[36m(PPO pid=2996519)\u001b[0m Checkpoint successfully created at: Checkpoint(filesystem=local, path=/home/healthcare/Desktop/Tristan/rl-projects/results/PPO_2024-05-06_17-03-29/PPO_CustomizedEnvironment_3bf8b_00000_0_2024-05-06_17-03-29/checkpoint_000073)\n",
      "\u001b[36m(PPO pid=2996519)\u001b[0m Checkpoint successfully created at: Checkpoint(filesystem=local, path=/home/healthcare/Desktop/Tristan/rl-projects/results/PPO_2024-05-06_17-03-29/PPO_CustomizedEnvironment_3bf8b_00000_0_2024-05-06_17-03-29/checkpoint_000074)\n",
      "\u001b[36m(PPO pid=2996519)\u001b[0m Checkpoint successfully created at: Checkpoint(filesystem=local, path=/home/healthcare/Desktop/Tristan/rl-projects/results/PPO_2024-05-06_17-03-29/PPO_CustomizedEnvironment_3bf8b_00000_0_2024-05-06_17-03-29/checkpoint_000075)\n",
      "\u001b[36m(PPO pid=2996519)\u001b[0m Checkpoint successfully created at: Checkpoint(filesystem=local, path=/home/healthcare/Desktop/Tristan/rl-projects/results/PPO_2024-05-06_17-03-29/PPO_CustomizedEnvironment_3bf8b_00000_0_2024-05-06_17-03-29/checkpoint_000076)\n",
      "\u001b[36m(PPO pid=2996519)\u001b[0m Checkpoint successfully created at: Checkpoint(filesystem=local, path=/home/healthcare/Desktop/Tristan/rl-projects/results/PPO_2024-05-06_17-03-29/PPO_CustomizedEnvironment_3bf8b_00000_0_2024-05-06_17-03-29/checkpoint_000077)\n",
      "\u001b[36m(PPO pid=2996519)\u001b[0m Checkpoint successfully created at: Checkpoint(filesystem=local, path=/home/healthcare/Desktop/Tristan/rl-projects/results/PPO_2024-05-06_17-03-29/PPO_CustomizedEnvironment_3bf8b_00000_0_2024-05-06_17-03-29/checkpoint_000078)\n",
      "\u001b[36m(PPO pid=2996519)\u001b[0m Checkpoint successfully created at: Checkpoint(filesystem=local, path=/home/healthcare/Desktop/Tristan/rl-projects/results/PPO_2024-05-06_17-03-29/PPO_CustomizedEnvironment_3bf8b_00000_0_2024-05-06_17-03-29/checkpoint_000079)\n"
     ]
    }
   ],
   "source": [
    "config = (PPOConfig()\n",
    "          .environment(env_customizer.CustomizedEnvironment,\n",
    "                      env_config={\"env\" : csbsingleenv.CodersStrikeBackSingle(),\n",
    "                                 \"customizer\" : CustomizedRacing()})\n",
    "          .framework('torch')\n",
    "          .training(gamma=0.99)\n",
    "          .rollouts(num_rollout_workers=20, num_envs_per_worker=5, rollout_fragment_length=\"auto\")\n",
    "          .resources(num_gpus=4, num_learner_workers=4, num_gpus_per_learner_worker=1)\n",
    ")\n",
    "config.num_sgd_iter = 6\n",
    "stop = {\"timesteps_total\": 1000000}\n",
    "\n",
    "tuner = tune.Tuner(\n",
    "    \"PPO\",\n",
    "    param_space=config.to_dict(),\n",
    "    run_config=air.RunConfig(stop=stop,\n",
    "                             storage_path=\"~/Desktop/Tristan/rl-projects/results\",\n",
    "                             checkpoint_config=checkpoint_config)\n",
    "\n",
    ")\n",
    "\n",
    "tuner.fit()"
   ]
  },
  {
   "cell_type": "code",
   "execution_count": null,
   "id": "43c31ed3",
   "metadata": {},
   "outputs": [],
   "source": []
  }
 ],
 "metadata": {
  "kernelspec": {
   "display_name": "Python 3 (ipykernel)",
   "language": "python",
   "name": "python3"
  },
  "language_info": {
   "codemirror_mode": {
    "name": "ipython",
    "version": 3
   },
   "file_extension": ".py",
   "mimetype": "text/x-python",
   "name": "python",
   "nbconvert_exporter": "python",
   "pygments_lexer": "ipython3",
   "version": "3.10.12"
  }
 },
 "nbformat": 4,
 "nbformat_minor": 5
}

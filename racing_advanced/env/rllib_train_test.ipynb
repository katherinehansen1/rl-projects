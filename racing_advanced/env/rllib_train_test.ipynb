{
 "cells": [
  {
   "cell_type": "code",
   "execution_count": 2,
   "id": "44dcb225-f0c3-4812-8c9d-b15dcb23b227",
   "metadata": {},
   "outputs": [
    {
     "name": "stderr",
     "output_type": "stream",
     "text": [
      "2024-05-07 15:55:26,268\tWARNING deprecation.py:50 -- DeprecationWarning: `DirectStepOptimizer` has been deprecated. This will raise an error in the future!\n"
     ]
    }
   ],
   "source": [
    "from csb_multi_env import *"
   ]
  },
  {
   "cell_type": "code",
   "execution_count": 3,
   "id": "f35a904f-bbb7-4b29-9c76-45385cc4072d",
   "metadata": {},
   "outputs": [],
   "source": [
    "env = CodersStrikeBackMulti(dt=1)"
   ]
  },
  {
   "cell_type": "code",
   "execution_count": 4,
   "id": "1b855cc5-41e5-4d9c-8a86-5a9383e3f81f",
   "metadata": {},
   "outputs": [
    {
     "data": {
      "text/plain": [
       "({'car_0_0': array([ 3.00000000e+00, -3.13927058e+00,  1.19887241e+04,  4.74578865e+03,\n",
       "          0.00000000e+00,  0.00000000e+00,  5.62000000e+03,  4.73100000e+03,\n",
       "          7.92900000e+03,  3.07600000e+03,  7.37300000e+03,  5.76300000e+03,\n",
       "          1.14840000e+04,  3.01800000e+03,  5.62000000e+03,  4.73100000e+03]),\n",
       "  'car_1_0': array([3.00000000e+00, 2.95527997e+00, 1.16522414e+04, 3.59392955e+03,\n",
       "         0.00000000e+00, 0.00000000e+00, 5.62000000e+03, 4.73100000e+03,\n",
       "         7.92900000e+03, 3.07600000e+03, 7.37300000e+03, 5.76300000e+03,\n",
       "         1.14840000e+04, 3.01800000e+03, 5.62000000e+03, 4.73100000e+03]),\n",
       "  'car_0_1': array([3.00000000e+00, 2.75947902e+00, 1.13157586e+04, 2.44207045e+03,\n",
       "         0.00000000e+00, 0.00000000e+00, 5.62000000e+03, 4.73100000e+03,\n",
       "         7.92900000e+03, 3.07600000e+03, 7.37300000e+03, 5.76300000e+03,\n",
       "         1.14840000e+04, 3.01800000e+03, 5.62000000e+03, 4.73100000e+03]),\n",
       "  'car_1_1': array([3.00000000e+00, 2.57084427e+00, 1.09792759e+04, 1.29021135e+03,\n",
       "         0.00000000e+00, 0.00000000e+00, 5.62000000e+03, 4.73100000e+03,\n",
       "         7.92900000e+03, 3.07600000e+03, 7.37300000e+03, 5.76300000e+03,\n",
       "         1.14840000e+04, 3.01800000e+03, 5.62000000e+03, 4.73100000e+03])},\n",
       " {})"
      ]
     },
     "execution_count": 4,
     "metadata": {},
     "output_type": "execute_result"
    }
   ],
   "source": [
    "env.reset()"
   ]
  },
  {
   "cell_type": "code",
   "execution_count": 5,
   "id": "b21c05af-cf39-4b38-b6e1-e671c351a1db",
   "metadata": {},
   "outputs": [],
   "source": [
    "env.reset()\n",
    "done = False\n",
    "rewards = []\n",
    "while not done:\n",
    "    obs, reward, done, _, _ = env.step(env.action_space.sample())\n",
    "    done = done['__all__']\n",
    "    rewards.append(reward)"
   ]
  },
  {
   "cell_type": "code",
   "execution_count": 6,
   "id": "0e40c494-1e54-4c06-9b24-e338659b0261",
   "metadata": {},
   "outputs": [
    {
     "data": {
      "text/plain": [
       "{'car_0_0': 1, 'car_1_0': -1, 'car_0_1': 1, 'car_1_1': -1}"
      ]
     },
     "execution_count": 6,
     "metadata": {},
     "output_type": "execute_result"
    }
   ],
   "source": [
    "rewards[-1]"
   ]
  },
  {
   "cell_type": "code",
   "execution_count": 7,
   "id": "618454fb-d1ab-43e3-8f83-02cbc6f20f03",
   "metadata": {},
   "outputs": [],
   "source": [
    "import ray\n",
    "from ray import tune, air\n",
    "from ray.rllib.algorithms.ppo import PPOConfig\n",
    "from functools import partial"
   ]
  },
  {
   "cell_type": "code",
   "execution_count": 8,
   "id": "61015fc4-08eb-4142-a20f-c2094934c15d",
   "metadata": {},
   "outputs": [
    {
     "name": "stderr",
     "output_type": "stream",
     "text": [
      "/usr/lib/python3.10/subprocess.py:1796: RuntimeWarning: os.fork() was called. os.fork() is incompatible with multithreaded code, and JAX is multithreaded, so this will likely lead to a deadlock.\n",
      "  self.pid = _posixsubprocess.fork_exec(\n",
      "2024-05-07 15:55:29,765\tINFO worker.py:1633 -- Started a local Ray instance. View the dashboard at \u001b[1m\u001b[32m127.0.0.1:8266 \u001b[39m\u001b[22m\n"
     ]
    },
    {
     "data": {
      "application/vnd.jupyter.widget-view+json": {
       "model_id": "481144f1b6c8494c816465e1e871a6d7",
       "version_major": 2,
       "version_minor": 0
      },
      "text/html": [
       "<div class=\"lm-Widget p-Widget lm-Panel p-Panel jp-Cell-outputWrapper\">\n",
       "    <div style=\"margin-left: 50px;display: flex;flex-direction: row;align-items: center\">\n",
       "        <div class=\"jp-RenderedHTMLCommon\" style=\"display: flex; flex-direction: row;\">\n",
       "  <svg viewBox=\"0 0 567 224\" fill=\"none\" xmlns=\"http://www.w3.org/2000/svg\" style=\"height: 3em;\">\n",
       "    <g clip-path=\"url(#clip0_4338_178347)\">\n",
       "        <path d=\"M341.29 165.561H355.29L330.13 129.051C345.63 123.991 354.21 112.051 354.21 94.2307C354.21 71.3707 338.72 58.1807 311.88 58.1807H271V165.561H283.27V131.661H311.8C314.25 131.661 316.71 131.501 319.01 131.351L341.25 165.561H341.29ZM283.29 119.851V70.0007H311.82C331.3 70.0007 342.34 78.2907 342.34 94.5507C342.34 111.271 331.34 119.861 311.82 119.861L283.29 119.851ZM451.4 138.411L463.4 165.561H476.74L428.74 58.1807H416L367.83 165.561H380.83L392.83 138.411H451.4ZM446.19 126.601H398L422 72.1407L446.24 126.601H446.19ZM526.11 128.741L566.91 58.1807H554.35L519.99 114.181L485.17 58.1807H472.44L514.01 129.181V165.541H526.13V128.741H526.11Z\" fill=\"var(--jp-ui-font-color0)\"/>\n",
       "        <path d=\"M82.35 104.44C84.0187 97.8827 87.8248 92.0678 93.1671 87.9146C98.5094 83.7614 105.083 81.5067 111.85 81.5067C118.617 81.5067 125.191 83.7614 130.533 87.9146C135.875 92.0678 139.681 97.8827 141.35 104.44H163.75C164.476 101.562 165.622 98.8057 167.15 96.2605L127.45 56.5605C121.071 60.3522 113.526 61.6823 106.235 60.3005C98.9443 58.9187 92.4094 54.9203 87.8602 49.0574C83.3109 43.1946 81.0609 35.8714 81.5332 28.4656C82.0056 21.0599 85.1679 14.0819 90.4252 8.8446C95.6824 3.60726 102.672 0.471508 110.08 0.0272655C117.487 -0.416977 124.802 1.86091 130.647 6.4324C136.493 11.0039 140.467 17.5539 141.821 24.8501C143.175 32.1463 141.816 39.6859 138 46.0505L177.69 85.7505C182.31 82.9877 187.58 81.4995 192.962 81.4375C198.345 81.3755 203.648 82.742 208.33 85.3976C213.012 88.0532 216.907 91.9029 219.616 96.5544C222.326 101.206 223.753 106.492 223.753 111.875C223.753 117.258 222.326 122.545 219.616 127.197C216.907 131.848 213.012 135.698 208.33 138.353C203.648 141.009 198.345 142.375 192.962 142.313C187.58 142.251 182.31 140.763 177.69 138L138 177.7C141.808 184.071 143.155 191.614 141.79 198.91C140.424 206.205 136.44 212.75 130.585 217.313C124.731 221.875 117.412 224.141 110.004 223.683C102.596 223.226 95.6103 220.077 90.3621 214.828C85.1139 209.58 81.9647 202.595 81.5072 195.187C81.0497 187.779 83.3154 180.459 87.878 174.605C92.4405 168.751 98.9853 164.766 106.281 163.401C113.576 162.035 121.119 163.383 127.49 167.19L167.19 127.49C165.664 124.941 164.518 122.182 163.79 119.3H141.39C139.721 125.858 135.915 131.673 130.573 135.826C125.231 139.98 118.657 142.234 111.89 142.234C105.123 142.234 98.5494 139.98 93.2071 135.826C87.8648 131.673 84.0587 125.858 82.39 119.3H60C58.1878 126.495 53.8086 132.78 47.6863 136.971C41.5641 141.163 34.1211 142.972 26.7579 142.059C19.3947 141.146 12.6191 137.574 7.70605 132.014C2.79302 126.454 0.0813599 119.29 0.0813599 111.87C0.0813599 104.451 2.79302 97.2871 7.70605 91.7272C12.6191 86.1673 19.3947 82.5947 26.7579 81.6817C34.1211 80.7686 41.5641 82.5781 47.6863 86.7696C53.8086 90.9611 58.1878 97.2456 60 104.44H82.35ZM100.86 204.32C103.407 206.868 106.759 208.453 110.345 208.806C113.93 209.159 117.527 208.258 120.522 206.256C123.517 204.254 125.725 201.276 126.771 197.828C127.816 194.38 127.633 190.677 126.253 187.349C124.874 184.021 122.383 181.274 119.205 179.577C116.027 177.88 112.359 177.337 108.826 178.042C105.293 178.746 102.113 180.654 99.8291 183.44C97.5451 186.226 96.2979 189.718 96.3 193.32C96.2985 195.364 96.7006 197.388 97.4831 199.275C98.2656 201.163 99.4132 202.877 100.86 204.32ZM204.32 122.88C206.868 120.333 208.453 116.981 208.806 113.396C209.159 109.811 208.258 106.214 206.256 103.219C204.254 100.223 201.275 98.0151 197.827 96.97C194.38 95.9249 190.676 96.1077 187.348 97.4873C184.02 98.8669 181.274 101.358 179.577 104.536C177.879 107.714 177.337 111.382 178.041 114.915C178.746 118.448 180.653 121.627 183.439 123.911C186.226 126.195 189.717 127.443 193.32 127.44C195.364 127.443 197.388 127.042 199.275 126.259C201.163 125.476 202.878 124.328 204.32 122.88ZM122.88 19.4205C120.333 16.8729 116.981 15.2876 113.395 14.9347C109.81 14.5817 106.213 15.483 103.218 17.4849C100.223 19.4868 98.0146 22.4654 96.9696 25.9131C95.9245 29.3608 96.1073 33.0642 97.4869 36.3922C98.8665 39.7202 101.358 42.4668 104.535 44.1639C107.713 45.861 111.381 46.4036 114.914 45.6992C118.447 44.9949 121.627 43.0871 123.911 40.301C126.195 37.515 127.442 34.0231 127.44 30.4205C127.44 28.3772 127.038 26.3539 126.255 24.4664C125.473 22.5788 124.326 20.8642 122.88 19.4205ZM19.42 100.86C16.8725 103.408 15.2872 106.76 14.9342 110.345C14.5813 113.93 15.4826 117.527 17.4844 120.522C19.4863 123.518 22.4649 125.726 25.9127 126.771C29.3604 127.816 33.0638 127.633 36.3918 126.254C39.7198 124.874 42.4664 122.383 44.1635 119.205C45.8606 116.027 46.4032 112.359 45.6988 108.826C44.9944 105.293 43.0866 102.114 40.3006 99.8296C37.5145 97.5455 34.0227 96.2983 30.42 96.3005C26.2938 96.3018 22.337 97.9421 19.42 100.86ZM100.86 100.86C98.3125 103.408 96.7272 106.76 96.3742 110.345C96.0213 113.93 96.9226 117.527 98.9244 120.522C100.926 123.518 103.905 125.726 107.353 126.771C110.8 127.816 114.504 127.633 117.832 126.254C121.16 124.874 123.906 122.383 125.604 119.205C127.301 116.027 127.843 112.359 127.139 108.826C126.434 105.293 124.527 102.114 121.741 99.8296C118.955 97.5455 115.463 96.2983 111.86 96.3005C109.817 96.299 107.793 96.701 105.905 97.4835C104.018 98.2661 102.303 99.4136 100.86 100.86Z\" fill=\"#00AEEF\"/>\n",
       "    </g>\n",
       "    <defs>\n",
       "        <clipPath id=\"clip0_4338_178347\">\n",
       "            <rect width=\"566.93\" height=\"223.75\" fill=\"white\"/>\n",
       "        </clipPath>\n",
       "    </defs>\n",
       "  </svg>\n",
       "</div>\n",
       "\n",
       "        <table class=\"jp-RenderedHTMLCommon\" style=\"border-collapse: collapse;color: var(--jp-ui-font-color1);font-size: var(--jp-ui-font-size1);\">\n",
       "    <tr>\n",
       "        <td style=\"text-align: left\"><b>Python version:</b></td>\n",
       "        <td style=\"text-align: left\"><b>3.10.12</b></td>\n",
       "    </tr>\n",
       "    <tr>\n",
       "        <td style=\"text-align: left\"><b>Ray version:</b></td>\n",
       "        <td style=\"text-align: left\"><b>2.7.0</b></td>\n",
       "    </tr>\n",
       "    <tr>\n",
       "    <td style=\"text-align: left\"><b>Dashboard:</b></td>\n",
       "    <td style=\"text-align: left\"><b><a href=\"http://127.0.0.1:8266\" target=\"_blank\">http://127.0.0.1:8266</a></b></td>\n",
       "</tr>\n",
       "\n",
       "</table>\n",
       "\n",
       "    </div>\n",
       "</div>\n"
      ],
      "text/plain": [
       "RayContext(dashboard_url='127.0.0.1:8266', python_version='3.10.12', ray_version='2.7.0', ray_commit='b4bba4717f5ba04ee25580fe8f88eed63ef0c5dc', protocol_version=None)"
      ]
     },
     "execution_count": 8,
     "metadata": {},
     "output_type": "execute_result"
    }
   ],
   "source": [
    "if ray.is_initialized():\n",
    "  ray.shutdown()\n",
    "ray.init(num_cpus=4)"
   ]
  },
  {
   "cell_type": "code",
   "execution_count": 9,
   "id": "b970489f-adf3-452f-8f8b-da2720e82210",
   "metadata": {
    "tags": []
   },
   "outputs": [
    {
     "data": {
      "text/html": [
       "<div class=\"tuneStatus\">\n",
       "  <div style=\"display: flex;flex-direction: row\">\n",
       "    <div style=\"display: flex;flex-direction: column;\">\n",
       "      <h3>Tune Status</h3>\n",
       "      <table>\n",
       "<tbody>\n",
       "<tr><td>Current time:</td><td>2024-05-07 15:58:39</td></tr>\n",
       "<tr><td>Running for: </td><td>00:03:07.33        </td></tr>\n",
       "<tr><td>Memory:      </td><td>6.4/7.5 GiB        </td></tr>\n",
       "</tbody>\n",
       "</table>\n",
       "    </div>\n",
       "    <div class=\"vDivider\"></div>\n",
       "    <div class=\"systemInfo\">\n",
       "      <h3>System Info</h3>\n",
       "      Using FIFO scheduling algorithm.<br>Logical resource usage: 4.0/4 CPUs, 0/0 GPUs\n",
       "    </div>\n",
       "    \n",
       "  </div>\n",
       "  <div class=\"hDivider\"></div>\n",
       "  <div class=\"trialStatus\">\n",
       "    <h3>Trial Status</h3>\n",
       "    <table>\n",
       "<thead>\n",
       "<tr><th>Trial name                           </th><th>status    </th><th>loc                  </th><th style=\"text-align: right;\">  iter</th><th style=\"text-align: right;\">  total time (s)</th><th style=\"text-align: right;\">   ts</th><th style=\"text-align: right;\">  reward</th><th style=\"text-align: right;\">  episode_reward_max</th><th style=\"text-align: right;\">  episode_reward_min</th><th style=\"text-align: right;\">  episode_len_mean</th></tr>\n",
       "</thead>\n",
       "<tbody>\n",
       "<tr><td>PPO_CodersStrikeBackMulti_e82c2_00000</td><td>TERMINATED</td><td>10.212.93.252:1822888</td><td style=\"text-align: right;\">    12</td><td style=\"text-align: right;\">         147.438</td><td style=\"text-align: right;\">12288</td><td style=\"text-align: right;\">   -3.28</td><td style=\"text-align: right;\">                   0</td><td style=\"text-align: right;\">                  -4</td><td style=\"text-align: right;\">            100.38</td></tr>\n",
       "</tbody>\n",
       "</table>\n",
       "  </div>\n",
       "</div>\n",
       "<style>\n",
       ".tuneStatus {\n",
       "  color: var(--jp-ui-font-color1);\n",
       "}\n",
       ".tuneStatus .systemInfo {\n",
       "  display: flex;\n",
       "  flex-direction: column;\n",
       "}\n",
       ".tuneStatus td {\n",
       "  white-space: nowrap;\n",
       "}\n",
       ".tuneStatus .trialStatus {\n",
       "  display: flex;\n",
       "  flex-direction: column;\n",
       "}\n",
       ".tuneStatus h3 {\n",
       "  font-weight: bold;\n",
       "}\n",
       ".tuneStatus .hDivider {\n",
       "  border-bottom-width: var(--jp-border-width);\n",
       "  border-bottom-color: var(--jp-border-color0);\n",
       "  border-bottom-style: solid;\n",
       "}\n",
       ".tuneStatus .vDivider {\n",
       "  border-left-width: var(--jp-border-width);\n",
       "  border-left-color: var(--jp-border-color0);\n",
       "  border-left-style: solid;\n",
       "  margin: 0.5em 1em 0.5em 1em;\n",
       "}\n",
       "</style>\n"
      ],
      "text/plain": [
       "<IPython.core.display.HTML object>"
      ]
     },
     "metadata": {},
     "output_type": "display_data"
    },
    {
     "name": "stderr",
     "output_type": "stream",
     "text": [
      "2024-05-07 15:55:32,036\tWARNING algorithm_config.py:2578 -- Setting `exploration_config={}` because you set `_enable_rl_module_api=True`. When RLModule API are enabled, exploration_config can not be set. If you want to implement custom exploration behaviour, please modify the `forward_exploration` method of the RLModule at hand. On configs that have a default exploration config, this must be done with `config.exploration_config={}`.\n",
      "\u001b[2m\u001b[36m(pid=1822888)\u001b[0m DeprecationWarning: `DirectStepOptimizer` has been deprecated. This will raise an error in the future!\n",
      "\u001b[2m\u001b[36m(PPO pid=1822888)\u001b[0m 2024-05-07 15:55:39,668\tWARNING algorithm_config.py:2578 -- Setting `exploration_config={}` because you set `_enable_rl_module_api=True`. When RLModule API are enabled, exploration_config can not be set. If you want to implement custom exploration behaviour, please modify the `forward_exploration` method of the RLModule at hand. On configs that have a default exploration config, this must be done with `config.exploration_config={}`.\n",
      "\u001b[2m\u001b[36m(PPO pid=1822888)\u001b[0m 2024-05-07 15:55:39,669\tWARNING algorithm_config.py:672 -- Cannot create PPOConfig from given `config_dict`! Property __stdout_file__ not supported.\n",
      "\u001b[2m\u001b[36m(pid=1823131)\u001b[0m DeprecationWarning: `DirectStepOptimizer` has been deprecated. This will raise an error in the future!\n",
      "\u001b[2m\u001b[36m(pid=1823124)\u001b[0m DeprecationWarning: `DirectStepOptimizer` has been deprecated. This will raise an error in the future!\n",
      "\u001b[2m\u001b[36m(RolloutWorker pid=1823124)\u001b[0m 2024-05-07 15:56:10,555\tWARNING algorithm_config.py:2578 -- Setting `exploration_config={}` because you set `_enable_rl_module_api=True`. When RLModule API are enabled, exploration_config can not be set. If you want to implement custom exploration behaviour, please modify the `forward_exploration` method of the RLModule at hand. On configs that have a default exploration config, this must be done with `config.exploration_config={}`.\n",
      "\u001b[2m\u001b[36m(RolloutWorker pid=1823124)\u001b[0m 2024-05-07 15:56:10,706\tWARNING deprecation.py:50 -- DeprecationWarning: `ValueNetworkMixin` has been deprecated. This will raise an error in the future!\n",
      "\u001b[2m\u001b[36m(RolloutWorker pid=1823124)\u001b[0m 2024-05-07 15:56:10,706\tWARNING deprecation.py:50 -- DeprecationWarning: `LearningRateSchedule` has been deprecated. This will raise an error in the future!\n",
      "\u001b[2m\u001b[36m(RolloutWorker pid=1823124)\u001b[0m 2024-05-07 15:56:10,706\tWARNING deprecation.py:50 -- DeprecationWarning: `EntropyCoeffSchedule` has been deprecated. This will raise an error in the future!\n",
      "\u001b[2m\u001b[36m(RolloutWorker pid=1823124)\u001b[0m 2024-05-07 15:56:10,706\tWARNING deprecation.py:50 -- DeprecationWarning: `KLCoeffMixin` has been deprecated. This will raise an error in the future!\n",
      "\u001b[2m\u001b[36m(PPO pid=1822888)\u001b[0m Trainable.setup took 30.608 seconds. If your trainable is slow to initialize, consider setting reuse_actors=True to reduce actor creation overheads.\n",
      "\u001b[2m\u001b[36m(PPO pid=1822888)\u001b[0m Install gputil for GPU system monitoring.\n",
      "\u001b[2m\u001b[36m(PPO pid=1822888)\u001b[0m Checkpoint successfully created at: Checkpoint(filesystem=local, path=/home/kajames/ray_results/PPO_2024-05-07_15-55-31/PPO_CodersStrikeBackMulti_e82c2_00000_0_2024-05-07_15-55-32/checkpoint_000000)\n",
      "\u001b[2m\u001b[36m(pid=1823137)\u001b[0m DeprecationWarning: `DirectStepOptimizer` has been deprecated. This will raise an error in the future!\n",
      "\u001b[2m\u001b[36m(PPO pid=1822888)\u001b[0m 2024-05-07 15:56:10,989\tWARNING algorithm_config.py:2578 -- Setting `exploration_config={}` because you set `_enable_rl_module_api=True`. When RLModule API are enabled, exploration_config can not be set. If you want to implement custom exploration behaviour, please modify the `forward_exploration` method of the RLModule at hand. On configs that have a default exploration config, this must be done with `config.exploration_config={}`.\u001b[32m [repeated 3x across cluster] (Ray deduplicates logs by default. Set RAY_DEDUP_LOGS=0 to disable log deduplication, or see https://docs.ray.io/en/master/ray-observability/ray-logging.html#log-deduplication for more options.)\u001b[0m\n",
      "\u001b[2m\u001b[36m(PPO pid=1822888)\u001b[0m 2024-05-07 15:56:11,038\tWARNING deprecation.py:50 -- DeprecationWarning: `ValueNetworkMixin` has been deprecated. This will raise an error in the future!\n",
      "\u001b[2m\u001b[36m(PPO pid=1822888)\u001b[0m 2024-05-07 15:56:11,038\tWARNING deprecation.py:50 -- DeprecationWarning: `LearningRateSchedule` has been deprecated. This will raise an error in the future!\n",
      "\u001b[2m\u001b[36m(PPO pid=1822888)\u001b[0m 2024-05-07 15:56:11,038\tWARNING deprecation.py:50 -- DeprecationWarning: `EntropyCoeffSchedule` has been deprecated. This will raise an error in the future!\n",
      "\u001b[2m\u001b[36m(PPO pid=1822888)\u001b[0m 2024-05-07 15:56:11,038\tWARNING deprecation.py:50 -- DeprecationWarning: `KLCoeffMixin` has been deprecated. This will raise an error in the future!\n",
      "2024-05-07 15:58:39,843\tINFO tune.py:1143 -- Total run time: 187.83 seconds (187.31 seconds for the tuning loop).\n"
     ]
    },
    {
     "ename": "NameError",
     "evalue": "name 'result_grid' is not defined",
     "output_type": "error",
     "traceback": [
      "\u001b[0;31m---------------------------------------------------------------------------\u001b[0m",
      "\u001b[0;31mNameError\u001b[0m                                 Traceback (most recent call last)",
      "\u001b[0;32m/tmp/ipykernel_1821963/3546426259.py\u001b[0m in \u001b[0;36m<module>\u001b[0;34m\u001b[0m\n\u001b[1;32m     31\u001b[0m \u001b[0;34m\u001b[0m\u001b[0m\n\u001b[1;32m     32\u001b[0m \u001b[0mres\u001b[0m \u001b[0;34m=\u001b[0m \u001b[0mtuner\u001b[0m\u001b[0;34m.\u001b[0m\u001b[0mfit\u001b[0m\u001b[0;34m(\u001b[0m\u001b[0;34m)\u001b[0m\u001b[0;34m\u001b[0m\u001b[0;34m\u001b[0m\u001b[0m\n\u001b[0;32m---> 33\u001b[0;31m \u001b[0mresult_grid\u001b[0m\u001b[0;34m.\u001b[0m\u001b[0mget_best_result\u001b[0m\u001b[0;34m(\u001b[0m\u001b[0mmetric\u001b[0m\u001b[0;34m=\u001b[0m\u001b[0;34m\"loss\"\u001b[0m\u001b[0;34m,\u001b[0m \u001b[0mmode\u001b[0m\u001b[0;34m=\u001b[0m\u001b[0;34m\"min\"\u001b[0m\u001b[0;34m)\u001b[0m\u001b[0;34m\u001b[0m\u001b[0;34m\u001b[0m\u001b[0m\n\u001b[0m\u001b[1;32m     34\u001b[0m \u001b[0mbest_checkpoint\u001b[0m \u001b[0;34m=\u001b[0m \u001b[0mbest_result\u001b[0m\u001b[0;34m.\u001b[0m\u001b[0mcheckpoint\u001b[0m\u001b[0;34m\u001b[0m\u001b[0;34m\u001b[0m\u001b[0m\n",
      "\u001b[0;31mNameError\u001b[0m: name 'result_grid' is not defined"
     ]
    }
   ],
   "source": [
    "agent_ids = CodersStrikeBackMulti()._agent_ids\n",
    "sym_policies = {agent_id: f\"policy_{agent_ids[0]}\" for agent_id in agent_ids}  # Symmetric\n",
    "asym_policies = {agent_id: f\"policy_{agent_id}\" for agent_id in agent_ids}  # Asymmetric\n",
    "\n",
    "def policy_mapping_fn(agent_id, episode, worker, *, policies=None, **kwargs):\n",
    "    return policies[agent_id]\n",
    "\n",
    "\n",
    "policies = sym_policies\n",
    "policy_mapping = partial(policy_mapping_fn, policies=policies)\n",
    "\n",
    "config = (\n",
    "        PPOConfig()\n",
    "        .environment(CodersStrikeBackMulti)\n",
    "        .framework('torch')\n",
    "        .training(train_batch_size=1024, gamma=0.99)\n",
    "        .resources(num_gpus=0)\n",
    "        .rollouts(num_rollout_workers=3)\n",
    "        .multi_agent(policies=list(policies.values()),\n",
    "                     policy_mapping_fn=policy_mapping)\n",
    "    )\n",
    "\n",
    "stop = {\"timesteps_total\": 12000}\n",
    "\n",
    "# THE WAY OF CODING IS A BIT DIFFERENT HERE FROM THE SINGLE AGENT ONE.\n",
    "tuner = tune.Tuner(\n",
    "        \"PPO\",\n",
    "        param_space=config.to_dict(),\n",
    "        run_config=air.RunConfig(stop=stop),\n",
    "    )\n",
    "\n",
    "res = tuner.fit()\n",
    "res.get_best_result(metric=\"loss\", mode=\"min\")\n",
    "best_checkpoint = best_result.checkpoint\n"
   ]
  },
  {
   "cell_type": "code",
   "execution_count": 11,
   "id": "a092375f-709a-4a1c-9fec-849c4c6df84a",
   "metadata": {},
   "outputs": [],
   "source": [
    "res.get_best_result(metric=\"loss\", mode=\"min\")\n",
    "best_checkpoint = best_result.checkpoint"
   ]
  },
  {
   "cell_type": "markdown",
   "id": "75a997df-9e8f-4a7a-8494-de6e0f53fc16",
   "metadata": {},
   "source": [
    "# Play against the above trained strategy"
   ]
  },
  {
   "cell_type": "code",
   "execution_count": 27,
   "id": "66e63d65-9a19-4bb5-af70-2784d77db0a0",
   "metadata": {},
   "outputs": [],
   "source": [
    "import random \n",
    "\n",
    "class CSBSelfPlay(MultiAgentEnv):\n",
    "    def __init__(self):\n",
    "        # These are all the possible agents (main can play as team 0 and 1.  Old can only play team 1)\n",
    "        self.env = CodersStrikeBackMulti(dt=1)\n",
    "        self._agent_ids = []\n",
    "        for team in self.env.teams:\n",
    "            for car in range(self.env.num_racers_per_team):\n",
    "                self._agent_ids.append(f'main_{team}_{car}')\n",
    "                if team > 0:\n",
    "                    self._agent_ids.append(f'old_{team}_{car}')\n",
    "        # Override default action space so that it covers all possible strategies\n",
    "        self.observation_space = gym.spaces.Dict(make_agent_dictionary(self._agent_ids, self.env.ind_observation_space))\n",
    "        self.action_space = gym.spaces.Dict(make_agent_dictionary(self._agent_ids, self.env.ind_action_space))\n",
    "    \n",
    "    def reset(self, **kwargs):\n",
    "        self.create_competitor_pool()\n",
    "        return self.env.reset(**kwargs)\n",
    "\n",
    "    def create_competitor_pool(self):\n",
    "        selected_ids = []\n",
    "        policies = ['main'] + random.choices(['main','old'], weights=[0.8,0.2], k=self.env.num_teams-1)\n",
    "        for team in range(self.env.num_teams):\n",
    "            for car in range(self.env.num_racers_per_team):\n",
    "                selected_ids.append(f'{policies[team]}_{team}_{car}')\n",
    "        self.env._agent_ids = selected_ids\n",
    "        for i, racer in enumerate(self.env.racers):\n",
    "            racer.aid = selected_ids[i]\n",
    "\n",
    "    def step(self, **kwargs):\n",
    "        return self.env.step(**kwargs)"
   ]
  },
  {
   "cell_type": "code",
   "execution_count": 28,
   "id": "a3af4892-caa9-466a-a76d-1c3cac951d10",
   "metadata": {},
   "outputs": [],
   "source": [
    "env = CSBSelfPlay()"
   ]
  },
  {
   "cell_type": "code",
   "execution_count": 29,
   "id": "f7037172-7caf-4641-a8e5-aa48bb041039",
   "metadata": {},
   "outputs": [
    {
     "data": {
      "text/plain": [
       "['main_0_0', 'main_0_1', 'main_1_0', 'old_1_0', 'main_1_1', 'old_1_1']"
      ]
     },
     "execution_count": 29,
     "metadata": {},
     "output_type": "execute_result"
    }
   ],
   "source": [
    "env._agent_ids"
   ]
  },
  {
   "cell_type": "code",
   "execution_count": 40,
   "id": "1f01c92d-8974-4aad-8894-d1667106448c",
   "metadata": {},
   "outputs": [
    {
     "data": {
      "text/plain": [
       "({'main_0_0': array([ 3.00000000e+00, -2.72405712e+00,  9.81513763e+03,  1.01223473e+04,\n",
       "          0.00000000e+00,  0.00000000e+00,  7.30000000e+02,  6.09200000e+03,\n",
       "          1.19210000e+04,  6.66000000e+03,  1.02350000e+04,  8.37200000e+03,\n",
       "          7.30000000e+02,  6.09200000e+03,  1.19210000e+04,  6.66000000e+03]),\n",
       "  'main_0_1': array([ 3.00000000e+00, -2.84486058e+00,  1.00950459e+04,  8.95544909e+03,\n",
       "          0.00000000e+00,  0.00000000e+00,  7.30000000e+02,  6.09200000e+03,\n",
       "          1.19210000e+04,  6.66000000e+03,  1.02350000e+04,  8.37200000e+03,\n",
       "          7.30000000e+02,  6.09200000e+03,  1.19210000e+04,  6.66000000e+03]),\n",
       "  'old_1_0': array([ 3.00000000e+00, -2.96747351e+00,  1.03749541e+04,  7.78855091e+03,\n",
       "          0.00000000e+00,  0.00000000e+00,  7.30000000e+02,  6.09200000e+03,\n",
       "          1.19210000e+04,  6.66000000e+03,  1.02350000e+04,  8.37200000e+03,\n",
       "          7.30000000e+02,  6.09200000e+03,  1.19210000e+04,  6.66000000e+03]),\n",
       "  'old_1_1': array([ 3.00000000e+00, -3.08827698e+00,  1.06548624e+04,  6.62165272e+03,\n",
       "          0.00000000e+00,  0.00000000e+00,  7.30000000e+02,  6.09200000e+03,\n",
       "          1.19210000e+04,  6.66000000e+03,  1.02350000e+04,  8.37200000e+03,\n",
       "          7.30000000e+02,  6.09200000e+03,  1.19210000e+04,  6.66000000e+03])},\n",
       " {})"
      ]
     },
     "execution_count": 40,
     "metadata": {},
     "output_type": "execute_result"
    }
   ],
   "source": [
    "env.reset()"
   ]
  },
  {
   "cell_type": "code",
   "execution_count": null,
   "id": "c053e58f-c8d2-4730-b59a-2b7bcab82922",
   "metadata": {},
   "outputs": [],
   "source": []
  }
 ],
 "metadata": {
  "kernelspec": {
   "display_name": "Python 3 (ipykernel)",
   "language": "python",
   "name": "python3"
  },
  "language_info": {
   "codemirror_mode": {
    "name": "ipython",
    "version": 3
   },
   "file_extension": ".py",
   "mimetype": "text/x-python",
   "name": "python",
   "nbconvert_exporter": "python",
   "pygments_lexer": "ipython3",
   "version": "3.10.12"
  }
 },
 "nbformat": 4,
 "nbformat_minor": 5
}
